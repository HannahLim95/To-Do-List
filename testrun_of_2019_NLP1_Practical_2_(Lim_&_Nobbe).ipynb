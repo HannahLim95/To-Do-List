{
  "nbformat": 4,
  "nbformat_minor": 0,
  "metadata": {
    "colab": {
      "name": "testrun of 2019 NLP1 Practical 2 (Lim & Nobbe)",
      "provenance": [],
      "collapsed_sections": [],
      "toc_visible": true,
      "include_colab_link": true
    },
    "kernelspec": {
      "name": "python3",
      "display_name": "Python 3"
    },
    "accelerator": "GPU"
  },
  "cells": [
    {
      "cell_type": "markdown",
      "metadata": {
        "id": "view-in-github",
        "colab_type": "text"
      },
      "source": [
        "<a href=\"https://colab.research.google.com/github/HannahLim95/To-Do-List/blob/master/testrun_of_2019_NLP1_Practical_2_(Lim_%26_Nobbe).ipynb\" target=\"_parent\"><img src=\"https://colab.research.google.com/assets/colab-badge.svg\" alt=\"Open In Colab\"/></a>"
      ]
    },
    {
      "cell_type": "markdown",
      "metadata": {
        "id": "jILqpPLlE9r0",
        "colab_type": "text"
      },
      "source": [
        "# Practical 2: Encoding Sentences with Neural Models"
      ]
    },
    {
      "cell_type": "markdown",
      "metadata": {
        "id": "8JXOZ5uhQ8Qq",
        "colab_type": "text"
      },
      "source": [
        "In this practical we will train neural models to encode sentences, after which we can use our sentence representation for a downstream task such as sentiment classification. Rather than simply answering questions, like in the previous lab, **this time you are expected to write a four-page scientific report with your findings**. You will be judged by the quality of your report (see below). In this notebook, we will help you to develop models for your experiments. You do not have to hand in your answers, but please do include a link to a private Github gist with your code in your report as a footnote. \n",
        "\n",
        "### Data set\n",
        "We will make use of the [Stanford Sentiment Treebank](https://nlp.stanford.edu/sentiment/) (SST), which provides sentences, their tree structure, and (fine-grained) sentiment scores.\n",
        "This dataset is different from the one we used in the first practical. \n",
        "Before, a review consisted of several sentences, and we would have one sentiment score for it. Now, a review is a single sentence, for which we get a sentiment score. The special thing about our new data set is that we get a binary parse tree for each sentence, and a sentiment score has been assigned to each node in the tree. (We will look at an example below.)\n",
        "\n",
        "For the first part of this practical we will only make use of the tokens, but in the end we will also exploit the tree-structure that is provided!\n",
        "\n",
        "We will cover the following approaches:\n",
        "\n",
        "- Bag-of-words (BOW)\n",
        "- Continuous bag-of-words (CBOW)\n",
        "- Deep continuous bag-of-words (Deep CBOW)\n",
        "- LSTM\n",
        "- TreeLSTM\n"
      ]
    },
    {
      "cell_type": "markdown",
      "metadata": {
        "id": "bSmmXQoC8ebA",
        "colab_type": "text"
      },
      "source": [
        "### Important: Report \n",
        "\n",
        "The main purpose of this lab is for you to learn how to answer research questions by experimenting and then writing a scientific report.\n",
        "Your grade will be based on the quality of your report, not on the exercises in this notebook.\n",
        "You can find the requirements for the report at the end of this notebook."
      ]
    },
    {
      "cell_type": "markdown",
      "metadata": {
        "id": "YbNKef3lymaj",
        "colab_type": "text"
      },
      "source": [
        "## Preparing the data"
      ]
    },
    {
      "cell_type": "markdown",
      "metadata": {
        "id": "9jxTkpg59FlU",
        "colab_type": "text"
      },
      "source": [
        "Let's first download the data set and take a look."
      ]
    },
    {
      "cell_type": "code",
      "metadata": {
        "id": "WZp53HmMP3F2",
        "colab_type": "code",
        "colab": {}
      },
      "source": [
        "import re\n",
        "import random\n",
        "import time\n",
        "import math\n",
        "import numpy as np\n",
        "import nltk\n",
        "\n",
        "import matplotlib.pyplot as plt\n",
        "plt.style.use('default')\n",
        "# !pip install -q --upgrade ipython\n",
        "# !pip install -q --upgrade ipykernel"
      ],
      "execution_count": 0,
      "outputs": []
    },
    {
      "cell_type": "code",
      "metadata": {
        "id": "TovFkDTgE_d6",
        "colab_type": "code",
        "outputId": "fbab4eb5-8466-48aa-9343-26b088d51aea",
        "colab": {
          "base_uri": "https://localhost:8080/",
          "height": 323
        }
      },
      "source": [
        "!wget http://nlp.stanford.edu/sentiment/trainDevTestTrees_PTB.zip\n",
        "!unzip trainDevTestTrees_PTB.zip"
      ],
      "execution_count": 2,
      "outputs": [
        {
          "output_type": "stream",
          "text": [
            "--2019-12-10 13:16:01--  http://nlp.stanford.edu/sentiment/trainDevTestTrees_PTB.zip\n",
            "Resolving nlp.stanford.edu (nlp.stanford.edu)... 302 Found\n",
            "Location: https://nlp.stanford.edu/sentiment/trainDevTestTrees_PTB.zip [following]\n",
            "--2019-12-10 13:16:06--  https://nlp.stanford.edu/sentiment/trainDevTestTrees_PTB.zip\n",
            "Connecting to nlp.stanford.edu (nlp.stanford.edu)|171.64.67.140|:443... connected.\n",
            "HTTP request sent, awaiting response... 200 OK\n",
            "Length: 789539 (771K) [application/zip]\n",
            "Saving to: ‘trainDevTestTrees_PTB.zip’\n",
            "\n",
            "trainDevTestTrees_P 100%[===================>] 771.03K   452KB/s    in 1.7s    \n",
            "\n",
            "2019-12-10 13:16:08 (452 KB/s) - ‘trainDevTestTrees_PTB.zip’ saved [789539/789539]\n",
            "\n",
            "Archive:  trainDevTestTrees_PTB.zip\n",
            "   creating: trees/\n",
            "  inflating: trees/dev.txt           \n",
            "  inflating: trees/test.txt          \n",
            "  inflating: trees/train.txt         \n"
          ],
          "name": "stdout"
        }
      ]
    },
    {
      "cell_type": "code",
      "metadata": {
        "id": "0IpAphkBO5eW",
        "colab_type": "code",
        "colab": {}
      },
      "source": [
        "# this function reads in a textfile and fixes an issue with \\\\\n",
        "def filereader(path): \n",
        "  with open(path, mode=\"r\", encoding=\"utf-8\") as f:\n",
        "    for line in f:\n",
        "      yield line.strip().replace(\"\\\\\",\"\")"
      ],
      "execution_count": 0,
      "outputs": []
    },
    {
      "cell_type": "code",
      "metadata": {
        "id": "ylkIopm0QJML",
        "colab_type": "code",
        "outputId": "5047e192-3ca3-4167-a528-1668dd833570",
        "colab": {
          "base_uri": "https://localhost:8080/",
          "height": 54
        }
      },
      "source": [
        "# Let's look at a data point.\n",
        "# If you look closely you will find that this is a flattened tree, \n",
        "# with sentiment scores at every node, and words as the leaves.\n",
        "s = next(filereader(\"trees/dev.txt\"))\n",
        "print(s)"
      ],
      "execution_count": 4,
      "outputs": [
        {
          "output_type": "stream",
          "text": [
            "(3 (2 It) (4 (4 (2 's) (4 (3 (2 a) (4 (3 lovely) (2 film))) (3 (2 with) (4 (3 (3 lovely) (2 performances)) (2 (2 by) (2 (2 (2 Buy) (2 and)) (2 Accorsi))))))) (2 .)))\n"
          ],
          "name": "stdout"
        }
      ]
    },
    {
      "cell_type": "code",
      "metadata": {
        "id": "7_U7HTFwdrWt",
        "colab_type": "code",
        "outputId": "5681b47c-dd87-4436-f52a-2ab5dfdbf8a4",
        "colab": {
          "base_uri": "https://localhost:8080/",
          "height": 391
        }
      },
      "source": [
        "# We can use NLTK to print the tree structure more nicely\n",
        "from nltk import Tree\n",
        "from nltk.treeprettyprinter import TreePrettyPrinter\n",
        "tree = Tree.fromstring(s)\n",
        "print(TreePrettyPrinter(tree))"
      ],
      "execution_count": 5,
      "outputs": [
        {
          "output_type": "stream",
          "text": [
            "              3                                                                     \n",
            "  ____________|____________________                                                  \n",
            " |                                 4                                                \n",
            " |        _________________________|______________________________________________   \n",
            " |       4                                                                        | \n",
            " |    ___|______________                                                          |  \n",
            " |   |                  4                                                         | \n",
            " |   |         _________|__________                                               |  \n",
            " |   |        |                    3                                              | \n",
            " |   |        |               _____|______________________                        |  \n",
            " |   |        |              |                            4                       | \n",
            " |   |        |              |            ________________|_______                |  \n",
            " |   |        |              |           |                        2               | \n",
            " |   |        |              |           |                 _______|___            |  \n",
            " |   |        3              |           |                |           2           | \n",
            " |   |    ____|_____         |           |                |        ___|_____      |  \n",
            " |   |   |          4        |           3                |       2         |     | \n",
            " |   |   |     _____|___     |      _____|_______         |    ___|___      |     |  \n",
            " 2   2   2    3         2    2     3             2        2   2       2     2     2 \n",
            " |   |   |    |         |    |     |             |        |   |       |     |     |  \n",
            " It  's  a  lovely     film with lovely     performances  by Buy     and Accorsi  . \n",
            "\n"
          ],
          "name": "stdout"
        }
      ]
    },
    {
      "cell_type": "markdown",
      "metadata": {
        "id": "ekAWKsji9t93",
        "colab_type": "text"
      },
      "source": [
        "You can see the sentiment annotations here **at every node**! 0 is very negative, 4 is very positive. For now, we will only use the sentiment score at the **root node**; this is the score for the complete sentence."
      ]
    },
    {
      "cell_type": "code",
      "metadata": {
        "id": "DKynLm0xPKr2",
        "colab_type": "code",
        "outputId": "6a8004d7-668d-4938-b2b4-66a61e058b7c",
        "colab": {
          "base_uri": "https://localhost:8080/",
          "height": 51
        }
      },
      "source": [
        "# Let's first make a function that extracts the tokens (the leaves).\n",
        "\n",
        "def tokens_from_treestring(s):\n",
        "  \"\"\"extract the tokens from a sentiment tree\"\"\"\n",
        "  return re.sub(r\"\\([0-9] |\\)\", \"\", s).split()\n",
        " \n",
        "# let's try it on our example tree\n",
        "tokens = tokens_from_treestring(s)\n",
        "print(tokens)\n",
        "print(len(tokens))"
      ],
      "execution_count": 6,
      "outputs": [
        {
          "output_type": "stream",
          "text": [
            "['It', \"'s\", 'a', 'lovely', 'film', 'with', 'lovely', 'performances', 'by', 'Buy', 'and', 'Accorsi', '.']\n",
            "13\n"
          ],
          "name": "stdout"
        }
      ]
    },
    {
      "cell_type": "code",
      "metadata": {
        "id": "aeqEOrRdQ1Mg",
        "colab_type": "code",
        "colab": {}
      },
      "source": [
        "# recursive function to get the amount of children in the longest path\n",
        "def get_all_children(tree, count):\n",
        "  if tree == None:\n",
        "    return count\n",
        "  elif len(tree)==2:\n",
        "    count+=1\n",
        "    if len(tree[0].flatten()) > len(tree[1].flatten()):\n",
        "      new_tree = tree[0]\n",
        "      count = get_all_children(new_tree, count)\n",
        "    elif len(tree[1].flatten()) > len(tree[0].flatten()):\n",
        "      new_tree = tree[1]\n",
        "      count = get_all_children(new_tree, count)\n",
        "    return count\n",
        "\n",
        "# function to get the longest path length of tree \n",
        "def get_pathlength(tree):\n",
        "  return get_all_children(tree, 0)"
      ],
      "execution_count": 0,
      "outputs": []
    },
    {
      "cell_type": "markdown",
      "metadata": {
        "id": "B8vFkeqN-NLP",
        "colab_type": "text"
      },
      "source": [
        "> *Warning: you could also parse a treestring using NLTK and ask it to return the leaves, but there seems to be an issue with NLTK not always correctly parsing the input, so do not rely on it.*"
      ]
    },
    {
      "cell_type": "code",
      "metadata": {
        "id": "Akr9K_Mv4dym",
        "colab_type": "code",
        "colab": {}
      },
      "source": [
        "# We will also need the following function, but you can ignore this for now.\n",
        "# It is explained later on.\n",
        "\n",
        "SHIFT = 0\n",
        "REDUCE = 1\n",
        "\n",
        "\n",
        "def transitions_from_treestring(s):\n",
        "  s = re.sub(\"\\([0-5] ([^)]+)\\)\", \"0\", s)\n",
        "  s = re.sub(\"\\)\", \" )\", s)\n",
        "  s = re.sub(\"\\([0-4] \", \"\", s)\n",
        "  s = re.sub(\"\\([0-4] \", \"\", s)\n",
        "  s = re.sub(\"\\)\", \"1\", s)\n",
        "  return list(map(int, s.split()))"
      ],
      "execution_count": 0,
      "outputs": []
    },
    {
      "cell_type": "code",
      "metadata": {
        "id": "mNtPdlwPgRat",
        "colab_type": "code",
        "outputId": "054a628d-fafe-486f-f26a-fd29681966bf",
        "colab": {
          "base_uri": "https://localhost:8080/",
          "height": 68
        }
      },
      "source": [
        "# Now let's first see how large our data sets are.\n",
        "for path in (\"trees/train.txt\", \"trees/dev.txt\", \"trees/test.txt\"):\n",
        "  print(\"{:16s} {:4d}\".format(path, sum(1 for _ in filereader(path))))"
      ],
      "execution_count": 9,
      "outputs": [
        {
          "output_type": "stream",
          "text": [
            "trees/train.txt  8544\n",
            "trees/dev.txt    1101\n",
            "trees/test.txt   2210\n"
          ],
          "name": "stdout"
        }
      ]
    },
    {
      "cell_type": "markdown",
      "metadata": {
        "id": "HexlSqTR_UrY",
        "colab_type": "text"
      },
      "source": [
        "You can see that this data set is not very large! That's probably because it required so much manual annotation. However, it's large enough to train a neural network on.\n",
        "\n",
        "It will be useful to store each data example in an `Example` object,\n",
        "containing everything that we may need for each data point.\n",
        "It will contain the tokens, the tree, the top-level sentiment label, and \n",
        "the transitions (explained later)."
      ]
    },
    {
      "cell_type": "code",
      "metadata": {
        "id": "Ig0IAM_WRlH5",
        "colab_type": "code",
        "outputId": "539b0597-cd95-4dda-8436-b2ff4ca5f272",
        "colab": {
          "base_uri": "https://localhost:8080/",
          "height": 122
        }
      },
      "source": [
        "from google.colab import drive\n",
        "drive.mount('/content/drive')"
      ],
      "execution_count": 10,
      "outputs": [
        {
          "output_type": "stream",
          "text": [
            "Go to this URL in a browser: https://accounts.google.com/o/oauth2/auth?client_id=947318989803-6bn6qk8qdgf4n4g3pfee6491hc0brc4i.apps.googleusercontent.com&redirect_uri=urn%3aietf%3awg%3aoauth%3a2.0%3aoob&response_type=code&scope=email%20https%3a%2f%2fwww.googleapis.com%2fauth%2fdocs.test%20https%3a%2f%2fwww.googleapis.com%2fauth%2fdrive%20https%3a%2f%2fwww.googleapis.com%2fauth%2fdrive.photos.readonly%20https%3a%2f%2fwww.googleapis.com%2fauth%2fpeopleapi.readonly\n",
            "\n",
            "Enter your authorization code:\n",
            "··········\n",
            "Mounted at /content/drive\n"
          ],
          "name": "stdout"
        }
      ]
    },
    {
      "cell_type": "code",
      "metadata": {
        "id": "4I07Hb_-q8wg",
        "colab_type": "code",
        "outputId": "b2861d5b-7e0e-4738-8f23-5ea4ba85e951",
        "colab": {
          "base_uri": "https://localhost:8080/",
          "height": 68
        }
      },
      "source": [
        "from collections import namedtuple\n",
        "from nltk import Tree\n",
        "\n",
        "# A simple way to define a class is using namedtuple.\n",
        "Example = namedtuple(\"Example\", [\"tokens\", \"tree\", \"label\", \"transitions\"])\n",
        "Data_info = namedtuple\n",
        "   \n",
        "def examplereader(path, lower=False):\n",
        "  \"\"\"Returns all examples in a file one by one.\"\"\"\n",
        "  list_of_lengths = []\n",
        "  list_of_depths = []\n",
        "  for line in filereader(path):\n",
        "    line = line.lower() if lower else line\n",
        "    tokens = tokens_from_treestring(line)\n",
        "    tree = Tree.fromstring(line)  # use NLTK's Tree\n",
        "    label = int(line[1])\n",
        "    trans = transitions_from_treestring(line)\n",
        "    list_of_lengths.append(len(tokens))\n",
        "    list_of_depths.append(get_pathlength(tree))\n",
        "    yield Example(tokens=tokens, tree=tree, label=label, transitions=trans)\n",
        "    \n",
        "  \n",
        "\n",
        "# Let's load the data into memory.\n",
        "LOWER = False  # we will keep the original casing\n",
        "train_data = list(examplereader(\"trees/train.txt\", lower=LOWER))\n",
        "dev_data = list(examplereader(\"trees/dev.txt\", lower=LOWER))\n",
        "test_data = list(examplereader(\"trees/test.txt\", lower=LOWER))\n",
        "\n",
        "print(\"train\", len(train_data))\n",
        "print(\"dev\", len(dev_data))\n",
        "print(\"test\", len(test_data))"
      ],
      "execution_count": 11,
      "outputs": [
        {
          "output_type": "stream",
          "text": [
            "train 8544\n",
            "dev 1101\n",
            "test 2210\n"
          ],
          "name": "stdout"
        }
      ]
    },
    {
      "cell_type": "code",
      "metadata": {
        "id": "YT2NEhWMSk0d",
        "colab_type": "code",
        "colab": {}
      },
      "source": [
        "def lengthreader(path, lower=False):\n",
        "  \"\"\"Returns all examples in a file one by one.\"\"\"\n",
        "  list_of_lengths = []\n",
        "  list_of_depths = []\n",
        "  for line in filereader(path):\n",
        "    line = line.lower() if lower else line\n",
        "    tokens = tokens_from_treestring(line)\n",
        "    tree = Tree.fromstring(line)  # use NLTK's Tree\n",
        "    trans = transitions_from_treestring(line)\n",
        "    if len(tokens) > 15 and len(tokens) < 35:\n",
        "      list_of_lengths.append(len(tokens))\n",
        "      list_of_depths.append(get_pathlength(tree))\n",
        "  return list_of_lengths, list_of_depths\n",
        "\n",
        "train_lengths, train_depths = lengthreader(\"trees/train.txt\", lower=LOWER)\n",
        "dev_lengths, dev_depths = lengthreader(\"trees/dev.txt\", lower=LOWER)\n",
        "test_lengths, test_depths = lengthreader(\"trees/test.txt\", lower=LOWER) "
      ],
      "execution_count": 0,
      "outputs": []
    },
    {
      "cell_type": "code",
      "metadata": {
        "id": "jAXhza4hTC2B",
        "colab_type": "code",
        "outputId": "4288c218-e37d-4df6-cce2-32125719e10f",
        "colab": {
          "base_uri": "https://localhost:8080/",
          "height": 180
        }
      },
      "source": [
        "# plt.plot(train_lengths, train_depths, '.')\n",
        "# average_depth_at_10 = sum(train_depths)/len(train_depths)\n",
        "# average_depth_at_30\n",
        "# average_depth_at_2030\n",
        "# average_depth_at_1020\n",
        "# average_ratio_at_10\n",
        "# average_ratio_at_1020\n",
        "# average_ratio_at_2030\n",
        "# average_ratio_at_30\n",
        "plt.plot([average_depth_at_10, average_depth_at_1020, average_depth_at_2030, average_depth_at_30])\n",
        "plt.show()"
      ],
      "execution_count": 0,
      "outputs": [
        {
          "output_type": "error",
          "ename": "NameError",
          "evalue": "ignored",
          "traceback": [
            "\u001b[0;31m---------------------------------------------------------------------------\u001b[0m",
            "\u001b[0;31mNameError\u001b[0m                                 Traceback (most recent call last)",
            "\u001b[0;32m<ipython-input-51-bd79adf6ac49>\u001b[0m in \u001b[0;36m<module>\u001b[0;34m()\u001b[0m\n\u001b[0;32m----> 1\u001b[0;31m \u001b[0mplt\u001b[0m\u001b[0;34m.\u001b[0m\u001b[0mplot\u001b[0m\u001b[0;34m(\u001b[0m\u001b[0;34m[\u001b[0m\u001b[0maverage_depth_at_10\u001b[0m\u001b[0;34m,\u001b[0m \u001b[0maverage_depth_at_1020\u001b[0m\u001b[0;34m,\u001b[0m \u001b[0maverage_depth_at_2030\u001b[0m\u001b[0;34m,\u001b[0m \u001b[0maverage_depth_at_30\u001b[0m\u001b[0;34m]\u001b[0m\u001b[0;34m)\u001b[0m\u001b[0;34m\u001b[0m\u001b[0;34m\u001b[0m\u001b[0m\n\u001b[0m\u001b[1;32m      2\u001b[0m \u001b[0mplt\u001b[0m\u001b[0;34m.\u001b[0m\u001b[0mshow\u001b[0m\u001b[0;34m(\u001b[0m\u001b[0;34m)\u001b[0m\u001b[0;34m\u001b[0m\u001b[0;34m\u001b[0m\u001b[0m\n",
            "\u001b[0;31mNameError\u001b[0m: name 'average_depth_at_10' is not defined"
          ]
        }
      ]
    },
    {
      "cell_type": "code",
      "metadata": {
        "colab_type": "code",
        "id": "zEFJ4gJJeaP1",
        "outputId": "7bbea4e3-7f3f-45a3-edfb-334f4d770bc6",
        "colab": {
          "base_uri": "https://localhost:8080/",
          "height": 464
        }
      },
      "source": [
        "train_ratios = [train_depth / train_length for train_depth, train_length in zip(train_depths, train_lengths)]\n",
        "test_ratios = [test_depth / test_length  for test_depth, test_length in zip(test_depths, test_lengths)]\n",
        "\n",
        "average_test_ratio = sum(test_ratios)/len(test_ratios)\n",
        "average_train_ratio = sum(train_ratios) / len(train_ratios)\n",
        "plt.plot(train_lengths, train_ratios, '.', alpha = 0.01)\n",
        "# plt.hist(train_ratios, bins = 50)\n",
        "plt.show()\n",
        "print(average_test_ratio)\n",
        "print(average_train_ratio)"
      ],
      "execution_count": 0,
      "outputs": [
        {
          "output_type": "display_data",
          "data": {
            "image/png": "[encoded data removed]",
            "text/plain": [
              "<Figure size 640x480 with 1 Axes>"
            ]
          },
          "metadata": {
            "tags": []
          }
        },
        {
          "output_type": "stream",
          "text": [
            "0.46507371704777384\n",
            "0.46504578047932205\n"
          ],
          "name": "stdout"
        }
      ]
    },
    {
      "cell_type": "code",
      "metadata": {
        "id": "qyeLQ_RKCGTL",
        "colab_type": "code",
        "outputId": "b4d37075-993b-4e43-fb6c-61ef59a18896",
        "colab": {
          "base_uri": "https://localhost:8080/",
          "height": 68
        }
      },
      "source": [
        "from collections import namedtuple\n",
        "from nltk import Tree\n",
        "\n",
        "# DATASET CONTAINING ALL NODES OF EVERY TREE\n",
        "\n",
        "# A simple way to define a class is using namedtuple.\n",
        "Example = namedtuple(\"Example\", [\"tokens\", \"tree\", \"label\", \"transitions\"])\n",
        "\n",
        "def traverse(t, new_dataset):\n",
        "    try:\n",
        "      t.label()\n",
        "    except AttributeError:\n",
        "      return\n",
        "    else:\n",
        "      if t.height() == 2:   #child nodes\n",
        "        new_tree = t\n",
        "        new_dataset.append(new_tree)\n",
        "      elif t.height() > 2:\n",
        "        new_tree = Tree(t.label(), [t[0], t[1]])\n",
        "        new_dataset.append(new_tree)\n",
        "      for child in t:\n",
        "        traverse(child, new_dataset)\n",
        "      return new_dataset\n",
        "\n",
        "def examplereader_allnodes(path, lower=False):\n",
        "  \"\"\"Returns all examples in a file one by one.\"\"\"\n",
        "  for line in filereader(path):\n",
        "    line = line.lower() if lower else line\n",
        "    tree = Tree.fromstring(line)  # use NLTK's Tree\n",
        "    empty_list = []\n",
        "    new_dataset = traverse(tree, empty_list)\n",
        "    for i in range(len(new_dataset)):\n",
        "      line = ' '.join(str(new_dataset[i]).split()) \n",
        "      tokens = tokens_from_treestring(line)\n",
        "      tree = Tree.fromstring(line)\n",
        "      label = int(line[1])\n",
        "      trans = transitions_from_treestring(line)\n",
        "      yield Example(tokens=tokens, tree=tree, label=label, transitions=trans)\n",
        "\n",
        "# Let's load the data into memory.\n",
        "LOWER = False  # we will keep the original casing\n",
        "train_data_allnodes = list(examplereader_allnodes(\"trees/train.txt\", lower=LOWER))\n",
        "dev_data_allnodes = list(examplereader_allnodes(\"trees/dev.txt\", lower=LOWER))\n",
        "test_data_allnodes = list(examplereader_allnodes(\"trees/test.txt\", lower=LOWER))\n",
        "\n",
        "print(\"train_allnodes\", len(train_data_allnodes))\n",
        "print(\"dev_allnodes\", len(dev_data_allnodes))\n",
        "print(\"test_allnodes\", len(test_data_allnodes))\n"
      ],
      "execution_count": 0,
      "outputs": [
        {
          "output_type": "stream",
          "text": [
            "train_allnodes 318582\n",
            "dev_allnodes 41447\n",
            "test_allnodes 82600\n"
          ],
          "name": "stdout"
        }
      ]
    },
    {
      "cell_type": "code",
      "metadata": {
        "id": "mShdbw7dDUMo",
        "colab_type": "code",
        "outputId": "deb74af7-0e82-47a1-c891-394ab0997563",
        "colab": {
          "base_uri": "https://localhost:8080/",
          "height": 68
        }
      },
      "source": [
        "from collections import namedtuple\n",
        "from nltk import Tree\n",
        "\n",
        "# DATASET CONTAINING ONLY SENTENCES SMALLER THAN 11.  \n",
        "\n",
        "# A simple way to define a class is using namedtuple.\n",
        "Example = namedtuple(\"Example\", [\"tokens\", \"tree\", \"label\", \"transitions\"])\n",
        "\n",
        "def examplereader_len10(path, lower=False):\n",
        "  \"\"\"Returns all examples in a file one by one.\"\"\"\n",
        "  for line in filereader(path):\n",
        "    line = line.lower() if lower else line\n",
        "    tokens = tokens_from_treestring(line)\n",
        "    if len(tokens) < 11:\n",
        "      tree = Tree.fromstring(line)  # use NLTK's Tree\n",
        "      label = int(line[1])\n",
        "      trans = transitions_from_treestring(line)\n",
        "      yield Example(tokens=tokens, tree=tree, label=label, transitions=trans)\n",
        "    else:\n",
        "      continue\n",
        "\n",
        "# Let's load the data into memory.\n",
        "LOWER = False  # we will keep the original casing\n",
        "train_data_len10 = list(examplereader_len10(\"trees/train.txt\", lower=LOWER))\n",
        "dev_data_len10 = list(examplereader_len10(\"trees/dev.txt\", lower=LOWER))\n",
        "test_data_len10 = list(examplereader_len10(\"trees/test.txt\", lower=LOWER))\n",
        "\n",
        "print(\"train_data_len10\", len(train_data_len10))\n",
        "print(\"dev_data_len10\", len(dev_data_len10))\n",
        "print(\"test_data_len10\", len(test_data_len10))"
      ],
      "execution_count": 0,
      "outputs": [
        {
          "output_type": "stream",
          "text": [
            "train_data_len10 1682\n",
            "dev_data_len10 200\n",
            "test_data_len10 432\n"
          ],
          "name": "stdout"
        }
      ]
    },
    {
      "cell_type": "code",
      "metadata": {
        "id": "nYaIqNAPDWJa",
        "colab_type": "code",
        "outputId": "a440537d-bd32-45ea-be05-7695f0c94943",
        "colab": {
          "base_uri": "https://localhost:8080/",
          "height": 68
        }
      },
      "source": [
        "from collections import namedtuple\n",
        "from nltk import Tree\n",
        "\n",
        "# DATASET CONTAINING ONLY SENTENCES BETWEEN 11 AND 20\n",
        "\n",
        "# A simple way to define a class is using namedtuple.\n",
        "Example = namedtuple(\"Example\", [\"tokens\", \"tree\", \"label\", \"transitions\"])\n",
        "\n",
        "def examplereader_len1020(path, lower=False):\n",
        "  \"\"\"Returns all examples in a file one by one.\"\"\"\n",
        "  for line in filereader(path):\n",
        "    line = line.lower() if lower else line\n",
        "    tokens = tokens_from_treestring(line)\n",
        "    if len(tokens) < 21 and len(tokens) > 10:\n",
        "      tree = Tree.fromstring(line)  # use NLTK's Tree\n",
        "      label = int(line[1])\n",
        "      trans = transitions_from_treestring(line)\n",
        "      yield Example(tokens=tokens, tree=tree, label=label, transitions=trans)\n",
        "    else:\n",
        "      continue\n",
        "\n",
        "# Let's load the data into memory.\n",
        "LOWER = False  # we will keep the original casing\n",
        "train_data_len1020 = list(examplereader_len1020(\"trees/train.txt\", lower=LOWER))\n",
        "dev_data_len1020 = list(examplereader_len1020(\"trees/dev.txt\", lower=LOWER))\n",
        "test_data_len1020 = list(examplereader_len1020(\"trees/test.txt\", lower=LOWER))\n",
        "\n",
        "print(\"train_data_len1020\", len(train_data_len1020))\n",
        "print(\"dev_data_len1020\", len(dev_data_len1020))\n",
        "print(\"test_data_len1020\", len(test_data_len1020))"
      ],
      "execution_count": 0,
      "outputs": [
        {
          "output_type": "stream",
          "text": [
            "train_data_len1020 3298\n",
            "dev_data_len1020 433\n",
            "test_data_len1020 848\n"
          ],
          "name": "stdout"
        }
      ]
    },
    {
      "cell_type": "code",
      "metadata": {
        "id": "iFEu6WrMDtnd",
        "colab_type": "code",
        "outputId": "07d3777d-8593-4103-b374-d403be70e879",
        "colab": {
          "base_uri": "https://localhost:8080/",
          "height": 68
        }
      },
      "source": [
        "from collections import namedtuple\n",
        "from nltk import Tree\n",
        "\n",
        "# DATASET CONTAINING ONLY SENTENCES BETWEEN 21 AND 30\n",
        "\n",
        "# A simple way to define a class is using namedtuple.\n",
        "Example = namedtuple(\"Example\", [\"tokens\", \"tree\", \"label\", \"transitions\"])\n",
        "\n",
        "def examplereader_len2030(path, lower=False):\n",
        "  \"\"\"Returns all examples in a file one by one.\"\"\"\n",
        "  for line in filereader(path):\n",
        "    line = line.lower() if lower else line\n",
        "    tokens = tokens_from_treestring(line)\n",
        "    if len(tokens) < 31 and len(tokens) > 20:\n",
        "      tree = Tree.fromstring(line)  # use NLTK's Tree\n",
        "      label = int(line[1])\n",
        "      trans = transitions_from_treestring(line)\n",
        "      yield Example(tokens=tokens, tree=tree, label=label, transitions=trans)\n",
        "    else:\n",
        "      continue\n",
        "\n",
        "# Let's load the data into memory.\n",
        "LOWER = False  # we will keep the original casing\n",
        "train_data_len2030 = list(examplereader_len2030(\"trees/train.txt\", lower=LOWER))\n",
        "dev_data_len2030 = list(examplereader_len2030(\"trees/dev.txt\", lower=LOWER))\n",
        "test_data_len2030 = list(examplereader_len2030(\"trees/test.txt\", lower=LOWER))\n",
        "\n",
        "print(\"train_data_len2030\", len(train_data_len2030))\n",
        "print(\"dev_data_len2030\", len(dev_data_len2030))\n",
        "print(\"test_data_len2030\", len(test_data_len2030))"
      ],
      "execution_count": 0,
      "outputs": [
        {
          "output_type": "stream",
          "text": [
            "train_data_len2030 2489\n",
            "dev_data_len2030 335\n",
            "test_data_len2030 675\n"
          ],
          "name": "stdout"
        }
      ]
    },
    {
      "cell_type": "code",
      "metadata": {
        "id": "ix-7e1-AD1D0",
        "colab_type": "code",
        "outputId": "c4315454-793c-46da-c539-e23b880ef28b",
        "colab": {
          "base_uri": "https://localhost:8080/",
          "height": 68
        }
      },
      "source": [
        "from collections import namedtuple\n",
        "from nltk import Tree\n",
        "\n",
        "# DATASET CONTAINING ONLY SENTENCES BIGGER THAN 30\n",
        "\n",
        "# A simple way to define a class is using namedtuple.\n",
        "Example = namedtuple(\"Example\", [\"tokens\", \"tree\", \"label\", \"transitions\"])\n",
        "\n",
        "def examplereader_len30(path, lower=False):\n",
        "  \"\"\"Returns all examples in a file one by one.\"\"\"\n",
        "  for line in filereader(path):\n",
        "    line = line.lower() if lower else line\n",
        "    tokens = tokens_from_treestring(line)\n",
        "    if len(tokens) > 30:\n",
        "      tree = Tree.fromstring(line)  # use NLTK's Tree\n",
        "      label = int(line[1])\n",
        "      trans = transitions_from_treestring(line)\n",
        "      yield Example(tokens=tokens, tree=tree, label=label, transitions=trans)\n",
        "    else:\n",
        "      continue\n",
        "\n",
        "# Let's load the data into memory.\n",
        "LOWER = False  # we will keep the original casing\n",
        "train_data_len30 = list(examplereader_len30(\"trees/train.txt\", lower=LOWER))\n",
        "dev_data_len30 = list(examplereader_len30(\"trees/dev.txt\", lower=LOWER))\n",
        "test_data_len30 = list(examplereader_len30(\"trees/test.txt\", lower=LOWER))\n",
        "\n",
        "print(\"train_data_len30\", len(train_data_len30))\n",
        "print(\"dev_data_len30\", len(dev_data_len30))\n",
        "print(\"test_data_len30\", len(test_data_len30))"
      ],
      "execution_count": 0,
      "outputs": [
        {
          "output_type": "stream",
          "text": [
            "train_data_len30 1075\n",
            "dev_data_len30 133\n",
            "test_data_len30 255\n"
          ],
          "name": "stdout"
        }
      ]
    },
    {
      "cell_type": "code",
      "metadata": {
        "id": "PnEe5e6TLYQb",
        "colab_type": "code",
        "outputId": "258c3961-274d-4256-b37c-417d9f833d60",
        "colab": {
          "base_uri": "https://localhost:8080/",
          "height": 68
        }
      },
      "source": [
        "# from collections import namedtuple\n",
        "# from nltk import Tree\n",
        "\n",
        "# # DATASET ONLY CONTAINING SENTENCES WITH A TREEDEPTH SMALLER THAN 7\n",
        "# # A simple way to define a class is using namedtuple.\n",
        "# Example = namedtuple(\"Example\", [\"tokens\", \"tree\", \"label\", \"transitions\"])\n",
        "\n",
        "# def examplereader_pathlength7(path, lower=False):\n",
        "#   \"\"\"Returns all examples in a file one by one.\"\"\"\n",
        "#   for line in filereader(path):\n",
        "#     line = line.lower() if lower else line\n",
        "#     tokens = tokens_from_treestring(line)\n",
        "#     tree = Tree.fromstring(line)  # use NLTK's Tree\n",
        "#     path_length = get_pathlength(tree)\n",
        "#     if path_length < 7:\n",
        "#       label = int(line[1])\n",
        "#       trans = transitions_from_treestring(line)\n",
        "#       yield Example(tokens=tokens, tree=tree, label=label, transitions=trans)\n",
        "#     else:\n",
        "#       continue\n",
        "\n",
        "# # Let's load the data into memory.\n",
        "# LOWER = False  # we will keep the original casing\n",
        "# train_data_pathlength7 = list(examplereader_pathlength7(\"trees/train.txt\", lower=LOWER))\n",
        "# dev_data_pathlength7 = list(examplereader_pathlength7(\"trees/dev.txt\", lower=LOWER))\n",
        "# test_data_pathlength7 = list(examplereader_pathlength7(\"trees/test.txt\", lower=LOWER))\n",
        "\n",
        "# print(\"train_data_pathlength7\", len(train_data_pathlength7))\n",
        "# print(\"dev_data_pathlength7\", len(dev_data_pathlength7))\n",
        "# print(\"test_data_pathlength7\", len(test_data_pathlength7))\n"
      ],
      "execution_count": 0,
      "outputs": [
        {
          "output_type": "stream",
          "text": [
            "train_data_pathlength7 2343\n",
            "dev_data_pathlength7 285\n",
            "test_data_pathlength7 607\n"
          ],
          "name": "stdout"
        }
      ]
    },
    {
      "cell_type": "code",
      "metadata": {
        "id": "4UQCea4KLpLs",
        "colab_type": "code",
        "outputId": "cea4e566-24fd-48cc-9418-7ce9e4d49224",
        "colab": {
          "base_uri": "https://localhost:8080/",
          "height": 68
        }
      },
      "source": [
        "# from collections import namedtuple\n",
        "# from nltk import Tree\n",
        "\n",
        "# # DATASET ONLY CONTAINING SENTENCES WITH A TREEDEPTH BETWEEN 7 AND 11\n",
        "# # A simple way to define a class is using namedtuple.\n",
        "# Example = namedtuple(\"Example\", [\"tokens\", \"tree\", \"label\", \"transitions\"])\n",
        "\n",
        "# def examplereader_pathlength7_11(path, lower=False):\n",
        "#   \"\"\"Returns all examples in a file one by one.\"\"\"\n",
        "#   for line in filereader(path):\n",
        "#     line = line.lower() if lower else line\n",
        "#     tokens = tokens_from_treestring(line)\n",
        "#     tree = Tree.fromstring(line)  # use NLTK's Tree\n",
        "#     path_length = get_pathlength(tree)\n",
        "#     if path_length > 7 and path_length < 11:\n",
        "#       label = int(line[1])\n",
        "#       trans = transitions_from_treestring(line)\n",
        "#       yield Example(tokens=tokens, tree=tree, label=label, transitions=trans)\n",
        "#     else:\n",
        "#       continue\n",
        "\n",
        "# # Let's load the data into memory.\n",
        "# LOWER = False  # we will keep the original casing\n",
        "# train_data_pathlength7_11 = list(examplereader_pathlength7_11(\"trees/train.txt\", lower=LOWER))\n",
        "# dev_data_pathlength7_11 = list(examplereader_pathlength7_11(\"trees/dev.txt\", lower=LOWER))\n",
        "# test_data_pathlength7_11= list(examplereader_pathlength7_11(\"trees/test.txt\", lower=LOWER))\n",
        "\n",
        "# print(\"train_data_pathlength7_11\", len(train_data_pathlength7_11))\n",
        "# print(\"dev_data_pathlength7_11\", len(dev_data_pathlength7_11))\n",
        "# print(\"test_data_pathlength7_11\", len(test_data_pathlength7_11))\n"
      ],
      "execution_count": 0,
      "outputs": [
        {
          "output_type": "stream",
          "text": [
            "train_data_pathlength7_11 2443\n",
            "dev_data_pathlength7_11 324\n",
            "test_data_pathlength7_11 649\n"
          ],
          "name": "stdout"
        }
      ]
    },
    {
      "cell_type": "code",
      "metadata": {
        "id": "Y8T9B2HoLul9",
        "colab_type": "code",
        "outputId": "01de4cab-87b9-4c56-957a-33cda1eb77b7",
        "colab": {
          "base_uri": "https://localhost:8080/",
          "height": 68
        }
      },
      "source": [
        "# from collections import namedtuple\n",
        "# from nltk import Tree\n",
        "\n",
        "# # DATASET ONLY CONTAINING SENTENCES WITH A TREEDEPTH BIGGER THAN 11\n",
        "# # A simple way to define a class is using namedtuple.\n",
        "# Example = namedtuple(\"Example\", [\"tokens\", \"tree\", \"label\", \"transitions\"])\n",
        "\n",
        "# def examplereader_pathlength11(path, lower=False):\n",
        "#   \"\"\"Returns all examples in a file one by one.\"\"\"\n",
        "#   for line in filereader(path):\n",
        "#     line = line.lower() if lower else line\n",
        "#     tokens = tokens_from_treestring(line)\n",
        "#     tree = Tree.fromstring(line)  # use NLTK's Tree\n",
        "#     path_length = get_pathlength(tree)\n",
        "#     if path_length > 11:\n",
        "#       label = int(line[1])\n",
        "#       trans = transitions_from_treestring(line)\n",
        "#       yield Example(tokens=tokens, tree=tree, label=label, transitions=trans)\n",
        "#     else:\n",
        "#       continue\n",
        "\n",
        "# # Let's load the data into memory.\n",
        "# LOWER = False  # we will keep the original casing\n",
        "# train_data_pathlength11 = list(examplereader_pathlength11(\"trees/train.txt\", lower=LOWER))\n",
        "# dev_data_pathlength11 = list(examplereader_pathlength11(\"trees/dev.txt\", lower=LOWER))\n",
        "# test_data_pathlength11 = list(examplereader_pathlength11(\"trees/test.txt\", lower=LOWER))\n",
        "\n",
        "# print(\"train_data_pathlength11\", len(train_data_pathlength11))\n",
        "# print(\"dev_data_pathlength11\", len(dev_data_pathlength11))\n",
        "# print(\"test_data_pathlength11\", len(test_data_pathlength11))\n"
      ],
      "execution_count": 0,
      "outputs": [
        {
          "output_type": "stream",
          "text": [
            "train_data_pathlength11 2278\n",
            "dev_data_pathlength11 304\n",
            "test_data_pathlength11 595\n"
          ],
          "name": "stdout"
        }
      ]
    },
    {
      "cell_type": "code",
      "metadata": {
        "id": "0pI8cnGVfKKO",
        "colab_type": "code",
        "outputId": "296edb7a-a4f1-402c-8eb0-5b342c3a11cc",
        "colab": {
          "base_uri": "https://localhost:8080/",
          "height": 119
        }
      },
      "source": [
        "from collections import namedtuple\n",
        "from nltk import Tree\n",
        "\n",
        "\n",
        "# A simple way to define a class is using namedtuple.\n",
        "Example = namedtuple(\"Example\", [\"tokens\", \"tree\", \"label\", \"transitions\"])\n",
        "\n",
        "def examplereader_highratio(path, lower=False):\n",
        "  \"\"\"Returns all examples in a file one by one.\"\"\"\n",
        "  for line in filereader(path):\n",
        "    line = line.lower() if lower else line\n",
        "    tokens = tokens_from_treestring(line)\n",
        "    tree = Tree.fromstring(line)  # use NLTK's Tree\n",
        "    path_length = get_pathlength(tree)\n",
        "    if len(tokens) > 15 and len(tokens) < 35:\n",
        "      if path_length/len(tokens) >= 0.465: # we saw that the average ratio of path length and sentence length is 0.465 between 15 and 35\n",
        "        label = int(line[1])\n",
        "        trans = transitions_from_treestring(line)\n",
        "        yield Example(tokens=tokens, tree=tree, label=label, transitions=trans)\n",
        "    else:\n",
        "      continue\n",
        "\n",
        "def examplereader_lowratio(path, lower=False):\n",
        "  \"\"\"Returns all examples in a file one by one.\"\"\"\n",
        "  for line in filereader(path):\n",
        "    line = line.lower() if lower else line\n",
        "    tokens = tokens_from_treestring(line)\n",
        "    tree = Tree.fromstring(line)  # use NLTK's Tree\n",
        "    path_length = get_pathlength(tree)\n",
        "    if len(tokens) > 15 and len(tokens) < 35:\n",
        "      if path_length/len(tokens) < 0.465: # we saw that the average ratio of path length and sentence length is 0.465 between 15 and 35\n",
        "        label = int(line[1])\n",
        "        trans = transitions_from_treestring(line)\n",
        "        yield Example(tokens=tokens, tree=tree, label=label, transitions=trans)\n",
        "    else:\n",
        "      continue\n",
        "\n",
        "# Let's load the data into memory.\n",
        "LOWER = False  # we will keep the original casing\n",
        "train_data_highratio = list(examplereader_highratio(\"trees/train.txt\", lower=LOWER))\n",
        "dev_data_highratio = list(examplereader_highratio(\"trees/dev.txt\", lower=LOWER))\n",
        "test_data_highratio = list(examplereader_highratio(\"trees/test.txt\", lower=LOWER))\n",
        "\n",
        "train_data_lowratio = list(examplereader_lowratio(\"trees/train.txt\", lower=LOWER))\n",
        "dev_data_lowratio = list(examplereader_lowratio(\"trees/dev.txt\", lower=LOWER))\n",
        "test_data_lowratio = list(examplereader_lowratio(\"trees/test.txt\", lower=LOWER))\n",
        "\n",
        "\n",
        "print(\"train_data_highratio\", len(train_data_highratio))\n",
        "print(\"dev_data_highratio\", len(dev_data_highratio))\n",
        "print(\"test_data_highratio\", len(test_data_highratio))\n",
        "\n",
        "print(\"train_data_lowratio\", len(train_data_lowratio))\n",
        "print(\"dev_data_lowratio\", len(dev_data_lowratio))\n",
        "print(\"test_data_lowratio\", len(test_data_lowratio))\n"
      ],
      "execution_count": 0,
      "outputs": [
        {
          "output_type": "stream",
          "text": [
            "train_data_highratio 2482\n",
            "dev_data_highratio 330\n",
            "test_data_highratio 656\n",
            "train_data_lowratio 2242\n",
            "dev_data_lowratio 304\n",
            "test_data_lowratio 595\n"
          ],
          "name": "stdout"
        }
      ]
    },
    {
      "cell_type": "markdown",
      "metadata": {
        "id": "6KM0bDyeVZtP",
        "colab_type": "text"
      },
      "source": [
        "Let's check out an example object."
      ]
    },
    {
      "cell_type": "code",
      "metadata": {
        "id": "J8mwcaZwxP1c",
        "colab_type": "code",
        "outputId": "e76785b5-6f60-4ce0-8096-269e5c9db575",
        "colab": {
          "base_uri": "https://localhost:8080/",
          "height": 88
        }
      },
      "source": [
        "example = dev_data[0]\n",
        "print(\"First train example:\", example)\n",
        "print(\"First train example tokens:\", example.tokens)\n",
        "print(\"First train example label:\",  example.label)\n",
        "# listings = [token for datapoint_index in range(len(dev_data)) for token in dev_data[datapoint_index].tokens ]\n",
        "# print(listings)"
      ],
      "execution_count": 0,
      "outputs": [
        {
          "output_type": "stream",
          "text": [
            "First train example: Example(tokens=['It', \"'s\", 'a', 'lovely', 'film', 'with', 'lovely', 'performances', 'by', 'Buy', 'and', 'Accorsi', '.'], tree=Tree('3', [Tree('2', ['It']), Tree('4', [Tree('4', [Tree('2', [\"'s\"]), Tree('4', [Tree('3', [Tree('2', ['a']), Tree('4', [Tree('3', ['lovely']), Tree('2', ['film'])])]), Tree('3', [Tree('2', ['with']), Tree('4', [Tree('3', [Tree('3', ['lovely']), Tree('2', ['performances'])]), Tree('2', [Tree('2', ['by']), Tree('2', [Tree('2', [Tree('2', ['Buy']), Tree('2', ['and'])]), Tree('2', ['Accorsi'])])])])])])]), Tree('2', ['.'])])]), label=3, transitions=[0, 0, 0, 0, 0, 1, 1, 0, 0, 0, 1, 0, 0, 0, 1, 0, 1, 1, 1, 1, 1, 1, 0, 1, 1])\n",
            "First train example tokens: ['It', \"'s\", 'a', 'lovely', 'film', 'with', 'lovely', 'performances', 'by', 'Buy', 'and', 'Accorsi', '.']\n",
            "First train example label: 3\n"
          ],
          "name": "stdout"
        }
      ]
    },
    {
      "cell_type": "code",
      "metadata": {
        "id": "9sCs6hJWVrri",
        "colab_type": "code",
        "colab": {}
      },
      "source": [
        "# So there are three datasets, train, dev (val?) and test. There's a few levels:\n",
        "# 1. List of sentences (root nodes)\n",
        "# 2. Objects inside each list entry: tokens (the words), tree (containing subtrees), label, and transitions (looks like commas, sentence starts and periods)\n",
        "a = [datapoint.tokens for datapoint in train_data]\n",
        "# b = * a\n",
        "# b = (*a)\n"
      ],
      "execution_count": 0,
      "outputs": []
    },
    {
      "cell_type": "markdown",
      "metadata": {
        "id": "-WDSprDBVcr-",
        "colab_type": "text"
      },
      "source": [
        "#### Vocabulary \n",
        "To work with this data we will need a vocabulary.\n",
        "The job of the vocabulary is to map each word to a unique ID.\n"
      ]
    },
    {
      "cell_type": "code",
      "metadata": {
        "id": "VvNgKx7usRSt",
        "colab_type": "code",
        "colab": {}
      },
      "source": [
        "# Here we first define a class that can map a word to an ID (w2i)\n",
        "# and back (i2w).\n",
        "\n",
        "from collections import Counter, OrderedDict, defaultdict\n",
        "\n",
        "\n",
        "class OrderedCounter(Counter, OrderedDict):\n",
        "  \"\"\"Counter that remembers the order elements are first seen\"\"\"\n",
        "  def __repr__(self):\n",
        "    return '%s(%r)' % (self.__class__.__name__,\n",
        "                      OrderedDict(self))\n",
        "  def __reduce__(self):\n",
        "    return self.__class__, (OrderedDict(self),)\n",
        "\n",
        "\n",
        "class Vocabulary:\n",
        "  \"\"\"A vocabulary, assigns IDs to tokens\"\"\"\n",
        "  \n",
        "  def __init__(self):\n",
        "    self.freqs = OrderedCounter()\n",
        "    self.w2i = {}\n",
        "    self.i2w = []\n",
        "\n",
        "  def count_token(self, t):\n",
        "    self.freqs[t] += 1\n",
        "    \n",
        "  def add_token(self, t):\n",
        "    self.w2i[t] = len(self.w2i)\n",
        "    self.i2w.append(t)    \n",
        "    \n",
        "  def build(self, min_freq=0):\n",
        "    self.add_token(\"<unk>\")  # reserve 0 for <unk> (unknown words)\n",
        "    self.add_token(\"<pad>\")  # reserve 1 for <pad> (discussed later)   \n",
        "    \n",
        "    tok_freq = list(self.freqs.items())\n",
        "    tok_freq.sort(key=lambda x: x[1], reverse=True)\n",
        "    for tok, freq in tok_freq:\n",
        "      if freq >= min_freq:\n",
        "        self.add_token(tok)"
      ],
      "execution_count": 0,
      "outputs": []
    },
    {
      "cell_type": "markdown",
      "metadata": {
        "id": "kOvkH_llVsoW",
        "colab_type": "text"
      },
      "source": [
        "Let's build the token vocabulary!\n",
        "\n",
        "When randomly initializing word vectors, we take the words in our training\n",
        "set and assign them unique IDs, and assign all other words to $<$unk$>$, \n",
        "because those we cannot learn a vector for based on our training data.\n"
      ]
    },
    {
      "cell_type": "code",
      "metadata": {
        "id": "GwGQgQQBNUSq",
        "colab_type": "code",
        "outputId": "d9d175ff-71a1-4d8f-962b-bdfb6c45fef5",
        "colab": {
          "base_uri": "https://localhost:8080/",
          "height": 34
        }
      },
      "source": [
        "# This process should be deterministic and should have the same result \n",
        "# if run multiple times on the same data set.\n",
        "\n",
        "v = Vocabulary()\n",
        "for data_set in (train_data,):\n",
        "  for ex in data_set:\n",
        "    for token in ex.tokens:\n",
        "      v.count_token(token)\n",
        "\n",
        "v.build()\n",
        "print(\"Vocabulary size:\", len(v.w2i))"
      ],
      "execution_count": 0,
      "outputs": [
        {
          "output_type": "stream",
          "text": [
            "Vocabulary size: 18280\n"
          ],
          "name": "stdout"
        }
      ]
    },
    {
      "cell_type": "markdown",
      "metadata": {
        "id": "-UNIedPrPdCw",
        "colab_type": "text"
      },
      "source": [
        "Let's have a closer look at the properties of our vocabulary. Having a good idea of what it is like can facilitate data analysis and debugging later on."
      ]
    },
    {
      "cell_type": "code",
      "metadata": {
        "id": "oJyuogmh0CA7",
        "colab_type": "code",
        "outputId": "a4b34e56-2de3-4be9-8587-ef57f3a32e86",
        "colab": {
          "base_uri": "https://localhost:8080/",
          "height": 34
        }
      },
      "source": [
        "# What is the ID for \"century?\"\n",
        "century_ID = v.w2i['century']\n",
        "print(century_ID)"
      ],
      "execution_count": 0,
      "outputs": [
        {
          "output_type": "stream",
          "text": [
            "1973\n"
          ],
          "name": "stdout"
        }
      ]
    },
    {
      "cell_type": "code",
      "metadata": {
        "id": "O8OkPQ8Zv-rI",
        "colab_type": "code",
        "outputId": "24fc2ce5-1cf1-4293-e136-372c4dab52d2",
        "colab": {
          "base_uri": "https://localhost:8080/",
          "height": 34
        }
      },
      "source": [
        "# What are the first 10 words in the vocabulary?\n",
        "first_ten_words = v.i2w[0:9]\n",
        "print(first_ten_words)\n",
        "\n",
        "# unknown = v.w2i['<unk>']\n"
      ],
      "execution_count": 0,
      "outputs": [
        {
          "output_type": "stream",
          "text": [
            "['<unk>', '<pad>', '.', ',', 'the', 'and', 'a', 'of', 'to']\n"
          ],
          "name": "stdout"
        }
      ]
    },
    {
      "cell_type": "code",
      "metadata": {
        "id": "kmXwu02lOLWI",
        "colab_type": "code",
        "outputId": "36839fd3-03db-4e0d-852c-97b3322cc0cb",
        "colab": {
          "base_uri": "https://localhost:8080/",
          "height": 54
        }
      },
      "source": [
        "# What are the 10 most common words?\n",
        "# The vocabulary indices are ordered, so take the first ten, exclusing 0 and 1 (unk and pad).\n",
        "highest_frequency_words = v.i2w[2:11]\n",
        "highest_frequencies = {keys: freq for keys, freq in v.freqs.items() if keys in highest_frequency_words}\n",
        "print(highest_frequencies)"
      ],
      "execution_count": 0,
      "outputs": [
        {
          "output_type": "stream",
          "text": [
            "{'is': 2536, 'to': 2995, 'the': 6037, \"'s\": 2544, 'and': 4431, 'a': 4403, ',': 7131, '.': 8024, 'of': 4386}\n"
          ],
          "name": "stdout"
        }
      ]
    },
    {
      "cell_type": "code",
      "metadata": {
        "id": "__NDPaCeOT_m",
        "colab_type": "code",
        "outputId": "c0949bc0-61b2-4335-fdf3-7f68710d0b5f",
        "colab": {
          "base_uri": "https://localhost:8080/",
          "height": 34
        }
      },
      "source": [
        "# And how many words are there with frequency 1?\n",
        "words = [number_ones for keys, number_ones in v.freqs.items() if number_ones == 1]\n",
        "number_of_ones = sum(words)\n",
        "print(\"Number of words that occur only once: \", number_of_ones)"
      ],
      "execution_count": 0,
      "outputs": [
        {
          "output_type": "stream",
          "text": [
            "Number of words that occur only once:  9543\n"
          ],
          "name": "stdout"
        }
      ]
    },
    {
      "cell_type": "code",
      "metadata": {
        "id": "xKHocugctZGM",
        "colab_type": "code",
        "outputId": "2aea615d-c172-4381-8243-d8609ed5253f",
        "colab": {
          "base_uri": "https://localhost:8080/",
          "height": 54
        }
      },
      "source": [
        "# Finally 20 random words from the vocabulary.\n",
        "# This is a simple way to get a feeling for the data.\n",
        "random_indices = np.random.randint(0, len(v.freqs), 20)\n",
        "random_words = [v.i2w[random_index] for random_index in random_indices]\n",
        "print(\"20 random words: \", random_words)"
      ],
      "execution_count": 0,
      "outputs": [
        {
          "output_type": "stream",
          "text": [
            "20 random words:  ['bound', 'Novak', 'lightweight', 'Simple', 'crossed', 'historically', 'Plays', 'ill-considered', 'sip', 'envelope', 'Mora', 'cheap', 'Pauline', 'Totally', 'world', 'sun', 'haphazardness', 'bungling', 'Seth', 'virtue']\n"
          ],
          "name": "stdout"
        }
      ]
    },
    {
      "cell_type": "markdown",
      "metadata": {
        "id": "nGWaZahKV_dH",
        "colab_type": "text"
      },
      "source": [
        "#### Sentiment label vocabulary"
      ]
    },
    {
      "cell_type": "code",
      "metadata": {
        "id": "AmTC-rvQelpl",
        "colab_type": "code",
        "outputId": "f72fc1e1-7ab7-42f6-a583-3b8e6369df4e",
        "colab": {
          "base_uri": "https://localhost:8080/",
          "height": 34
        }
      },
      "source": [
        "# Now let's map the sentiment labels 0-4 to a more readable form\n",
        "i2t = [\"very negative\", \"negative\", \"neutral\", \"positive\", \"very positive\"]\n",
        "i2t\n"
      ],
      "execution_count": 0,
      "outputs": [
        {
          "output_type": "execute_result",
          "data": {
            "text/plain": [
              "['very negative', 'negative', 'neutral', 'positive', 'very positive']"
            ]
          },
          "metadata": {
            "tags": []
          },
          "execution_count": 31
        }
      ]
    },
    {
      "cell_type": "code",
      "metadata": {
        "id": "D7UI26DP2dr2",
        "colab_type": "code",
        "outputId": "b99762cf-76c6-4e14-ec6c-e6ec18fdc04e",
        "colab": {
          "base_uri": "https://localhost:8080/",
          "height": 102
        }
      },
      "source": [
        "# And let's also create the opposite mapping.\n",
        "# We won't use a Vocabulary for this (although we could), since the labels\n",
        "# are already numeric.\n",
        "t2i = OrderedDict({p : i for p, i in zip(i2t, range(len(i2t)))})\n",
        "t2i"
      ],
      "execution_count": 0,
      "outputs": [
        {
          "output_type": "execute_result",
          "data": {
            "text/plain": [
              "OrderedDict([('very negative', 0),\n",
              "             ('negative', 1),\n",
              "             ('neutral', 2),\n",
              "             ('positive', 3),\n",
              "             ('very positive', 4)])"
            ]
          },
          "metadata": {
            "tags": []
          },
          "execution_count": 32
        }
      ]
    },
    {
      "cell_type": "markdown",
      "metadata": {
        "id": "y0067ax54-rd",
        "colab_type": "text"
      },
      "source": [
        "## Installing PyTorch\n",
        "\n",
        "In Colab notebooks, the last available version of PyTorch is already installed (pytorch 1.3.1 is there on Nov 12, 2019). Run the box here below to see what version you have. If PyTorch is not there, uncomment the lines in the box below and run it again (this way, you should be able to install PyTorch 1.3.1.):\n",
        "\n",
        "*For installing PyTorch in your own computer, follow the instructions on [pytorch.org](pytorch.org) instead. This is for Google Colab only.*"
      ]
    },
    {
      "cell_type": "code",
      "metadata": {
        "id": "qKQMGtkR5KWr",
        "colab_type": "code",
        "colab": {}
      },
      "source": [
        "# http://pytorch.org/\n",
        "from os.path import exists\n",
        "#from wheel.pep425tags import get_abbr_impl, get_impl_ver, get_abi_tag\n",
        "#platform = '{}{}-{}'.format(get_abbr_impl(), get_impl_ver(), get_abi_tag())\n",
        "#cuda_output = !ldconfig -p|grep cudart.so|sed -e 's/.*\\.\\([0-9]*\\)\\.\\([0-9]*\\)$/cu\\1\\2/'\n",
        "#accelerator = cuda_output[0] if exists('/dev/nvidia0') else 'cpu'\n",
        "#!pip install http://download.pytorch.org/whl/{accelerator}/torch-1.3.1-{platform}-linux_x86_64.whl torchvision\n",
        "\n",
        "import torch\n",
        "from torch import optim\n",
        "from torch import nn"
      ],
      "execution_count": 0,
      "outputs": []
    },
    {
      "cell_type": "code",
      "metadata": {
        "id": "BhiRqhTM5V4c",
        "colab_type": "code",
        "outputId": "62a481e4-20ef-4ba7-ed7b-1bbc1224ee2e",
        "colab": {
          "base_uri": "https://localhost:8080/",
          "height": 34
        }
      },
      "source": [
        "# this should result in the PyTorch version\n",
        "torch.__version__"
      ],
      "execution_count": 0,
      "outputs": [
        {
          "output_type": "execute_result",
          "data": {
            "text/plain": [
              "'1.3.1'"
            ]
          },
          "metadata": {
            "tags": []
          },
          "execution_count": 34
        }
      ]
    },
    {
      "cell_type": "code",
      "metadata": {
        "id": "BYt8uTyGCKc7",
        "colab_type": "code",
        "outputId": "87d9c0f8-0b8d-4655-c98f-7084560961fe",
        "colab": {
          "base_uri": "https://localhost:8080/",
          "height": 34
        }
      },
      "source": [
        "# PyTorch can run on CPU or on Nvidia GPU (video card) using CUDA\n",
        "# This cell selects the GPU if one is available.\n",
        "device = torch.device('cuda' if torch.cuda.is_available() else 'cpu')\n",
        "device\n",
        "print(device)"
      ],
      "execution_count": 0,
      "outputs": [
        {
          "output_type": "stream",
          "text": [
            "cuda\n"
          ],
          "name": "stdout"
        }
      ]
    },
    {
      "cell_type": "code",
      "metadata": {
        "id": "2d1VMOOYx1Bw",
        "colab_type": "code",
        "colab": {}
      },
      "source": [
        "# Seed manually to make runs reproducible\n",
        "# You need to set this again if you do multiple runs of the same model\n",
        "torch.manual_seed(333)\n",
        "\n",
        "# When running on the CuDNN backend two further options must be set for reproducibility\n",
        "if torch.cuda.is_available():\n",
        "  torch.backends.cudnn.deterministic = True\n",
        "  torch.backends.cudnn.benchmark = False"
      ],
      "execution_count": 0,
      "outputs": []
    },
    {
      "cell_type": "markdown",
      "metadata": {
        "id": "uWBTzkuE3CtZ",
        "colab_type": "text"
      },
      "source": [
        "# BOW"
      ]
    },
    {
      "cell_type": "markdown",
      "metadata": {
        "id": "TBAjYYySOA5W",
        "colab_type": "text"
      },
      "source": [
        "Our first model is a super simple neural **bag-of-words (BOW) model**.\n",
        "Unlike the bag-of-words model that you used in the previous lab, here we associate each word with a vector of size 5, exactly our number of sentiment classes. \n",
        "\n",
        "To make a classification, we simply **sum** the vectors of the words in our sentence and a bias vector. Because we sum the vectors, we lose word order: that's why we call this a neural bag-of-words model.\n",
        "\n",
        "```\n",
        "this   [0.0, 0.1, 0.1, 0.1, 0.0]\n",
        "movie  [0.0, 0.1, 0.1, 0.2, 0.1]\n",
        "is     [0.0, 0.1, 0.0, 0.0, 0.0]\n",
        "stupid [0.9, 0.5, 0.1, 0.0, 0.0]\n",
        "\n",
        "bias   [0.0, 0.0, 0.0, 0.0, 0.0]\n",
        "--------------------------------\n",
        "sum    [0.9, 0.8, 0.3, 0.3, 0.1]\n",
        "\n",
        "argmax: 0 (very negative)\n",
        "```\n",
        "\n",
        "Now, the **argmax** of this sum is our predicted label.\n",
        "\n",
        "We initialize all vectors *randomly* and train them using cross-entropy loss."
      ]
    },
    {
      "cell_type": "markdown",
      "metadata": {
        "id": "rLtBAIQGynkB",
        "colab_type": "text"
      },
      "source": [
        "#### Model class"
      ]
    },
    {
      "cell_type": "code",
      "metadata": {
        "id": "QZfNklWf3tvs",
        "colab_type": "code",
        "colab": {}
      },
      "source": [
        "class BOW(nn.Module):\n",
        "  \"\"\"A simple bag-of-words model\"\"\"\n",
        "\n",
        "  def __init__(self, vocab_size, embedding_dim, vocab):\n",
        "    super(BOW, self).__init__()\n",
        "    self.vocab = vocab\n",
        "    \n",
        "    # this is a trained look-up table with word embeddings\n",
        "    self.embed = nn.Embedding(vocab_size, embedding_dim)\n",
        "    \n",
        "    # this is a trained bias term\n",
        "    self.bias = nn.Parameter(torch.zeros(embedding_dim), requires_grad=True)        \n",
        "\n",
        "  def forward(self, inputs):\n",
        "    # this is the forward pass of the neural network\n",
        "    # given inputs, it computes the output\n",
        "\n",
        "    # this looks up the embeddings for each word ID in inputs\n",
        "    # the result is a sequence of word embeddings\n",
        "    embeds = self.embed(inputs)\n",
        "    \n",
        "    # the output is the sum across the time dimension (1)\n",
        "    # with the bias term added\n",
        "    logits = embeds.sum(1) + self.bias\n",
        "\n",
        "    return logits"
      ],
      "execution_count": 0,
      "outputs": []
    },
    {
      "cell_type": "code",
      "metadata": {
        "colab_type": "code",
        "id": "eKHvBnoBAr6z",
        "outputId": "462e0541-e9cb-4b14-a009-4a849b9be976",
        "colab": {
          "base_uri": "https://localhost:8080/",
          "height": 68
        }
      },
      "source": [
        "# Let's create a model.\n",
        "vocab_size = len(v.w2i)\n",
        "n_classes = len(t2i)\n",
        "bow_model = BOW(vocab_size, n_classes, v)\n",
        "print(bow_model)"
      ],
      "execution_count": 0,
      "outputs": [
        {
          "output_type": "stream",
          "text": [
            "BOW(\n",
            "  (embed): Embedding(18280, 5)\n",
            ")\n"
          ],
          "name": "stdout"
        }
      ]
    },
    {
      "cell_type": "markdown",
      "metadata": {
        "id": "vfCx-HvMH1qQ",
        "colab_type": "text"
      },
      "source": [
        "> **Hey, wait, where is the bias vector?**\n",
        "> PyTorch does not print Parameters, only Modules!\n",
        "\n",
        "> We can print it ourselves though, to check that it is there."
      ]
    },
    {
      "cell_type": "code",
      "metadata": {
        "colab_type": "code",
        "id": "Fhvk5HenAroT",
        "outputId": "7d4b9739-9b0b-4993-c6e8-0455ec935f09",
        "colab": {
          "base_uri": "https://localhost:8080/",
          "height": 102
        }
      },
      "source": [
        "\n",
        "# Here we print each parameter name, shape, and if it is trainable.\n",
        "def print_parameters(model):\n",
        "  total = 0\n",
        "  for name, p in model.named_parameters():\n",
        "    total += np.prod(p.shape)\n",
        "    print(\"{:24s} {:12s} requires_grad={}\".format(name, str(list(p.shape)), p.requires_grad))\n",
        "  print(\"\\nTotal parameters: {}\\n\".format(total))\n",
        "    \n",
        "\n",
        "print_parameters(bow_model)"
      ],
      "execution_count": 0,
      "outputs": [
        {
          "output_type": "stream",
          "text": [
            "bias                     [5]          requires_grad=True\n",
            "embed.weight             [18280, 5]   requires_grad=True\n",
            "\n",
            "Total parameters: 91405\n",
            "\n"
          ],
          "name": "stdout"
        }
      ]
    },
    {
      "cell_type": "markdown",
      "metadata": {
        "id": "WSAw292WxuP4",
        "colab_type": "text"
      },
      "source": [
        "#### Preparing an example for input\n",
        "\n",
        "To feed sentences to our PyTorch model, we need to convert a sequence of tokens to a sequence of IDs. The `prepare_example` function below takes care of this for us. With these IDs we index the word embedding table. "
      ]
    },
    {
      "cell_type": "code",
      "metadata": {
        "id": "YWeGTC_OGReV",
        "colab_type": "code",
        "colab": {}
      },
      "source": [
        "def prepare_example(example, vocab):\n",
        "  \"\"\"\n",
        "  Map tokens to their IDs for 1 example\n",
        "  \"\"\"\n",
        "  \n",
        "  # vocab returns 0 if the word is not there\n",
        "  x = [vocab.w2i.get(t, 0) for t in example.tokens]\n",
        "  x = torch.LongTensor([x])\n",
        "  x = x.to(device)\n",
        "  \n",
        "  y = torch.LongTensor([example.label])\n",
        "  y = y.to(device)\n",
        "  \n",
        "  return x, y"
      ],
      "execution_count": 0,
      "outputs": []
    },
    {
      "cell_type": "markdown",
      "metadata": {
        "id": "oKNQjEc0yXnJ",
        "colab_type": "text"
      },
      "source": [
        "#### Evaluation\n",
        "We will need one more thing: an evaluation metric.\n",
        "How many predictions do we get right? The accuracy will tell us.\n",
        "Make sure that you understand this code block.\n"
      ]
    },
    {
      "cell_type": "code",
      "metadata": {
        "id": "yGmQLcVYKZsh",
        "colab_type": "code",
        "colab": {}
      },
      "source": [
        "\n",
        "def simple_evaluate(model, data, prep_fn=prepare_example, **kwargs):\n",
        "  \"\"\"Accuracy of a model on given data set.\"\"\"\n",
        "  correct = 0\n",
        "  total = 0\n",
        "  model.eval()  # disable dropout (explained later)\n",
        "\n",
        "  for example in data:\n",
        "    \n",
        "    # convert the example input and label to PyTorch tensors\n",
        "    x, target = prep_fn(example, model.vocab)\n",
        "\n",
        "    # forward pass\n",
        "    # get the output from the neural network for input x\n",
        "    with torch.no_grad():\n",
        "      logits = model(x)\n",
        "    \n",
        "    # get out the prediction\n",
        "    prediction = logits.argmax(dim=-1)\n",
        "    \n",
        "    # add the number of correct predictions to the total correct\n",
        "    correct += (prediction == target).sum().item()\n",
        "    total += 1\n",
        "\n",
        "  return correct, total, correct / float(total)"
      ],
      "execution_count": 0,
      "outputs": []
    },
    {
      "cell_type": "markdown",
      "metadata": {
        "id": "dIk6OtSdzGRP",
        "colab_type": "text"
      },
      "source": [
        "#### Example feed\n",
        "For stochastic gradient descent (SGD) we will need a random training example for every update.\n",
        "We implement this by shuffling the training data and returning examples one by one using `yield`.\n",
        "\n",
        "Shuffling is optional so that we get to use this to get validation and test examples, too."
      ]
    },
    {
      "cell_type": "code",
      "metadata": {
        "id": "dxDFOZLfCXvJ",
        "colab_type": "code",
        "colab": {}
      },
      "source": [
        "def get_examples(data, shuffle=True, **kwargs):\n",
        "  \"\"\"Shuffle data set and return 1 example at a time (until nothing left)\"\"\"\n",
        "  if shuffle:\n",
        "    print(\"Shuffling training data\")\n",
        "    random.shuffle(data)  # shuffle training data each epoch\n",
        "  for example in data:\n",
        "    yield example"
      ],
      "execution_count": 0,
      "outputs": []
    },
    {
      "cell_type": "markdown",
      "metadata": {
        "id": "g09SM8yb2cjx",
        "colab_type": "text"
      },
      "source": [
        "#### Exercise: Training function\n",
        "\n",
        "Your task is now to complete the training loop below.\n",
        "Before you do so, please read the section about optimization."
      ]
    },
    {
      "cell_type": "markdown",
      "metadata": {
        "id": "TVfUukVdM_1c",
        "colab_type": "text"
      },
      "source": [
        "**Optimization**\n",
        "\n",
        "As mentioned in the \"Introduction to PyTorch\" notebook, one of the perks of using PyTorch are its automatic differentiation abilities. We will use these to train our BOW model. \n",
        "\n",
        "We train our model by feeding it an input and performing **forward** pass, which results in an output for which we obtain a **loss** with our loss function.\n",
        "After the gradients are calculated in the **backward** pass, we can take a step on the loss surface towards more optimal parameter settings (e.g. gradient descent). \n",
        "\n",
        "The package we will use to do this optimization is [torch.optim](https://pytorch.org/docs/stable/optim.html). Besides implementations of stochastic gradient descent (SGD), this package also implements the optimization algorithm Adam, which we'll be using in this practical. \n",
        "For the purposes of this assignment you do not need to know what Adam does besides that it uses gradient information to update our model parameters by calling: \n",
        "\n",
        "```\n",
        "optimizer.step()\n",
        "```\n",
        "Remember when we updated our parameters in the PyTorch tutorial in a loop?\n",
        "\n",
        "\n",
        "```python\n",
        "# update weights\n",
        "learning_rate = 0.5\n",
        "for f in net.parameters():\n",
        "    # for each parameter, take a small step in the opposite dir of the gradient\n",
        "    p.data = p.data - p.grad.data * learning_rate\n",
        "\n",
        "```\n",
        "The function call optimizer.step() does effectively the same thing.\n",
        "\n",
        "*(If you want to know more about optimization algorithms using gradient information [this blog](http://ruder.io/optimizing-gradient-descent/.) gives a nice intuitive overview.)*"
      ]
    },
    {
      "cell_type": "code",
      "metadata": {
        "id": "ktFnKBux25lD",
        "colab_type": "code",
        "colab": {}
      },
      "source": [
        "def train_model(model, optimizer, num_iterations=10000, \n",
        "                print_every=1000, eval_every=1000,\n",
        "                batch_fn=get_examples, \n",
        "                prep_fn=prepare_example,\n",
        "                eval_fn=simple_evaluate,\n",
        "                batch_size=1, eval_batch_size=None):\n",
        "  \"\"\"Train a model.\"\"\"  \n",
        "  iter_i = 0\n",
        "  train_loss = 0.\n",
        "  print_num = 0\n",
        "  start = time.time()\n",
        "  criterion = nn.CrossEntropyLoss() # loss function\n",
        "  best_eval = 0.\n",
        "  best_iter = 0\n",
        "  \n",
        "  # store train loss and validation accuracy during training\n",
        "  # so we can plot them afterwards\n",
        "  losses = []\n",
        "  accuracies = []  \n",
        "  \n",
        "  if eval_batch_size is None:\n",
        "    eval_batch_size = batch_size\n",
        "  \n",
        "  while True:  # when we run out of examples, shuffle and continue\n",
        "  # change the dataset:\n",
        "  # train_data\n",
        "  # train_data_len10\n",
        "  # train_data_len1020\n",
        "  # train_data_len2030\n",
        "  # train_data_len30\n",
        "  # train_data_allnodes\n",
        "\n",
        "    for batch in batch_fn(train_data, batch_size=batch_size):\n",
        "\n",
        "      # forward pass\n",
        "      model.train()\n",
        "      x, targets = prep_fn(batch, model.vocab)\n",
        "      logits = model(x)\n",
        "\n",
        "      B = targets.size(0)  # later we will use B examples per update\n",
        "\n",
        "      # compute cross-entropy loss (our criterion)\n",
        "      # note that the cross entropy loss function computes the softmax for us\n",
        "      loss = criterion(logits.view([B, -1]), targets.view(-1))\n",
        "\n",
        "      train_loss += loss.item()\n",
        "\n",
        "      # backward pass\n",
        "      # Tip: check the Introduction to PyTorch notebook.\n",
        "\n",
        "      # erase previous gradients\n",
        "      optimizer.zero_grad()\n",
        "      # compute gradients\n",
        "      loss.backward()\n",
        "\n",
        "      # update weights - take a small step in the opposite dir of the gradient\n",
        "      optimizer.step()\n",
        "\n",
        "      print_num += 1\n",
        "      iter_i += 1\n",
        "\n",
        "      # print info\n",
        "      if iter_i % print_every == 0:\n",
        "        print(\"Iter %r: loss=%.4f, time=%.2fs\" % \n",
        "              (iter_i, train_loss, time.time()-start))\n",
        "        losses.append(train_loss)\n",
        "        print_num = 0        \n",
        "        train_loss = 0.\n",
        "\n",
        "    # evaluate\n",
        "    # change the dataset:\n",
        "    # dev_data\n",
        "    # dev_data_len10\n",
        "    # dev_data_len1020\n",
        "    # dev_data_len2030\n",
        "    # dev_data_len30\n",
        "    # dev_data_allnodes\n",
        "\n",
        "      if iter_i % eval_every == 0:\n",
        "        _, _, accuracy = eval_fn(model, dev_data_lowratio, batch_size=eval_batch_size,\n",
        "                                 batch_fn=batch_fn, prep_fn=prep_fn)\n",
        "        accuracies.append(accuracy)\n",
        "        print(\"iter %r: dev acc=%.4f\" % (iter_i, accuracy))       \n",
        "        \n",
        "        # save best model parameters\n",
        "        if accuracy > best_eval:\n",
        "          print(\"new highscore\")\n",
        "          best_eval = accuracy\n",
        "          best_iter = iter_i\n",
        "          path = \"{}.pt\".format(model.__class__.__name__)\n",
        "          ckpt = {\n",
        "              \"state_dict\": model.state_dict(),\n",
        "              \"optimizer_state_dict\": optimizer.state_dict(),\n",
        "              \"best_eval\": best_eval,\n",
        "              \"best_iter\": best_iter\n",
        "          }\n",
        "          torch.save(ckpt, path)\n",
        "\n",
        "      # done training\n",
        "      if iter_i == num_iterations:\n",
        "        print(\"Done training\")\n",
        "        \n",
        "        # evaluate on train, dev, and test with best model\n",
        "        print(\"Loading best model\")\n",
        "        path = \"{}.pt\".format(model.__class__.__name__)        \n",
        "        ckpt = torch.load(path)\n",
        "        model.load_state_dict(ckpt[\"state_dict\"])\n",
        "\n",
        "      # change the dataset:\n",
        "\n",
        "      # train_data\n",
        "      # train_data_len10\n",
        "      # train_data_len1020\n",
        "      # train_data_len2030\n",
        "      # train_data_len30\n",
        "      # train_data_allnodes\n",
        "\n",
        "      # dev_data\n",
        "      # dev_data_len10\n",
        "      # dev_data_len1020\n",
        "      # dev_data_len2030\n",
        "      # dev_data_len30\n",
        "      # dev_data_allnodes\n",
        "\n",
        "      # test_data\n",
        "      # test_data_len10\n",
        "      # test_data_len1020\n",
        "      # test_data_len2030\n",
        "      # test_data_len30\n",
        "      # test_data_allnodes\n",
        "      # test_data_highratio\n",
        "      # test_data_lowratio\n",
        "\n",
        "        _, _, train_acc = eval_fn(\n",
        "            model, train_data, batch_size=eval_batch_size, \n",
        "            batch_fn=batch_fn, prep_fn=prep_fn)\n",
        "        _, _, dev_acc = eval_fn(\n",
        "            model, dev_data_lowratio, batch_size=eval_batch_size,\n",
        "            batch_fn=batch_fn, prep_fn=prep_fn)\n",
        "        _, _, test_acc = eval_fn(\n",
        "            model, test_data_lowratio, batch_size=eval_batch_size, \n",
        "            batch_fn=batch_fn, prep_fn=prep_fn)\n",
        "        \n",
        "        print(\"best model iter {:d}: \"\n",
        "              \"train acc={:.4f}, dev acc={:.4f}, test acc={:.4f}\".format(\n",
        "                  best_iter, train_acc, dev_acc, test_acc))\n",
        "        \n",
        "        return losses, accuracies"
      ],
      "execution_count": 0,
      "outputs": []
    },
    {
      "cell_type": "markdown",
      "metadata": {
        "id": "XEPsLvI-3D5b",
        "colab_type": "text"
      },
      "source": [
        "### Training the BOW model"
      ]
    },
    {
      "cell_type": "code",
      "metadata": {
        "id": "9luJnNuN_d3q",
        "colab_type": "code",
        "outputId": "f7d51058-6f15-48e7-d84b-48cbf505724b",
        "colab": {
          "base_uri": "https://localhost:8080/",
          "height": 1000
        }
      },
      "source": [
        "# If everything is in place we can now train our first model!\n",
        "bow_model = BOW(len(v.w2i), len(t2i), vocab=v)\n",
        "print(bow_model)\n",
        "\n",
        "bow_model = bow_model.to(device)\n",
        "\n",
        "optimizer = optim.Adam(bow_model.parameters(), lr=0.0005)\n",
        "bow_losses, bow_accuracies = train_model(\n",
        "    bow_model, optimizer, num_iterations=30000, \n",
        "    print_every=1000, eval_every=1000) # we trained the BoW model with 300000 iterations"
      ],
      "execution_count": 0,
      "outputs": [
        {
          "output_type": "stream",
          "text": [
            "BOW(\n",
            "  (embed): Embedding(18280, 5)\n",
            ")\n",
            "Shuffling training data\n",
            "Iter 1000: loss=5857.0992, time=1.36s\n",
            "iter 1000: dev acc=0.1809\n",
            "new highscore\n",
            "Iter 2000: loss=5030.1184, time=2.79s\n",
            "iter 2000: dev acc=0.1875\n",
            "new highscore\n",
            "Iter 3000: loss=5072.0209, time=4.16s\n",
            "iter 3000: dev acc=0.1908\n",
            "new highscore\n",
            "Iter 4000: loss=4788.9006, time=5.56s\n",
            "iter 4000: dev acc=0.1908\n",
            "Iter 5000: loss=4659.2813, time=7.00s\n",
            "iter 5000: dev acc=0.2039\n",
            "new highscore\n",
            "Iter 6000: loss=4939.0659, time=8.44s\n",
            "iter 6000: dev acc=0.1908\n",
            "Iter 7000: loss=4837.8807, time=9.85s\n",
            "iter 7000: dev acc=0.1908\n",
            "Iter 8000: loss=4757.0417, time=11.28s\n",
            "iter 8000: dev acc=0.1974\n",
            "Shuffling training data\n",
            "Iter 9000: loss=4420.9573, time=12.66s\n",
            "iter 9000: dev acc=0.2007\n",
            "Iter 10000: loss=4067.9459, time=14.07s\n",
            "iter 10000: dev acc=0.2039\n",
            "Iter 11000: loss=4231.3118, time=15.47s\n",
            "iter 11000: dev acc=0.2072\n",
            "new highscore\n",
            "Iter 12000: loss=4305.1842, time=16.86s\n",
            "iter 12000: dev acc=0.2072\n",
            "Iter 13000: loss=4091.9103, time=18.25s\n",
            "iter 13000: dev acc=0.2105\n",
            "new highscore\n",
            "Iter 14000: loss=4216.0885, time=19.63s\n",
            "iter 14000: dev acc=0.2237\n",
            "new highscore\n",
            "Iter 15000: loss=4029.2222, time=21.05s\n",
            "iter 15000: dev acc=0.2237\n",
            "Iter 16000: loss=4166.8922, time=22.44s\n",
            "iter 16000: dev acc=0.2270\n",
            "new highscore\n",
            "Iter 17000: loss=4081.1234, time=23.84s\n",
            "iter 17000: dev acc=0.2138\n",
            "Shuffling training data\n",
            "Iter 18000: loss=3722.0266, time=25.27s\n",
            "iter 18000: dev acc=0.2237\n",
            "Iter 19000: loss=3527.7777, time=26.65s\n",
            "iter 19000: dev acc=0.2171\n",
            "Iter 20000: loss=3896.8982, time=28.06s\n",
            "iter 20000: dev acc=0.2204\n",
            "Iter 21000: loss=3729.7826, time=29.44s\n",
            "iter 21000: dev acc=0.2204\n",
            "Iter 22000: loss=3665.3730, time=30.85s\n",
            "iter 22000: dev acc=0.2368\n",
            "new highscore\n",
            "Iter 23000: loss=3437.5575, time=32.26s\n",
            "iter 23000: dev acc=0.2303\n",
            "Iter 24000: loss=3482.6362, time=33.67s\n",
            "iter 24000: dev acc=0.2270\n",
            "Iter 25000: loss=3674.3452, time=35.07s\n",
            "iter 25000: dev acc=0.2303\n",
            "Shuffling training data\n",
            "Iter 26000: loss=3402.7972, time=36.47s\n",
            "iter 26000: dev acc=0.2336\n",
            "Iter 27000: loss=3269.5412, time=37.86s\n",
            "iter 27000: dev acc=0.2368\n",
            "Iter 28000: loss=3147.8964, time=39.28s\n",
            "iter 28000: dev acc=0.2336\n",
            "Iter 29000: loss=3309.5289, time=40.70s\n",
            "iter 29000: dev acc=0.2401\n",
            "new highscore\n",
            "Iter 30000: loss=3192.3297, time=42.12s\n",
            "iter 30000: dev acc=0.2401\n",
            "Done training\n",
            "Loading best model\n",
            "best model iter 29000: train acc=0.3054, dev acc=0.2401, test acc=0.2639\n"
          ],
          "name": "stdout"
        }
      ]
    },
    {
      "cell_type": "code",
      "metadata": {
        "id": "dvYLj8LIAzfS",
        "colab_type": "code",
        "outputId": "31a8cedd-c563-4fe1-dbc5-fa3480e21a7f",
        "colab": {
          "base_uri": "https://localhost:8080/",
          "height": 447
        }
      },
      "source": [
        "# This will plot the validation accuracies across time.\n",
        "x = [1000 * x_ for x_ in range(len(bow_accuracies))]\n",
        "plt.plot(x, bow_accuracies)"
      ],
      "execution_count": 0,
      "outputs": [
        {
          "output_type": "execute_result",
          "data": {
            "text/plain": [
              "[<matplotlib.lines.Line2D at 0x7f4317974978>]"
            ]
          },
          "metadata": {
            "tags": []
          },
          "execution_count": 47
        },
        {
          "output_type": "display_data",
          "data": {
            "image/png": "[encoded data removed]",
            "text/plain": [
              "<Figure size 640x480 with 1 Axes>"
            ]
          },
          "metadata": {
            "tags": []
          }
        }
      ]
    },
    {
      "cell_type": "code",
      "metadata": {
        "id": "vUHm9JfSI4po",
        "colab_type": "code",
        "outputId": "800b8c8d-293e-4fe7-a265-064b8149323f",
        "colab": {
          "base_uri": "https://localhost:8080/",
          "height": 447
        }
      },
      "source": [
        "# This will plot the training loss over time.\n",
        "x = [1000 * x_ for x_ in range(len(bow_losses))]\n",
        "plt.plot(x, bow_losses)"
      ],
      "execution_count": 0,
      "outputs": [
        {
          "output_type": "execute_result",
          "data": {
            "text/plain": [
              "[<matplotlib.lines.Line2D at 0x7f4317906978>]"
            ]
          },
          "metadata": {
            "tags": []
          },
          "execution_count": 48
        },
        {
          "output_type": "display_data",
          "data": {
            "image/png": "[encoded data removed]",
            "text/plain": [
              "<Figure size 640x480 with 1 Axes>"
            ]
          },
          "metadata": {
            "tags": []
          }
        }
      ]
    },
    {
      "cell_type": "markdown",
      "metadata": {
        "id": "E9mB1_XhMPNN",
        "colab_type": "text"
      },
      "source": [
        "# CBOW"
      ]
    },
    {
      "cell_type": "markdown",
      "metadata": {
        "id": "pWk78FvNMw4o",
        "colab_type": "text"
      },
      "source": [
        "We now continue with a **continuous bag-of-words (CBOW)** model.\n",
        "It is similar to the BOW model, but now embeddings can have a dimension of *arbitrary size*. \n",
        "This means that we can make them bigger and learn more aspects of each word. We will still sum the vectors to get a sentence representation, but now the result is no longer conveniently the number of sentiment classes. \n",
        "\n",
        "*Note that this is not the same as word2vec CBOW.* Both models take a few words as input, sum and make a prediction. However, in word2vec the prediction is the word in the middle of the input words. Here, the prediction is a sentiment class (1 out of 5 possible numbers 0-4).\n",
        "\n",
        "So what can we do? We can *learn* a parameter matrix $W$ that turns our summed vector into the number of output classes, by matrix-multiplying it: $$Wx$$\n",
        "If the size of $W$ is `5 x d`, and $x$ is `d x 1` and , then the result will be `5x1`, and then we can again find our prediction using an argmax."
      ]
    },
    {
      "cell_type": "markdown",
      "metadata": {
        "id": "gIjrCPfCwsXI",
        "colab_type": "text"
      },
      "source": [
        "## Exercise: write CBOW class & train it\n",
        "\n",
        "Write a class `CBOW` that:\n",
        "\n",
        "- has word embeddings with size 300\n",
        "- sums the word vectors for the input words (just like in `BOW`)\n",
        "- projects the resulting vector down to 5 units using a linear layer (including a bias term)\n",
        "\n",
        "Train your CBOW model and plot the validation accuracy and training loss over time."
      ]
    },
    {
      "cell_type": "code",
      "metadata": {
        "id": "PEV22aR2MP0Q",
        "colab_type": "code",
        "colab": {}
      },
      "source": [
        "class CBOW(nn.Module):\n",
        "  def __init__(self, vocab_size, embedding_dim, vocab):\n",
        "    super(CBOW, self).__init__()\n",
        "    self.vocab = vocab\n",
        "\n",
        "    self.embed = nn.Embedding(vocab_size, embedding_dim)\n",
        "\n",
        "    self.bias1 = nn.Parameter(torch.zeros(embedding_dim), requires_grad=True) \n",
        "\n",
        "    self.linear = nn.Linear(embedding_dim, 5)       \n",
        "\n",
        "    self.bias2 = nn.Parameter(torch.zeros(5), requires_grad=True) \n",
        "\n",
        "  def forward(self, inputs):\n",
        "    # this is the forward pass of the neural network\n",
        "    # given inputs, it computes the output\n",
        "\n",
        "    # this looks up the embeddings for each word ID in inputs\n",
        "    # the result is a sequence of word embeddings\n",
        "    embeds = self.embed(inputs)\n",
        "    \n",
        "    # the output is the sum across the time dimension (1)\n",
        "    # with the bias term added\n",
        "    logits1 = embeds.sum(1) + self.bias1\n",
        "    logits = self.linear(logits1) + self.bias2\n",
        "\n",
        "    return logits"
      ],
      "execution_count": 0,
      "outputs": []
    },
    {
      "cell_type": "code",
      "metadata": {
        "id": "7N5_GWOHtMGw",
        "colab_type": "code",
        "outputId": "595b0f95-16b6-4a84-cabf-ae9b8e352d8e",
        "colab": {
          "base_uri": "https://localhost:8080/",
          "height": 1000
        }
      },
      "source": [
        "# If everything is in place we can now train our first model!\n",
        "cbow_model = CBOW(len(v.w2i), 300, vocab=v)\n",
        "print(cbow_model)\n",
        "\n",
        "cbow_model = cbow_model.to(device)\n",
        "\n",
        "optimizer = optim.Adam(cbow_model.parameters(), lr=0.0005)\n",
        "cbow_losses, cbow_accuracies = train_model(\n",
        "    cbow_model, optimizer, num_iterations=30000, \n",
        "    print_every=1000, eval_every=1000)"
      ],
      "execution_count": 0,
      "outputs": [
        {
          "output_type": "stream",
          "text": [
            "CBOW(\n",
            "  (embed): Embedding(18280, 300)\n",
            "  (linear): Linear(in_features=300, out_features=5, bias=True)\n",
            ")\n",
            "Shuffling training data\n",
            "Iter 1000: loss=2748.4746, time=4.90s\n",
            "iter 1000: dev acc=0.2303\n",
            "new highscore\n",
            "Iter 2000: loss=2340.1007, time=9.92s\n",
            "iter 2000: dev acc=0.2467\n",
            "new highscore\n",
            "Iter 3000: loss=2091.2824, time=14.97s\n",
            "iter 3000: dev acc=0.2632\n",
            "new highscore\n",
            "Iter 4000: loss=2076.0755, time=20.10s\n",
            "iter 4000: dev acc=0.2829\n",
            "new highscore\n",
            "Iter 5000: loss=1935.6990, time=25.20s\n",
            "iter 5000: dev acc=0.2500\n",
            "Iter 6000: loss=1972.4038, time=30.17s\n",
            "iter 6000: dev acc=0.3322\n",
            "new highscore\n",
            "Iter 7000: loss=1872.7465, time=35.25s\n",
            "iter 7000: dev acc=0.3421\n",
            "new highscore\n",
            "Iter 8000: loss=1859.9790, time=40.41s\n",
            "iter 8000: dev acc=0.3026\n",
            "Shuffling training data\n",
            "Iter 9000: loss=1717.4633, time=45.40s\n",
            "iter 9000: dev acc=0.3421\n",
            "Iter 10000: loss=1584.7910, time=50.40s\n",
            "iter 10000: dev acc=0.3257\n",
            "Iter 11000: loss=1661.3175, time=55.40s\n",
            "iter 11000: dev acc=0.2928\n",
            "Iter 12000: loss=1643.9769, time=60.41s\n",
            "iter 12000: dev acc=0.2829\n",
            "Iter 13000: loss=1595.3559, time=65.39s\n",
            "iter 13000: dev acc=0.3092\n",
            "Iter 14000: loss=1685.9344, time=70.35s\n",
            "iter 14000: dev acc=0.3355\n",
            "Iter 15000: loss=1662.0545, time=75.33s\n",
            "iter 15000: dev acc=0.2993\n",
            "Iter 16000: loss=1633.5053, time=80.31s\n",
            "iter 16000: dev acc=0.3125\n",
            "Iter 17000: loss=1608.8505, time=85.32s\n",
            "iter 17000: dev acc=0.3421\n",
            "Shuffling training data\n",
            "Iter 18000: loss=1287.2361, time=90.29s\n",
            "iter 18000: dev acc=0.2928\n",
            "Iter 19000: loss=1305.4924, time=95.31s\n",
            "iter 19000: dev acc=0.3191\n",
            "Iter 20000: loss=1345.8198, time=100.35s\n",
            "iter 20000: dev acc=0.3158\n",
            "Iter 21000: loss=1324.4051, time=105.37s\n",
            "iter 21000: dev acc=0.3191\n",
            "Iter 22000: loss=1389.9875, time=110.35s\n",
            "iter 22000: dev acc=0.3257\n",
            "Iter 23000: loss=1347.6062, time=115.36s\n",
            "iter 23000: dev acc=0.3388\n",
            "Iter 24000: loss=1258.2766, time=120.33s\n",
            "iter 24000: dev acc=0.3059\n",
            "Iter 25000: loss=1404.0558, time=125.34s\n",
            "iter 25000: dev acc=0.3289\n",
            "Shuffling training data\n",
            "Iter 26000: loss=1209.9187, time=130.34s\n",
            "iter 26000: dev acc=0.3355\n",
            "Iter 27000: loss=970.0617, time=135.33s\n",
            "iter 27000: dev acc=0.3224\n",
            "Iter 28000: loss=944.5485, time=140.34s\n",
            "iter 28000: dev acc=0.3026\n",
            "Iter 29000: loss=1010.4408, time=145.33s\n",
            "iter 29000: dev acc=0.3322\n",
            "Iter 30000: loss=1072.8067, time=150.31s\n",
            "iter 30000: dev acc=0.3191\n",
            "Done training\n",
            "Loading best model\n",
            "best model iter 7000: train acc=0.3806, dev acc=0.3421, test acc=0.3227\n"
          ],
          "name": "stdout"
        }
      ]
    },
    {
      "cell_type": "code",
      "metadata": {
        "id": "DhXQBSXRtOex",
        "colab_type": "code",
        "outputId": "4011a919-8656-4f22-84e4-27ccd7c7335d",
        "colab": {
          "base_uri": "https://localhost:8080/",
          "height": 447
        }
      },
      "source": [
        "# This will plot the validation accuracies across time.\n",
        "x = [1000 * x_ for x_ in range(len(cbow_accuracies))]\n",
        "plt.plot(x, cbow_accuracies)"
      ],
      "execution_count": 0,
      "outputs": [
        {
          "output_type": "execute_result",
          "data": {
            "text/plain": [
              "[<matplotlib.lines.Line2D at 0x7f4317869b70>]"
            ]
          },
          "metadata": {
            "tags": []
          },
          "execution_count": 52
        },
        {
          "output_type": "display_data",
          "data": {
            "image/png": "[encoded data removed]",
            "text/plain": [
              "<Figure size 640x480 with 1 Axes>"
            ]
          },
          "metadata": {
            "tags": []
          }
        }
      ]
    },
    {
      "cell_type": "code",
      "metadata": {
        "id": "hXDY0EAUtUKA",
        "colab_type": "code",
        "outputId": "589154b0-00eb-450f-e14d-137cef8ba993",
        "colab": {
          "base_uri": "https://localhost:8080/",
          "height": 447
        }
      },
      "source": [
        "# This will plot the training loss over time.\n",
        "x = [1000 * x_ for x_ in range(len(cbow_losses))]\n",
        "plt.plot(x, cbow_losses)\n"
      ],
      "execution_count": 0,
      "outputs": [
        {
          "output_type": "execute_result",
          "data": {
            "text/plain": [
              "[<matplotlib.lines.Line2D at 0x7f4317854320>]"
            ]
          },
          "metadata": {
            "tags": []
          },
          "execution_count": 53
        },
        {
          "output_type": "display_data",
          "data": {
            "image/png": "[encoded data removed]",
            "text/plain": [
              "<Figure size 640x480 with 1 Axes>"
            ]
          },
          "metadata": {
            "tags": []
          }
        }
      ]
    },
    {
      "cell_type": "markdown",
      "metadata": {
        "id": "zpFt_Fo2TdN0",
        "colab_type": "text"
      },
      "source": [
        "# Deep CBOW"
      ]
    },
    {
      "cell_type": "markdown",
      "metadata": {
        "id": "iZanOMesTfEZ",
        "colab_type": "text"
      },
      "source": [
        "To see if we can squeeze some more performance out of the CBOW model, we can make it deeper and non-linear: add more layers and tanh-activations.\n",
        "By using more parameters we can learn more aspects of the data, and by using more layers and non-linearities, we can try to learn a more complex function. \n",
        "This is not something that always works. If the input-output mapping of your data is simple, then a complicated function could easily overfit on your training set, which will lead to poor generalization. \n",
        "\n",
        "We will use E for the size of the word embeddings (use: 300) and D for the size of a hidden layer (use: 100).\n",
        "\n",
        "#### Exercise: write Deep CBOW class and train it\n",
        "\n",
        "Write a class `DeepCBOW`.\n",
        "\n",
        "In your code, make sure that your `output_layer` consists of the following:\n",
        "- A linear transformation from E units to D units.\n",
        "- A Tanh activation\n",
        "- A linear transformation from D units to D units\n",
        "- A Tanh activation\n",
        "- A linear transformation from D units to 5 units (our output classes).\n",
        "\n",
        "We recommend using [nn.Sequential](https://pytorch.org/docs/stable/nn.html?highlight=sequential#torch.nn.Sequential) to implement this exercise."
      ]
    },
    {
      "cell_type": "code",
      "metadata": {
        "id": "l8Z1igvpTrZq",
        "colab_type": "code",
        "colab": {}
      },
      "source": [
        "E = 300 #size of word embeddings\n",
        "D = 100 #size of hidden layer\n",
        "\n",
        "\n",
        "class Deep_CBOW(nn.Module):\n",
        "  def __init__(self, vocab_size, embedding_dim, hidden_layer, output_dim, vocab):\n",
        "    super(Deep_CBOW, self).__init__()\n",
        "    self.vocab = vocab\n",
        "\n",
        "\n",
        "    self.embed = nn.Embedding(vocab_size, embedding_dim)\n",
        "    self.bias = nn.Parameter(torch.zeros(embedding_dim), requires_grad=True) \n",
        "\n",
        "    self.layers = nn.Sequential(\n",
        "        nn.Linear(embedding_dim, hidden_layer),\n",
        "        nn.Tanh(),\n",
        "        nn.Linear(hidden_layer, hidden_layer),\n",
        "        nn.Tanh(),\n",
        "        nn.Linear(hidden_layer, output_dim)   \n",
        "    )\n",
        "\n",
        "\n",
        "  def forward(self, inputs):\n",
        "    embeds = self.embed(inputs)\n",
        "\n",
        "    part1 = embeds.sum(1) + self.bias\n",
        "\n",
        "    logits = self.layers(part1)\n",
        "\n",
        "    return logits\n"
      ],
      "execution_count": 0,
      "outputs": []
    },
    {
      "cell_type": "code",
      "metadata": {
        "id": "M4A_xPNevFSI",
        "colab_type": "code",
        "outputId": "5389d229-123f-4356-dca8-b52cb371cfbc",
        "colab": {
          "base_uri": "https://localhost:8080/",
          "height": 1000
        }
      },
      "source": [
        "# If everything is in place we can now train our first model!\n",
        "embedding_size = 300\n",
        "hidden_layer = 100\n",
        "output_dim = 5\n",
        "deep_cbow_model = Deep_CBOW(len(v.w2i), embedding_size, hidden_layer, output_dim, vocab=v)\n",
        "print(deep_cbow_model)\n",
        "\n",
        "deep_cbow_model = deep_cbow_model.to(device)\n",
        "\n",
        "optimizer = optim.Adam(deep_cbow_model.parameters(), lr=0.0005)\n",
        "deep_cbow_losses, deep_cbow_accuracies = train_model(\n",
        "    deep_cbow_model, optimizer, num_iterations=30000, \n",
        "    print_every=1000, eval_every=1000)"
      ],
      "execution_count": 0,
      "outputs": [
        {
          "output_type": "stream",
          "text": [
            "Deep_CBOW(\n",
            "  (embed): Embedding(18280, 300)\n",
            "  (layers): Sequential(\n",
            "    (0): Linear(in_features=300, out_features=100, bias=True)\n",
            "    (1): Tanh()\n",
            "    (2): Linear(in_features=100, out_features=100, bias=True)\n",
            "    (3): Tanh()\n",
            "    (4): Linear(in_features=100, out_features=5, bias=True)\n",
            "  )\n",
            ")\n",
            "Shuffling training data\n",
            "Iter 1000: loss=1600.3913, time=5.42s\n",
            "iter 1000: dev acc=0.2730\n",
            "new highscore\n",
            "Iter 2000: loss=1590.0951, time=11.07s\n",
            "iter 2000: dev acc=0.2796\n",
            "new highscore\n",
            "Iter 3000: loss=1538.8147, time=16.74s\n",
            "iter 3000: dev acc=0.3059\n",
            "new highscore\n",
            "Iter 4000: loss=1540.2694, time=22.43s\n",
            "iter 4000: dev acc=0.3158\n",
            "new highscore\n",
            "Iter 5000: loss=1531.1756, time=28.21s\n",
            "iter 5000: dev acc=0.2895\n",
            "Iter 6000: loss=1520.3449, time=33.77s\n",
            "iter 6000: dev acc=0.3421\n",
            "new highscore\n",
            "Iter 7000: loss=1482.5070, time=39.45s\n",
            "iter 7000: dev acc=0.3322\n",
            "Iter 8000: loss=1503.5102, time=45.05s\n",
            "iter 8000: dev acc=0.3158\n",
            "Shuffling training data\n",
            "Iter 9000: loss=1437.3394, time=50.64s\n",
            "iter 9000: dev acc=0.3454\n",
            "new highscore\n",
            "Iter 10000: loss=1370.2063, time=56.31s\n",
            "iter 10000: dev acc=0.2533\n",
            "Iter 11000: loss=1357.5705, time=61.87s\n",
            "iter 11000: dev acc=0.3289\n",
            "Iter 12000: loss=1353.0216, time=67.45s\n",
            "iter 12000: dev acc=0.3783\n",
            "new highscore\n",
            "Iter 13000: loss=1361.3092, time=73.12s\n",
            "iter 13000: dev acc=0.3553\n",
            "Iter 14000: loss=1369.4740, time=78.72s\n",
            "iter 14000: dev acc=0.3224\n",
            "Iter 15000: loss=1348.5519, time=84.30s\n",
            "iter 15000: dev acc=0.3816\n",
            "new highscore\n",
            "Iter 16000: loss=1356.7031, time=90.01s\n",
            "iter 16000: dev acc=0.3717\n",
            "Iter 17000: loss=1351.1633, time=95.59s\n",
            "iter 17000: dev acc=0.3651\n",
            "Shuffling training data\n",
            "Iter 18000: loss=1206.0956, time=101.19s\n",
            "iter 18000: dev acc=0.3257\n",
            "Iter 19000: loss=1144.3079, time=106.79s\n",
            "iter 19000: dev acc=0.3355\n",
            "Iter 20000: loss=1205.1282, time=112.37s\n",
            "iter 20000: dev acc=0.3586\n",
            "Iter 21000: loss=1179.7628, time=117.94s\n",
            "iter 21000: dev acc=0.3586\n",
            "Iter 22000: loss=1167.1223, time=123.51s\n",
            "iter 22000: dev acc=0.3849\n",
            "new highscore\n",
            "Iter 23000: loss=1209.0651, time=129.18s\n",
            "iter 23000: dev acc=0.3684\n",
            "Iter 24000: loss=1187.1442, time=134.75s\n",
            "iter 24000: dev acc=0.3454\n",
            "Iter 25000: loss=1163.7835, time=140.32s\n",
            "iter 25000: dev acc=0.3750\n",
            "Shuffling training data\n",
            "Iter 26000: loss=1128.4542, time=145.87s\n",
            "iter 26000: dev acc=0.3717\n",
            "Iter 27000: loss=964.9213, time=151.46s\n",
            "iter 27000: dev acc=0.3092\n",
            "Iter 28000: loss=995.2421, time=157.04s\n",
            "iter 28000: dev acc=0.3289\n",
            "Iter 29000: loss=1021.0711, time=162.61s\n",
            "iter 29000: dev acc=0.3882\n",
            "new highscore\n",
            "Iter 30000: loss=976.8164, time=168.29s\n",
            "iter 30000: dev acc=0.3421\n",
            "Done training\n",
            "Loading best model\n",
            "best model iter 29000: train acc=0.6331, dev acc=0.3882, test acc=0.3966\n"
          ],
          "name": "stdout"
        }
      ]
    },
    {
      "cell_type": "code",
      "metadata": {
        "id": "hQBcT1PPvIBn",
        "colab_type": "code",
        "outputId": "f0e61c49-9e0a-4eae-b061-1a9ed1fe66e8",
        "colab": {
          "base_uri": "https://localhost:8080/",
          "height": 447
        }
      },
      "source": [
        "# This will plot the validation accuracies across time.\n",
        "x = [1000 * x_ for x_ in range(len(deep_cbow_accuracies))]\n",
        "plt.plot(x, deep_cbow_accuracies)"
      ],
      "execution_count": 0,
      "outputs": [
        {
          "output_type": "execute_result",
          "data": {
            "text/plain": [
              "[<matplotlib.lines.Line2D at 0x7f431777ecf8>]"
            ]
          },
          "metadata": {
            "tags": []
          },
          "execution_count": 56
        },
        {
          "output_type": "display_data",
          "data": {
            "image/png": "[encoded data removed]",
            "text/plain": [
              "<Figure size 640x480 with 1 Axes>"
            ]
          },
          "metadata": {
            "tags": []
          }
        }
      ]
    },
    {
      "cell_type": "code",
      "metadata": {
        "id": "T-2lntWPvKSr",
        "colab_type": "code",
        "outputId": "830a36d2-7805-4db5-a673-c8a5868303d5",
        "colab": {
          "base_uri": "https://localhost:8080/",
          "height": 447
        }
      },
      "source": [
        "# This will plot the training loss over time.\n",
        "x = [1000 * x_ for x_ in range(len(deep_cbow_losses))]\n",
        "plt.plot(x, deep_cbow_losses)"
      ],
      "execution_count": 0,
      "outputs": [
        {
          "output_type": "execute_result",
          "data": {
            "text/plain": [
              "[<matplotlib.lines.Line2D at 0x7f43176e5940>]"
            ]
          },
          "metadata": {
            "tags": []
          },
          "execution_count": 57
        },
        {
          "output_type": "display_data",
          "data": {
            "image/png": "[encoded data removed]",
            "text/plain": [
              "<Figure size 640x480 with 1 Axes>"
            ]
          },
          "metadata": {
            "tags": []
          }
        }
      ]
    },
    {
      "cell_type": "markdown",
      "metadata": {
        "id": "MQZ5flHwiiHY",
        "colab_type": "text"
      },
      "source": [
        "# Pre-trained word embeddings"
      ]
    },
    {
      "cell_type": "markdown",
      "metadata": {
        "id": "9NX35vecmHy6",
        "colab_type": "text"
      },
      "source": [
        "The Stanford sentiment treebank is a very small data set, since it was manually annotated. This makes it difficult for the model to learn good word embeddings, to learn the \"meaning\" of the words in our vocabulary.\n",
        "\n",
        "Think for a moment about the fact that the only error signal that the network receives is from predicting the sentiment!\n",
        "\n",
        "To mitigate our data sparsity, we can download **pre-trained word embeddings**. \n",
        "You can choose which pre-trained word embeddings to use:\n",
        "\n",
        "- **Glove**. The \"original\" Stanford Sentiment classification [paper](http://aclweb.org/anthology/P/P15/P15-1150.pdf) used Glove embeddings, which are just another method (like *word2vec*) to get word embeddings from unannotated text. Glove is described in the following paper which you should cite if you use them:\n",
        "> Jeffrey Pennington, Richard Socher, and Christopher Manning. [\"Glove: Global vectors for word representation.\"](https://nlp.stanford.edu/pubs/glove.pdf) EMNLP 2014. \n",
        "\n",
        "- **word2vec**. This is the method that you learned about in class, described in:\n",
        "> Mikolov, Tomas, et al. [\"Distributed representations of words and phrases and their compositionality.\"](https://papers.nips.cc/paper/5021-distributed-representations-of-words-and-phrases-and-their-compositionality.pdf) Advances in neural information processing systems. 2013.\n",
        "\n",
        "With these pre-trained word embeddings, we can initialize our word embedding lookup table and start form a point where similar words are already close to one another. \n",
        "\n",
        "You can choose to keep the word embeddings **fixed** or to train them further.\n",
        "We will keep them fixed for now.\n",
        "\n",
        "For the purposes of this lab, it is enough if you understand how word2vec works (whichever vectors you use). If you are interested you may also check out the Glove paper.\n",
        "\n",
        "You can either download the word2vec vectors, or the Glove vectors.\n",
        "If you want to compare your results to the Stanford paper later on, then you should use Glove. \n",
        "**At the end of this lab you have the option to compare which vectors give you the best performance. For now, simply choose one of them and continue with that.**\n",
        "\n",
        "[**OPTIONAL in case you don't want to mount Google Drive:** instead of running all the 5 boxes below, you can 1) download the Glove and word2vec in your local machine, 2) upload them on your Drive folder (\"My Drive\"). Then, uncomment the first 2 lines in box 6 before writing your code!]\n"
      ]
    },
    {
      "cell_type": "code",
      "metadata": {
        "id": "lGYr02WWO993",
        "colab_type": "code",
        "outputId": "be9c3c6f-dd09-4397-8c11-9f7c22bd8ff4",
        "colab": {
          "base_uri": "https://localhost:8080/",
          "height": 224
        }
      },
      "source": [
        "# This downloads the Glove 840B 300d embeddings.\n",
        "# The original file is at http://nlp.stanford.edu/data/glove.840B.300d.zip\n",
        "# Since that file is 2GB, we provide you with a *filtered version*\n",
        "# which contains all the words you need for this data set.\n",
        "\n",
        "# You only need to do this once.\n",
        "# Please comment this cell out after downloading.\n",
        "\n",
        "# !wget https://gist.githubusercontent.com/bastings/b094de2813da58056a05e8e7950d4ad1/raw/3fbd3976199c2b88de2ae62afc0ecc6f15e6f7ce/glove.840B.300d.sst.txt"
      ],
      "execution_count": 0,
      "outputs": [
        {
          "output_type": "stream",
          "text": [
            "--2019-12-10 13:05:51--  https://gist.githubusercontent.com/bastings/b094de2813da58056a05e8e7950d4ad1/raw/3fbd3976199c2b88de2ae62afc0ecc6f15e6f7ce/glove.840B.300d.sst.txt\n",
            "Resolving gist.githubusercontent.com (gist.githubusercontent.com)... 151.101.0.133, 151.101.64.133, 151.101.128.133, ...\n",
            "Connecting to gist.githubusercontent.com (gist.githubusercontent.com)|151.101.0.133|:443... connected.\n",
            "HTTP request sent, awaiting response... 200 OK\n",
            "Length: 53933315 (51M) [text/plain]\n",
            "Saving to: ‘glove.840B.300d.sst.txt.1’\n",
            "\n",
            "\r          glove.840   0%[                    ]       0  --.-KB/s               \r         glove.840B  85%[================>   ]  44.16M   221MB/s               \rglove.840B.300d.sst 100%[===================>]  51.43M   230MB/s    in 0.2s    \n",
            "\n",
            "2019-12-10 13:05:52 (230 MB/s) - ‘glove.840B.300d.sst.txt.1’ saved [53933315/53933315]\n",
            "\n"
          ],
          "name": "stdout"
        }
      ]
    },
    {
      "cell_type": "code",
      "metadata": {
        "id": "6NLsgFGiTjmI",
        "colab_type": "code",
        "outputId": "f43c015f-7683-45cd-d18c-2a658ff24452",
        "colab": {
          "base_uri": "https://localhost:8080/",
          "height": 224
        }
      },
      "source": [
        "# This downloads the word2vec 300D Google News vectors \n",
        "# The file has been truncated to only contain words that appear in our data set.\n",
        "# You can find the original file here: https://code.google.com/archive/p/word2vec/\n",
        "\n",
        "# You only need to do this once.\n",
        "# Please comment this out after downloading.\n",
        "!wget https://gist.githubusercontent.com/bastings/4d1c346c68969b95f2c34cfbc00ba0a0/raw/76b4fefc9ef635a79d0d8002522543bc53ca2683/googlenews.word2vec.300d.txt"
      ],
      "execution_count": 0,
      "outputs": [
        {
          "output_type": "stream",
          "text": [
            "--2019-12-10 13:05:56--  https://gist.githubusercontent.com/bastings/4d1c346c68969b95f2c34cfbc00ba0a0/raw/76b4fefc9ef635a79d0d8002522543bc53ca2683/googlenews.word2vec.300d.txt\n",
            "Resolving gist.githubusercontent.com (gist.githubusercontent.com)... 151.101.0.133, 151.101.64.133, 151.101.128.133, ...\n",
            "Connecting to gist.githubusercontent.com (gist.githubusercontent.com)|151.101.0.133|:443... connected.\n",
            "HTTP request sent, awaiting response... 200 OK\n",
            "Length: 66209703 (63M) [text/plain]\n",
            "Saving to: ‘googlenews.word2vec.300d.txt.1’\n",
            "\n",
            "\r          googlenew   0%[                    ]       0  --.-KB/s               \r         googlenews  73%[=============>      ]  46.42M   232MB/s               \rgooglenews.word2vec 100%[===================>]  63.14M   215MB/s    in 0.3s    \n",
            "\n",
            "2019-12-10 13:05:57 (215 MB/s) - ‘googlenews.word2vec.300d.txt.1’ saved [66209703/66209703]\n",
            "\n"
          ],
          "name": "stdout"
        }
      ]
    },
    {
      "cell_type": "code",
      "metadata": {
        "id": "GXBITzPRQUQb",
        "colab_type": "code",
        "cellView": "both",
        "outputId": "46e515c3-f4a1-462f-9268-a01d97c3354b",
        "colab": {
          "base_uri": "https://localhost:8080/",
          "height": 34
        }
      },
      "source": [
        "# Mount Google Drive (to save the downloaded files)\n",
        "from google.colab import drive\n",
        "drive.mount('/gdrive')"
      ],
      "execution_count": 0,
      "outputs": [
        {
          "output_type": "stream",
          "text": [
            "Mounted at /gdrive\n"
          ],
          "name": "stdout"
        }
      ]
    },
    {
      "cell_type": "code",
      "metadata": {
        "id": "uFvzPuiKSCbl",
        "colab_type": "code",
        "colab": {}
      },
      "source": [
        "# Copy word vectors *to* Google Drive\n",
        "\n",
        "# You only need to do this once.\n",
        "# Please comment this out after running it. \n",
        "# !cp \"glove.840B.300d.sst.txt\" \"/gdrive/My Drive/\"\n",
        "# !cp \"googlenews.word2vec.300d.txt\" \"/gdrive/My Drive/\""
      ],
      "execution_count": 0,
      "outputs": []
    },
    {
      "cell_type": "code",
      "metadata": {
        "id": "kUMH0bM6BuY9",
        "colab_type": "code",
        "colab": {}
      },
      "source": [
        "# If you copied the word vectors to your Drive before,\n",
        "# here is where you copy them back to the Colab notebook.\n",
        "\n",
        "# Copy Glove vectors *from* Google Drive\n",
        "!cp \"/gdrive/My Drive/glove.840B.300d.sst.txt\" .\n",
        "!cp \"/gdrive/My Drive/googlenews.word2vec.300d.txt\" ."
      ],
      "execution_count": 0,
      "outputs": []
    },
    {
      "cell_type": "markdown",
      "metadata": {
        "id": "MX2GJVHILM8n",
        "colab_type": "text"
      },
      "source": [
        "At this point you have the pre-trained word embedding files, but what do they look like?"
      ]
    },
    {
      "cell_type": "code",
      "metadata": {
        "id": "ChsChH14Ruxn",
        "colab_type": "code",
        "outputId": "1a389f28-4dc2-4a50-f78a-3dee2593647b",
        "colab": {
          "base_uri": "https://localhost:8080/",
          "height": 309
        }
      },
      "source": [
        "# Uncomment these 2 lines below if went for the OPTIONAL method described above\n",
        "# !cp \"glove.840B.300d.sst.txt\" \"./\"\n",
        "# !cp \"googlenews.word2vec.300d.txt\" \"./\"\n",
        "\n",
        "\n",
        "# Exercise: Print the first 4 lines of the files that you downloaded.\n",
        "# What do you see?\n",
        "\n",
        "number_of_lines = 4\n",
        "with open(\"/gdrive/My Drive/glove.840B.300d.sst.txt\", mode = 'r') as glove:\n",
        "  for line_number in range(number_of_lines):\n",
        "    line = glove.readline()\n",
        "    print(\"Line {}: {}\".format(line_number, line))    \n",
        "\n",
        "with open(\"/gdrive/My Drive/googlenews.word2vec.300d.txt\", mode = 'r') as word2vec:\n",
        "  for line_number in range(number_of_lines):\n",
        "    line = word2vec.readline()\n",
        "    print(\"Line {}: {}\".format(line_number, line))   \n",
        "\n",
        "  "
      ],
      "execution_count": 0,
      "outputs": [
        {
          "output_type": "stream",
          "text": [
            "Line 0: , -0.082752 0.67204 -0.14987 -0.064983 0.056491 0.40228 0.0027747 -0.3311 -0.30691 2.0817 0.031819 0.013643 0.30265 0.0071297 -0.5819 -0.2774 -0.062254 1.1451 -0.24232 0.1235 -0.12243 0.33152 -0.006162 -0.30541 -0.13057 -0.054601 0.037083 -0.070552 0.5893 -0.30385 0.2898 -0.14653 -0.27052 0.37161 0.32031 -0.29125 0.0052483 -0.13212 -0.052736 0.087349 -0.26668 -0.16897 0.015162 -0.0083746 -0.14871 0.23413 -0.20719 -0.091386 0.40075 -0.17223 0.18145 0.37586 -0.28682 0.37289 -0.16185 0.18008 0.3032 -0.13216 0.18352 0.095759 0.094916 0.008289 0.11761 0.34046 0.03677 -0.29077 0.058303 -0.027814 0.082941 0.1862 -0.031494 0.27985 -0.074412 -0.13762 -0.21866 0.18138 0.040855 -0.113 0.24107 0.3657 -0.27525 -0.05684 0.34872 0.011884 0.14517 -0.71395 0.48497 0.14807 0.62287 0.20599 0.58379 -0.13438 0.40207 0.18311 0.28021 -0.42349 -0.25626 0.17715 -0.54095 0.16596 -0.036058 0.08499 -0.64989 0.075549 -0.28831 0.40626 -0.2802 0.094062 0.32406 0.28437 -0.26341 0.11553 0.071918 -0.47215 -0.18366 -0.34709 0.29964 -0.66514 0.002516 -0.42333 0.27512 0.36012 0.16311 0.23964 -0.05923 0.3261 0.20559 0.038677 -0.045816 0.089764 0.43151 -0.15954 0.08532 -0.26572 -0.15001 0.084286 -0.16714 -0.43004 0.060807 0.13121 -0.24112 0.66554 0.4453 -0.18019 -0.13919 0.56252 0.21457 -0.46443 -0.012211 0.029988 -0.051094 -0.20135 0.80788 0.47377 -0.057647 0.46216 0.16084 -0.20954 -0.05452 0.15572 -0.13712 0.12972 -0.011936 -0.003378 -0.13595 -0.080711 0.20065 0.054056 0.046816 0.059539 0.046265 0.17754 -0.31094 0.28119 -0.24355 0.085252 -0.21011 -0.19472 0.0027297 -0.46341 0.14789 -0.31517 -0.065939 0.036106 0.42903 -0.33759 0.16432 0.32568 -0.050392 -0.054297 0.24074 0.41923 0.13012 -0.17167 -0.37808 -0.23089 -0.019477 -0.29291 -0.30824 0.30297 -0.22659 0.081574 -0.18516 -0.21408 0.40616 -0.28974 0.074174 -0.17795 0.28595 -0.039626 -0.2339 -0.36054 -0.067503 -0.091065 0.23438 -0.0041331 0.003232 0.0072134 0.008697 0.21614 0.049904 0.35582 0.13748 0.073361 0.14166 0.2412 -0.013322 0.15613 0.083381 0.088146 -0.019357 0.43795 0.083961 0.45309 -0.50489 -0.10865 -0.2527 -0.18251 0.20441 0.13319 0.1294 0.050594 -0.15612 -0.39543 0.12538 0.24881 -0.1927 -0.31847 -0.12719 0.4341 0.31177 -0.0040946 -0.2094 -0.079961 0.1161 -0.050794 0.015266 -0.2803 -0.12486 0.23587 0.2339 -0.14023 0.028462 0.56923 -0.1649 -0.036429 0.010051 -0.17107 -0.042608 0.044965 -0.4393 -0.26137 0.30088 -0.060772 -0.45312 -0.19076 -0.20288 0.27694 -0.060888 0.11944 0.62206 -0.19343 0.47849 -0.30113 0.059389 0.074901 0.061068 -0.4662 0.40054 -0.19099 -0.14331 0.018267 -0.18643 0.20709 -0.35598 0.05338 -0.050821 -0.1918 -0.37846 -0.06589\n",
            "\n",
            "Line 1: . 0.012001 0.20751 -0.12578 -0.59325 0.12525 0.15975 0.13748 -0.33157 -0.13694 1.7893 -0.47094 0.70434 0.26673 -0.089961 -0.18168 0.067226 0.053347 1.5595 -0.2541 0.038413 -0.01409 0.056774 0.023434 0.024042 0.31703 0.19025 -0.37505 0.035603 0.1181 0.012032 -0.037566 -0.5046 -0.049261 0.092351 0.11031 -0.073062 0.33994 0.28239 0.13413 0.070128 -0.022099 -0.28103 0.49607 -0.48693 -0.090964 -0.1538 -0.38011 -0.014228 -0.19392 -0.11068 -0.014088 -0.17906 0.24509 -0.16878 -0.15351 -0.13808 0.02151 0.13699 0.0068061 -0.14915 -0.38169 0.12727 0.44007 0.32678 -0.46117 0.068687 0.34747 0.18827 -0.31837 0.4447 -0.2095 -0.26987 0.48945 0.15388 0.05295 -0.049831 0.11207 0.14881 -0.37003 0.30777 -0.33865 0.045149 -0.18987 0.26634 -0.26401 -0.47556 0.68381 -0.30653 0.24606 0.31611 -0.071098 0.030417 0.088119 0.045025 0.20125 -0.21618 -0.36371 -0.25948 -0.42398 -0.14305 -0.10208 0.21498 -0.21924 -0.17935 0.21546 0.13801 0.24504 -0.2559 0.054815 0.21307 0.2564 -0.25673 0.17961 -0.47638 -0.25181 -0.0091498 -0.054362 -0.21007 0.12597 -0.40795 -0.021164 0.20585 0.18925 -0.0051896 -0.51394 0.28862 -0.077748 -0.27676 0.46567 -0.14225 -0.17879 -0.4357 -0.32481 0.15034 -0.058367 0.49652 0.20472 0.019866 0.13326 0.12823 -1.0177 0.29007 0.28995 0.029994 -0.10763 0.28665 -0.24387 0.22905 -0.26249 -0.069269 -0.17889 0.21936 0.15146 0.04567 -0.050497 0.071482 -0.1027 -0.080705 0.30296 0.031302 0.26613 -0.0060951 0.10313 -0.39987 -0.043945 -0.057625 0.08702 -0.098152 0.22835 -0.005211 0.038075 0.01591 -0.20622 0.021853 0.0040426 -0.043063 -0.002294 -0.26097 -0.25802 -0.28158 -0.23118 -0.010404 -0.30102 -0.4042 0.014653 -0.10445 0.30377 -0.20957 0.3119 0.068272 0.1008 0.010423 0.54011 0.29865 0.12653 0.013761 0.21738 -0.39521 0.066633 0.50327 0.14913 -0.11554 0.010042 0.095698 0.16607 -0.18808 0.055019 0.026715 -0.3164 -0.046583 -0.051591 0.023475 -0.11007 0.085642 0.28394 0.040497 0.071986 0.14157 -0.021199 0.44718 0.20088 -0.12964 -0.067183 0.47614 0.13394 -0.17287 -0.37324 -0.17285 0.02683 -0.1316 0.09116 -0.46487 0.1274 -0.090159 -0.10552 0.068006 -0.13381 0.17056 0.089509 -0.23133 -0.27572 0.061534 -0.051646 0.28377 0.25286 -0.24139 -0.19905 0.12049 -0.1011 0.27392 0.27843 0.26449 -0.18292 -0.048961 0.19198 0.17192 0.33659 -0.20184 -0.34305 -0.24553 -0.15399 0.3945 0.22839 -0.25753 -0.25675 -0.37332 -0.23884 -0.048816 0.78323 0.18851 -0.26477 0.096566 0.062658 -0.30668 -0.43334 0.10006 0.21136 0.039459 -0.11077 0.24421 0.60942 -0.46646 0.086385 -0.39702 -0.23363 0.021307 -0.10778 -0.2281 0.50803 0.11567 0.16165 -0.066737 -0.29556 0.022612 -0.28135 0.0635 0.14019 0.13871 -0.36049 -0.035\n",
            "\n",
            "Line 2: the 0.27204 -0.06203 -0.1884 0.023225 -0.018158 0.0067192 -0.13877 0.17708 0.17709 2.5882 -0.35179 -0.17312 0.43285 -0.10708 0.15006 -0.19982 -0.19093 1.1871 -0.16207 -0.23538 0.003664 -0.19156 -0.085662 0.039199 -0.066449 -0.04209 -0.19122 0.011679 -0.37138 0.21886 0.0011423 0.4319 -0.14205 0.38059 0.30654 0.020167 -0.18316 -0.0065186 -0.0080549 -0.12063 0.027507 0.29839 -0.22896 -0.22882 0.14671 -0.076301 -0.1268 -0.0066651 -0.052795 0.14258 0.1561 0.05551 -0.16149 0.09629 -0.076533 -0.049971 -0.010195 -0.047641 -0.16679 -0.2394 0.0050141 -0.049175 0.013338 0.41923 -0.10104 0.015111 -0.077706 -0.13471 0.119 0.10802 0.21061 -0.051904 0.18527 0.17856 0.041293 -0.014385 -0.082567 -0.035483 -0.076173 -0.045367 0.089281 0.33672 -0.22099 -0.0067275 0.23983 -0.23147 -0.88592 0.091297 -0.012123 0.013233 -0.25799 -0.02972 0.016754 0.01369 0.32377 0.039546 0.042114 -0.088243 0.30318 0.087747 0.16346 -0.40485 -0.043845 -0.040697 0.20936 -0.77795 0.2997 0.2334 0.14891 -0.39037 -0.053086 0.062922 0.065663 -0.13906 0.094193 0.10344 -0.2797 0.28905 -0.32161 0.020687 0.063254 -0.23257 -0.4352 -0.017049 -0.32744 -0.047064 -0.075149 -0.18788 -0.015017 0.029342 -0.3527 -0.044278 -0.13507 -0.11644 -0.1043 0.1392 0.0039199 0.37603 0.067217 -0.37992 -1.1241 -0.057357 -0.16826 0.03941 0.2604 -0.023866 0.17963 0.13553 0.2139 0.052633 -0.25033 -0.11307 0.22234 0.066597 -0.11161 0.062438 -0.27972 0.19878 -0.36262 -1.0006e-05 -0.17262 0.29166 -0.15723 0.054295 0.06101 -0.39165 0.2766 0.057816 0.39709 0.025229 0.24672 -0.08905 0.15683 -0.2096 -0.22196 0.052394 -0.01136 0.050417 -0.14023 -0.042825 -0.031931 -0.21336 -0.20402 -0.23272 0.07449 0.088202 -0.11063 -0.33526 -0.014028 -0.29429 -0.086911 -0.1321 -0.43616 0.20513 0.0079362 0.48505 0.064237 0.14261 -0.43711 0.12783 -0.13111 0.24673 -0.27496 0.15896 0.43314 0.090286 0.24662 0.066463 -0.20099 0.1101 0.03644 0.17359 -0.15689 -0.086328 -0.17316 0.36975 -0.40317 -0.064814 -0.034166 -0.013773 0.062854 -0.17183 -0.12366 -0.034663 -0.22793 -0.23172 0.239 0.27473 0.15332 0.10661 -0.060982 -0.024805 -0.13478 0.17932 -0.37374 -0.02893 -0.11142 -0.08389 -0.055932 0.068039 -0.10783 0.1465 0.094617 -0.084554 0.067429 -0.3291 0.034082 -0.16747 -0.25997 -0.22917 0.020159 -0.02758 0.16136 -0.18538 0.037665 0.57603 0.20684 0.27941 0.16477 -0.018769 0.12062 0.069648 0.059022 -0.23154 0.24095 -0.3471 0.04854 -0.056502 0.41566 -0.43194 0.4823 -0.051759 -0.27285 -0.25893 0.16555 -0.1831 -0.06734 0.42457 0.010346 0.14237 0.25939 0.17123 -0.13821 -0.066846 0.015981 -0.30193 0.043579 -0.043102 0.35025 -0.19681 -0.4281 0.16899 0.22511 -0.28557 -0.1028 -0.018168 0.11407 0.13015 -0.18317 0.1323\n",
            "\n",
            "Line 3: and -0.18567 0.066008 -0.25209 -0.11725 0.26513 0.064908 0.12291 -0.093979 0.024321 2.4926 -0.017916 -0.071218 -0.24782 -0.26237 -0.2246 -0.21961 -0.12927 1.0867 -0.66072 -0.031617 -0.057328 0.056903 -0.27939 -0.39825 0.14251 -0.085146 -0.14779 0.055067 -0.0028687 -0.20917 -0.070735 0.22577 -0.15881 -0.10395 0.09711 -0.56251 -0.32929 -0.20853 0.0098711 0.049777 0.0014883 0.15884 0.042771 -0.0026956 -0.02462 -0.19213 -0.22556 0.10838 0.090086 -0.13291 0.32559 -0.17038 -0.1099 -0.23986 -0.024289 0.014656 -0.237 0.084828 -0.35982 -0.076746 0.048909 0.11431 -0.21013 0.24765 -0.017531 -0.14028 0.046191 0.22972 0.1175 0.12724 0.012992 0.4587 0.41085 0.039106 0.15713 -0.18376 0.26834 0.056662 0.16844 -0.053788 -0.091892 0.11193 -0.08681 -0.13324 0.15062 -0.31733 -0.22078 0.25038 0.34131 0.36419 -0.089514 -0.22193 0.24471 0.040091 0.47798 -0.029996 0.0019212 0.063511 -0.20417 -0.26478 0.20649 0.015573 -0.27722 -0.18861 -0.10289 -0.49773 0.14986 -0.010877 0.25085 -0.28117 0.18966 -0.065879 0.094753 -0.15338 -0.055071 -0.36747 0.24993 0.096527 0.23538 0.18405 0.052859 0.22967 0.12582 0.15536 -0.17275 0.33946 -0.10049 0.074948 -0.093575 -0.04049 -0.016922 -0.0058039 -0.18108 0.19537 0.45178 0.10965 0.2337 -0.09905 -0.078633 0.21678 -0.71231 -0.099759 0.33333 -0.1646 -0.091688 0.21056 0.023669 0.028922 0.1199 -0.12512 -0.026037 -0.062217 0.55816 0.0050273 -0.30888 0.038611 0.17568 -0.11163 -0.10815 -0.19444 0.29433 0.14519 -0.042878 0.18534 0.018891 -0.61883 0.13352 0.036007 0.33995 0.22109 -0.079328 0.071319 0.17678 0.16378 -0.23142 -0.1434 -0.098122 -0.019286 0.2356 -0.34013 -0.061007 -0.23208 -0.31152 0.10063 -0.15957 0.20183 -0.016345 -0.12303 0.022667 -0.20986 -0.20127 -0.087883 0.064731 0.10195 -0.1786 0.33056 0.21407 -0.32165 -0.17106 0.19407 -0.38618 -0.2148 -0.052254 0.023175 0.47389 0.18612 0.12711 0.20855 -0.10256 -0.12016 -0.40488 0.029695 -0.027419 -0.0085227 -0.11415 0.081134 -0.17228 0.19142 0.026514 0.043789 -0.12399 0.13354 0.10112 0.081682 -0.15085 0.0075806 -0.18971 0.24669 0.22491 0.35553 -0.3277 -0.21821 0.1402 0.28604 0.055226 -0.086544 0.02111 -0.19236 0.074245 0.076782 0.00081666 0.034097 -0.57719 0.10657 0.28134 -0.11964 -0.68281 -0.32893 -0.24442 -0.025847 0.0091273 0.2025 -0.050959 -0.11042 0.010962 0.076773 0.40048 -0.40739 -0.44773 0.31954 -0.036326 -0.012789 -0.17282 0.1476 0.2356 0.080642 -0.36528 -0.0083443 0.6239 -0.24379 0.019917 -0.28803 -0.010494 0.038412 -0.11718 -0.072462 0.16381 0.38488 -0.029783 0.23444 0.4532 0.14815 -0.027021 -0.073181 -0.1147 -0.0054545 0.47796 0.090912 0.094489 -0.36882 -0.59396 -0.097729 0.20072 0.17055 -0.0047356 -0.039709 0.32498 -0.023452 0.12302 0.3312\n",
            "\n",
            "Line 0: in 0.0703125 0.08691406 0.087890625 0.0625 0.06933594 -0.10888672 -0.08154297 -0.15429688 0.020751953 0.13183594 -0.11376953 -0.037353516 0.06933594 0.078125 -0.103027344 -0.09765625 0.044189453 0.10253906 -0.060791016 -0.036132812 -0.045410156 0.04736328 -0.12060547 -0.063964844 0.0022583008 0.037109375 -0.0029144287 0.11767578 0.061767578 0.063964844 0.08105469 -0.068847656 -0.021362305 0.05517578 -0.08544922 0.068847656 -0.12792969 -0.033203125 0.09863281 0.17578125 0.110839844 -0.03466797 -0.04711914 -0.008483887 0.035888672 0.103027344 0.026977539 -0.028686523 -0.005126953 0.10644531 0.059814453 0.09423828 0.033691406 -0.02709961 -0.09423828 0.0010299683 -0.048339844 0.034423828 0.08105469 -0.11328125 -0.08886719 0.035888672 -0.14550781 -0.24414062 -0.061523438 0.052978516 0.056884766 0.1796875 0.061035156 0.08691406 0.12402344 -0.040283203 0.022583008 0.17773438 -0.029663086 -0.029663086 0.1171875 0.03112793 -0.096191406 0.06640625 0.004699707 -0.080078125 0.06298828 -0.020629883 -0.0546875 -0.13574219 -0.06347656 0.083496094 -0.063964844 0.021484375 0.07714844 -0.037109375 -0.033691406 -0.18359375 -0.072753906 0.01586914 0.09326172 -0.061523438 -0.014221191 -0.0034484863 0.011108398 -0.15820312 -0.017089844 0.0061950684 -0.008728027 -0.080566406 -0.015258789 -0.087890625 0.003479004 -0.016113281 -0.012329102 0.09765625 -0.13964844 -0.0859375 -0.026855469 0.053955078 0.1328125 0.11279297 0.12109375 0.08544922 -0.0071105957 0.044677734 -0.14550781 -0.0032043457 -0.11767578 -0.06542969 0.07128906 -0.09423828 -0.030273438 0.12011719 0.080078125 -0.09472656 -0.16210938 -0.07763672 0.021240234 -0.08154297 0.0039367676 -0.15722656 -0.09814453 0.039794922 0.03930664 -0.009094238 0.103027344 0.067871094 -0.04272461 0.06347656 -0.049072266 0.020874023 -0.16699219 0.09326172 0.09375 0.006866455 0.053710938 0.052490234 -0.024414062 -0.032470703 -0.061523438 -0.005554199 0.096191406 0.037841797 0.012207031 -0.043945312 -0.0074768066 0.10546875 0.020385742 0.14550781 0.08203125 0.0057678223 0.0045776367 -0.09277344 -0.13867188 -0.057373047 -0.051513672 -0.13085938 -0.13964844 -0.020507812 -0.02709961 0.032714844 0.10498047 -0.0023345947 -0.022583008 0.00050354004 -0.110839844 0.08496094 -0.12988281 -0.017456055 -0.00035858154 0.107910156 0.08886719 0.044677734 0.025146484 0.023803711 0.08105469 0.02368164 -0.10986328 0.0053710938 -0.017700195 -0.033935547 -0.032958984 -0.1640625 0.095703125 -0.018310547 0.0053100586 -0.034423828 -0.044189453 -0.06640625 -0.017944336 -0.029663086 -0.007598877 -0.05126953 -0.05419922 0.08935547 -0.071777344 0.015258789 -0.08251953 -0.03173828 0.03564453 -0.021240234 -0.059326172 -0.013061523 0.046875 0.023071289 0.020996094 -0.07861328 -0.008056641 0.01953125 -0.005554199 0.041503906 0.027832031 0.01361084 0.03466797 -0.18261719 0.12011719 0.07421875 -0.041015625 -0.0099487305 0.04296875 -0.007293701 0.123046875 0.057617188 -0.053466797 -0.032226562 -0.009094238 -0.04663086 0.043945312 -0.05078125 0.068847656 0.0029907227 -0.004180908 -0.044189453 0.07373047 -0.012756348 0.06738281 0.006286621 0.07519531 -0.037841797 0.0048828125 0.044677734 -0.06738281 0.00970459 0.0047302246 0.020507812 0.07128906 0.17089844 0.17382812 0.055664062 0.091308594 -0.037353516 0.049804688 -0.03930664 0.044189453 0.0625 0.048583984 -0.053222656 0.048828125 -0.13085938 -0.028930664 -0.036132812 -0.060791016 -0.057373047 0.123046875 -0.08251953 -0.0119018555 0.125 0.0013580322 0.063964844 -0.10644531 -0.14355469 -0.042236328 0.024047852 -0.16894531 -0.08886719 -0.080566406 0.064941406 0.061279297 -0.04736328 -0.05883789 -0.047607422 0.014465332 -0.0625\n",
            "\n",
            "Line 1: for -0.011779785 -0.04736328 0.044677734 0.06347656 -0.018188477 -0.063964844 -0.0013122559 -0.072265625 0.064453125 0.08642578 -0.16992188 -0.039794922 0.07128906 -0.025878906 0.018188477 0.13671875 0.14453125 -0.033691406 -0.09765625 -0.12011719 -0.079589844 0.0625 -0.06689453 0.07421875 0.022705078 0.033447266 -0.18066406 0.052001953 0.0138549805 0.09277344 0.0035095215 -0.009094238 -0.09716797 0.067871094 -0.0087890625 0.044189453 -0.13378906 -0.099609375 0.033203125 0.027954102 0.15527344 -0.017700195 0.014282227 -0.10986328 -0.08544922 -0.07324219 -0.024658203 0.17285156 0.061767578 0.08935547 -0.024291992 0.14160156 -0.032958984 0.02746582 -0.15527344 0.007873535 -0.07080078 0.043701172 0.006011963 -0.055908203 -0.14746094 0.028442383 -0.1328125 -0.17675781 -0.091308594 -0.05078125 -0.026000977 -0.1484375 -0.080566406 0.15039062 -0.04345703 0.07910156 0.033203125 0.09033203 0.022705078 -0.0625 0.1640625 0.0859375 -0.012390137 0.19628906 -0.06225586 0.022460938 -0.030151367 0.021240234 0.003326416 -0.055419922 -0.07324219 0.029785156 0.049804688 0.017456055 0.10449219 0.03881836 0.08496094 -0.24804688 0.06933594 -0.14941406 0.05834961 0.095703125 -0.033447266 0.06298828 0.021362305 -0.14550781 0.053710938 -0.09082031 -0.025390625 0.045410156 0.0053100586 -0.115722656 -0.01953125 0.12109375 0.032226562 0.09472656 -0.064453125 0.022705078 0.12060547 0.060302734 0.12060547 0.048828125 0.09326172 0.06689453 0.029296875 -0.034179688 -0.111328125 0.053466797 -0.025634766 0.017822266 0.06225586 -0.025878906 0.14550781 0.0625 0.107910156 -0.16308594 -0.09765625 -0.10595703 -0.08544922 -0.08886719 0.10107422 -0.079589844 0.008422852 0.024047852 0.13085938 0.05126953 0.08154297 0.09375 -0.05859375 -0.09667969 -0.028320312 -0.14550781 -0.14746094 0.14550781 -0.017578125 0.032958984 -0.08544922 -0.010986328 -0.037109375 -0.013671875 0.035888672 -0.008239746 0.05029297 -0.09472656 0.047851562 0.020751953 0.030639648 0.12988281 0.052734375 0.018798828 -0.017578125 0.03491211 0.018310547 -0.009887695 -0.18457031 -0.08984375 -0.029052734 -0.060791016 -0.05126953 -0.0023651123 0.06640625 -0.08251953 -0.040039062 0.096191406 -0.15429688 -0.15332031 0.028320312 0.013122559 0.029907227 -0.012145996 -0.09667969 0.024780273 0.19335938 0.013000488 0.024169922 -0.035888672 0.09863281 -0.09667969 -0.20019531 -0.013793945 0.0859375 -0.080078125 -0.17675781 -0.17480469 0.005126953 -0.03491211 -0.0546875 0.09375 -0.09326172 -0.011962891 -0.0005645752 0.09765625 0.024780273 -0.039794922 0.009765625 0.11816406 0.025756836 0.123046875 0.064453125 0.07080078 0.029296875 -0.049560547 -0.078125 0.028930664 0.045654297 -0.04296875 0.025878906 -0.051757812 0.140625 0.004272461 -0.037841797 0.02746582 0.060058594 0.028320312 0.028076172 -0.036621094 0.13085938 -9.679794e-05 -0.06933594 -0.022094727 0.067871094 -0.02331543 -0.015319824 -0.05834961 0.061035156 0.00064468384 0.0039978027 -0.07128906 0.091796875 0.026245117 0.020019531 0.03540039 -0.057861328 -0.029663086 0.02734375 0.025146484 0.060302734 0.13183594 -0.0043640137 0.0027313232 0.059814453 0.09863281 -0.091796875 -0.045898438 -0.017456055 0.038330078 -0.019165039 0.04638672 0.047851562 0.09814453 -0.040283203 0.09423828 -0.03466797 -0.042236328 0.0703125 -0.013671875 0.10644531 0.016479492 0.13183594 -0.0016937256 -0.008483887 -0.14257812 -0.04663086 -0.10986328 0.08203125 -0.041015625 -0.018920898 0.087890625 -0.0028076172 0.23828125 -0.04711914 -0.022949219 0.040771484 0.029296875 -0.022583008 0.0037231445 -0.08251953 0.08154297 0.00793457 0.00047683716 0.018432617 0.07128906 -0.03491211 0.024169922\n",
            "\n",
            "Line 2: that -0.01574707 -0.028320312 0.083496094 0.05029297 -0.11035156 0.03173828 -0.014221191 -0.08984375 0.11767578 0.11816406 -0.071777344 -0.07714844 -0.068847656 0.07714844 -0.13867188 0.006500244 0.010986328 -0.015136719 -0.0009613037 -0.030273438 -0.00015830994 0.038330078 -0.024169922 -0.045898438 0.09472656 -0.05517578 -0.064941406 0.0061035156 0.0008544922 0.06201172 -0.05444336 0.014099121 0.022216797 -0.044921875 0.111328125 -0.03857422 0.05126953 0.025146484 0.016967773 0.06298828 0.13769531 0.13574219 0.06542969 -0.064453125 -0.024047852 -0.013366699 -0.037109375 0.0043029785 -0.01574707 0.019042969 0.10839844 0.044677734 -0.044921875 -0.095214844 0.08691406 0.08203125 0.0068359375 -0.13183594 0.0027313232 -0.075683594 0.022460938 0.171875 -0.048583984 0.038330078 -0.088378906 -0.017211914 0.021850586 0.13378906 0.010681152 0.049804688 0.038085938 -0.0052490234 0.061279297 -0.050048828 -0.10595703 0.055664062 0.15429688 0.17089844 0.048095703 0.12695312 0.08154297 -0.1015625 0.043945312 -0.013549805 -0.13378906 -0.15722656 0.024291992 0.20898438 -0.10205078 -0.09375 0.048583984 0.07519531 0.0035247803 -0.123535156 -0.024169922 -0.0013198853 0.038330078 0.007598877 0.017700195 0.043701172 -0.09814453 -0.05810547 0.014099121 0.041015625 -0.03540039 -0.022949219 -0.13085938 -0.14453125 0.028930664 -0.122558594 -0.07128906 -0.0071411133 -0.09667969 0.05859375 0.104003906 0.026367188 0.0075683594 0.036132812 0.040283203 0.052734375 -0.20410156 -0.033447266 -0.029052734 0.03173828 -0.123535156 -0.06738281 0.01586914 -0.08642578 0.012512207 -0.06298828 -0.12060547 0.0234375 -0.13183594 -0.11816406 -0.012145996 -0.10986328 0.095214844 -0.041992188 0.018310547 0.051757812 0.014953613 -0.15917969 -0.021728516 -0.005126953 0.035888672 -0.003036499 -0.078125 -0.05126953 -0.0074157715 0.087402344 -0.023925781 0.044189453 -0.11376953 0.021484375 -0.003829956 -0.04345703 -0.104003906 -0.18554688 -0.044921875 0.044921875 -0.044433594 0.019042969 -0.020996094 0.0134887695 0.015258789 -0.030395508 0.04663086 0.10253906 -0.0138549805 0.008239746 -0.052734375 0.01965332 -0.076171875 -0.08984375 0.043945312 0.00793457 0.012634277 -0.10839844 -0.018554688 -0.10449219 -0.15234375 -0.07910156 -0.028808594 -0.018676758 0.09716797 -0.008361816 -0.03540039 0.007537842 0.05810547 0.08203125 0.028808594 0.05102539 0.0031738281 -0.018554688 0.014953613 -0.072753906 -0.034179688 0.043945312 -0.048828125 -0.16113281 0.025634766 0.036621094 -0.00015354156 -0.0012588501 -0.039794922 -0.032226562 -0.01574707 0.060791016 0.09716797 -0.015014648 -0.033691406 -0.015319824 0.0046691895 0.032958984 -0.08203125 0.10644531 0.15429688 0.0087890625 -0.12011719 0.061279297 0.05859375 0.03881836 -0.015991211 -0.043945312 0.12011719 -0.07519531 0.125 0.03515625 0.072753906 0.087402344 0.021118164 -0.07373047 0.034423828 -0.09423828 0.01159668 -0.057128906 -0.07861328 0.015991211 0.075683594 0.030517578 0.0046081543 -0.14550781 -0.024780273 -0.107910156 0.068847656 0.05810547 0.125 -0.06542969 0.005279541 0.01184082 0.06982422 0.12695312 0.06542969 -0.017333984 0.119140625 -0.032470703 0.14453125 0.076660156 -0.032226562 -0.06591797 0.06298828 -0.0625 -0.096191406 0.10644531 -0.039794922 0.11621094 -0.00970459 -0.03540039 -0.06542969 0.05883789 0.16210938 0.05126953 0.15917969 0.095214844 0.076171875 -0.091796875 0.025146484 -0.07861328 0.08935547 -0.05859375 -0.040039062 0.045898438 0.03100586 0.0390625 0.03564453 -0.10595703 -0.037109375 -0.16113281 0.021362305 0.0012207031 -0.011291504 -0.015625 -0.033447266 -0.020629883 -0.01940918 0.063964844 0.020141602 0.006866455 0.061035156 -0.1484375\n",
            "\n",
            "Line 3: is 0.0070495605 -0.07324219 0.171875 0.022583008 -0.1328125 0.19824219 0.11279297 -0.107910156 0.071777344 0.020874023 -0.123046875 -0.05908203 0.10107422 0.0107421875 0.14355469 0.25976562 -0.036376953 0.18554688 -0.07861328 -0.022705078 -0.12060547 0.17773438 0.049560547 0.017211914 0.079589844 -0.045654297 -0.18847656 0.18945312 -0.02319336 0.06298828 0.09765625 -0.019042969 -0.07910156 0.15234375 0.17382812 0.1015625 -0.16308594 0.114746094 0.10058594 -0.09277344 0.109375 0.05883789 -0.021606445 0.06347656 0.041992188 -0.008850098 0.032226562 0.10644531 0.064453125 -0.118652344 0.030517578 0.06689453 0.12207031 -0.08300781 0.171875 0.07861328 0.095214844 -0.0077819824 0.02319336 0.0234375 -0.016845703 0.15527344 -0.10986328 -0.17675781 -0.11621094 0.0234375 -0.010620117 0.052734375 -0.13378906 0.079589844 0.07373047 0.043945312 0.115234375 -0.020629883 0.07470703 -0.0115356445 0.080566406 0.041748047 0.080078125 0.3515625 0.09667969 -0.21289062 0.16503906 -0.078125 0.06982422 -0.0013961792 -0.091308594 0.12988281 0.25195312 -0.016113281 0.09326172 -0.14648438 -0.0015106201 -0.15136719 -0.026855469 -0.15722656 0.026367188 0.0859375 0.071777344 0.07714844 -0.0390625 0.05444336 -0.12792969 0.091308594 -0.18457031 -0.037597656 -0.027954102 -0.08984375 -0.11669922 -0.09863281 0.048095703 -0.16210938 -0.10888672 0.08496094 -0.045654297 0.15820312 -0.038085938 -0.08203125 0.203125 0.08642578 0.06933594 0.032226562 -0.16015625 0.09472656 -0.024658203 0.05419922 0.027954102 0.044921875 0.16992188 0.072753906 -0.036376953 -0.010253906 -0.017089844 -0.107421875 -0.0007019043 -0.07373047 0.25390625 0.056640625 0.03515625 -0.008605957 0.18554688 0.021484375 0.26367188 -0.023803711 -0.099121094 -0.041259766 -0.06933594 -0.11376953 0.050048828 -0.05883789 0.046142578 0.087402344 0.10546875 0.10644531 0.027954102 0.09472656 0.11621094 -0.17285156 -0.03491211 -0.20800781 0.059570312 0.104003906 -0.0017929077 0.05859375 -0.029785156 -0.037597656 0.048583984 -0.063964844 0.079589844 0.06933594 -0.10498047 -0.14453125 0.04345703 -0.068847656 -0.03564453 -0.01171875 0.013671875 -0.06591797 0.119140625 0.03125 -0.04638672 -0.0019683838 0.0073547363 -0.056640625 0.027832031 0.08251953 -0.0134887695 0.071777344 0.14453125 0.12792969 0.042236328 0.14160156 -0.018066406 0.021606445 -0.091796875 0.13378906 -0.1953125 -0.05029297 -0.037841797 -0.096191406 0.103027344 -0.106933594 -0.14746094 0.099609375 -0.23046875 0.22753906 -0.07519531 0.064941406 0.091796875 0.046875 0.06298828 0.06982422 0.046142578 0.09716797 -0.20214844 0.19921875 0.18652344 -0.119628906 -0.14257812 0.15039062 -0.033691406 -0.14550781 -0.0006904602 -0.07324219 0.13378906 0.03564453 -0.022949219 0.027709961 -0.07910156 0.20703125 -0.083496094 -0.049560547 0.03149414 0.1484375 0.055664062 -0.044921875 -0.079589844 0.004760742 -0.020751953 0.060058594 0.004760742 0.011169434 0.17285156 -0.13476562 0.030761719 -0.079589844 0.09033203 0.061035156 0.07714844 -0.05029297 -0.092285156 -0.26757812 0.107910156 0.0859375 0.06298828 0.107910156 -0.026733398 0.10205078 -0.12060547 0.052978516 0.09472656 -0.16503906 0.044189453 0.072265625 0.041259766 0.42578125 -0.103027344 -0.16015625 -0.09033203 -0.063964844 -0.048095703 0.14453125 0.06542969 0.049316406 0.05419922 0.13574219 -0.01928711 -0.21582031 -0.07421875 -0.14648438 0.011474609 -0.16503906 -0.10498047 0.0032043457 0.13476562 -0.003967285 -0.103515625 -0.13964844 0.10449219 -0.012573242 -0.23339844 -0.036376953 -0.09375 0.18261719 0.02709961 0.12792969 -0.024780273 0.011230469 0.1640625 0.106933594\n",
            "\n"
          ],
          "name": "stdout"
        }
      ]
    },
    {
      "cell_type": "markdown",
      "metadata": {
        "id": "UTg0XTYplaGL",
        "colab_type": "text"
      },
      "source": [
        "So we see that each line is a specific word, with a vector of numbers (presumably the word embedding)"
      ]
    },
    {
      "cell_type": "markdown",
      "metadata": {
        "id": "WIVCkUkE_IjR",
        "colab_type": "text"
      },
      "source": [
        "#### Exercise: New Vocabulary\n",
        "\n",
        "Since we now use pre-trained word embeddings, we need to create a new vocabulary. \n",
        "This is because of two reasons:\n",
        "\n",
        "1. Not all words in our training set are in the set of pre-trained word embeddings. We do not want words in our vocabulary that are not in that set.\n",
        "2. We get to look up the pre-trained word embedding for words in the validation and test set, even if we don't know them from training. \n",
        "\n",
        "Now, create a new vocabulary object `v` and load the pre-trained vectors into a `vectors`.\n",
        "\n",
        "The vocabulary `v` should consist of:\n",
        " - a  `<unk>` token at position 0,\n",
        " - a  `<pad>` token at position 1, \n",
        " - and then all words in the pre-trained vector set.\n",
        " \n",
        "\n",
        "After storing each vector in a list `vectors`, turn in into a numpy matrix like this:\n",
        "```python\n",
        " vectors = np.stack(vectors, axis=0)\n",
        "```\n",
        " \n",
        " \n"
      ]
    },
    {
      "cell_type": "code",
      "metadata": {
        "id": "d_Rwdps06gnD",
        "colab_type": "code",
        "colab": {}
      },
      "source": [
        "class PreTrainedVocabulary:\n",
        "  \"\"\"A vocabulary, assigns IDs to tokens\"\"\"\n",
        "  \n",
        "  def __init__(self):\n",
        "    self.vectors = OrderedCounter()\n",
        "    self.w2i = {}\n",
        "    self.i2w = []\n",
        "\n",
        "  def save_vector(self, t, vector):\n",
        "    self.vectors[t] = vector\n",
        "    \n",
        "  def add_token(self, t):\n",
        "    self.w2i[t] = len(self.w2i)\n",
        "    self.i2w.append(t)\n",
        "    \n",
        "  def build(self):\n",
        "    self.save_vector(\"<unk>\", np.float64(np.random.normal(scale = 0.01, size = (1, 300))))\n",
        "    self.save_vector(\"<pad>\", np.float64(np.random.normal(scale = 0.01, size = (1, 300))))\n",
        "\n",
        "    \n",
        "    tok_freq = list(self.vectors.items())\n",
        "    for tok, vector in tok_freq:\n",
        "        self.add_token(tok)\n"
      ],
      "execution_count": 0,
      "outputs": []
    },
    {
      "cell_type": "code",
      "metadata": {
        "id": "ITyyCvDnCL4U",
        "colab_type": "code",
        "colab": {}
      },
      "source": [
        "V = PreTrainedVocabulary()\n",
        "with open(\"/gdrive/My Drive/glove.840B.300d.sst.txt\", mode = 'r') as glove:\n",
        "  line = glove.readline()\n",
        "  while line:\n",
        "    space_separated = line.split()\n",
        "    key = space_separated[0]\n",
        "    vector = np.asarray([np.float64(value) for value in space_separated[1:(len(space_separated))]])[np.newaxis, :]\n",
        "    V.save_vector(key, vector)\n",
        "    line = glove.readline() # With this construction, the loop ends when lines run out\n",
        "\n",
        "V.build()\n",
        "vectors = [v for v in V.vectors.items()]\n",
        "vectors_list = [vectors[i][1] for i in range(len(vectors))]\n",
        "vectors = np.stack(vectors_list, axis=0).squeeze()"
      ],
      "execution_count": 0,
      "outputs": []
    },
    {
      "cell_type": "code",
      "metadata": {
        "id": "ZDFVsCKmgW98",
        "colab_type": "code",
        "outputId": "51933bf7-f818-4664-cae2-0aac8eb23a27",
        "colab": {
          "base_uri": "https://localhost:8080/",
          "height": 34
        }
      },
      "source": [
        "print(V.i2w[7850], V.i2w[3])\n",
        "# print(vectors[0, :])\n",
        "# print(vectors[1,:])\n",
        "# print(np.random.normal(scale = 0.1, size = (1, 300)))\n",
        "# print(np.random.normal(scale=0.001))\n"
      ],
      "execution_count": 0,
      "outputs": [
        {
          "output_type": "stream",
          "text": [
            "champagne and\n"
          ],
          "name": "stdout"
        }
      ]
    },
    {
      "cell_type": "markdown",
      "metadata": {
        "id": "xC-7mRyYNG9b",
        "colab_type": "text"
      },
      "source": [
        "#### Exercise: words not in our pre-trained set\n",
        "\n",
        "How many words in the training, dev, and test set are also in your vector set?\n",
        "How many words are not there?\n",
        "\n",
        "Store the words that are not in the word vector set in the set below."
      ]
    },
    {
      "cell_type": "code",
      "metadata": {
        "id": "K6MA3-wF_X5M",
        "colab_type": "code",
        "outputId": "f01693dc-a959-485d-8679-4d70b876bf23",
        "colab": {
          "base_uri": "https://localhost:8080/",
          "height": 54
        }
      },
      "source": [
        "words_not_found = set()\n",
        "# Find words NOT in pretrained vocab, that ARE in training, test and dev sets. Easiest to create a Vocabulary object\n",
        "\n",
        "data_vocab = Vocabulary()\n",
        "for data_set in (train_data, dev_data, test_data):\n",
        "  for ex in data_set:\n",
        "    for token in ex.tokens:\n",
        "      data_vocab.count_token(token)\n",
        "data_vocab.build()\n",
        "\n",
        "unknown_words = [word for word in data_vocab.i2w[0:-1] if word not in V.i2w[0:-1] ]\n",
        "words_not_found.update(unknown_words)\n",
        "print(words_not_found)"
      ],
      "execution_count": 0,
      "outputs": [
        {
          "output_type": "stream",
          "text": [
            "{'Ourside', 'Jaglomized', 'film-culture', 'Baca-Asay', '<pad>', 'raunch-fests', 'beloved-major', 'young-guns', 'flatula', 'teen-exploitation', 'not-quite-suburban', 'less-than-magic', 'sequel-for-the-sake', 'screen-eating', 'messing-about', 'teen-sleaze', 'docu-Dogma', 'teen-speak', 'disease-of', 'smashups', 'Audacious-impossible', 'racial-issues', 'half-dimensional', 'acting-workshop', 'hayseeds-vs', 'grunge-pirate', 'genial-rogue', 'stand-up-comedy', 'action-thriller/dark', 'cliche-riddled', 'uberviolence', 'fully-written', 'Univac-like', 'Komediant', 'Star/producer', 'Fulford-Wierzbicki', 'soon-to-be-forgettable', 'stable-full', 'spy-action', 'Efteriades', 'Solondzian', 'follow-your-dream', 'Schneidermeister', 'grace-in-rebellion', 'pro-fat', 'tear-drenched', 'Less-than-compelling', 'wife/colleague', 'Malfitano-Domingo', 'Stultifyingly', 'sex-as-war', 'guilt-suffused', 'ANTWONE', 'flick-knife', 'Marine/legal', 'non-Britney', 'monster/science', 'bottomlessly', '170-minute', 'over-romanticize', 'hit-hungry', 'untugged', 'epic-horror', 'Recoing', 'Steinis', 'independent-community', 'bare-midriff', 'fuhgeddaboutit', 'thinks-it-is', 'Bolly-Holly', 'downy-cheeked', 'cable-sports', 'not-at-all-good', 'collage-form', 'sock-you-in-the-eye', 'wind-in-the-hair', 'indieflick', 'unslick', 'sub-formulaic', 'Koshashvili', 'pulpiness', 'shuck-and-jive', 'surface-effect', 'repellantly', 'often-cute', 'often-mined', 'girl-buddy', 'of-the-week', 'barn-side', 'cadness', 'lack-of-attention', 'Company-style', 'Hawk-style', 'funny/gritty', 'boundary-hopping', 'techno-tripe', 'none-too-funny', 'Hellstenius', 'uncharismatically', 'again-courage', 'Watstein', 'at-a-frat-party', 'love-jealousy', 'bore-athon', 'pathos-filled', 'badly-rendered', 'Thekids', 'feardotcom', 'Jeong-Hyang', 'fun-for-fun', 'anti-adult', 'raw-nerved', 'Phoned-in', 'Rintarô', 'cinemantic', 'Gilliam-esque', 'not-quite-dead', 'Oprahfication', 'anti-date', 'post-Full', 'female-bonding', 'trash-cinema', 'quick-cuts', 'thriller-noir', 'and-miss', 'movie-biz', 'kids-and-family-oriented', 'corporate-sports', 'shoe-loving', 'clunk-on-the-head', 'elegiacally', 'hack-artist', 'ultra-manipulative', 'too-spectacular', 'cutesy-pie', '24-and-unders', 'crummy-looking', 'Unspools', 'comedy-deficient', 'LePlouff', 'stadium-seat', 'renegade-cop', 'quasi-original', 'gender-bender-baller', 'social/economic/urban', 'best-foreign-film', 'Deadeningly', 'Talancón', 'big-bug', 'nonchallenging', 'e-graveyard', 'Frankenstein-monster', 'near-xenophobic', 'under-inspired', 'non-reactionary', 'jump-in-your-seat', 'Qutting', 'artsploitation', 'street-realist', 'Vereté', 'Underachieves', 'huge-screen', 'unencouraging', 'lip-non-synching', 'romantic/comedy', 'Choquart', 'video-game-based', 'lame-old', 'Playboy-mansion', 'church-wary', 'Cosby-Seinfeld', 'Brother-Man', 'the-blanks', 'Easter-egg-colored', 'Peter/Spider-Man', 'cold-fish', 'Birot', 'media-soaked', 'Jean-Claud', 'singer-turned', 'Lifetime-channel', 'curse-free', 'spy-on-the-run', 'fluff-ball', 'snazziness', '168-minute', 'so-bad-they', 'kinetically-charged', 'un-bear-able', 'no-surprise', 'semi-amusing', 'bar-scrapping', 'sailboaters', 'ricture', 'a-bornin', 'alientation', 'unemotive', 'college-spawned', 'Much-anticipated', 'merchandised-to-the-max', 'cop-flick', 'Kasem-furnished', 'none-too-original', '91-minute', 'bang-the-drum', 'melodrama/character', 'Good-naturedly', 'German-Expressionist', 'flck', 'Bond-inspired', 'quasi-Shakespearean', 'Potty-mouthed', 'moldy-oldie', 'still-inestimable', 'save-the-planet', 'overstylized', '-LRB-', 'she-cute', 'Georgian-Israeli', 'marveilleux', 'preachy-keen', 'Oscar-sweeping', 'lesser-praised', 'digital-effects-heavy', 'landbound', 'Sandlerian', 'kiddie-flick', 'Mad-libs', 'Otto-Sallies', 'Lynch-like', 'good-deed/bad-deed', 'less-compelling', 'self-defeatingly', 'late-twenty-somethings', 'best-sustained', 'goth-vampire', 'dateflick', '179-minute', 'just-above-average', 'flakeball', 'headbangingly', 'Dognini', 'action/effects', 'therapy-dependent', 'out-stealth', 'Age-inspired', 'lovable-loser', 'technology-of-the-moment', 'thinly-conceived', 'caper-comedy', 'warm-milk', 'East-vs', 'spy-movie', 'Piercingly', 'Outer-space', 'Tiresomely', 'Ill-considered', 'Phonce', 'handbag-clutching', 'barn-burningly', 'anti-Harry', 'ballistic-pyrotechnic', 'water-camera', 'give-me-an-Oscar', 'dullingly', 'direct-to-void', 'idoosyncratic', 'lower-wit', 'ultra-cheesy', 'Damon/Bourne', 'II-Birkenau', 'spiritual-uplift', 'war/adventure', 'truncheoning', 'bad-movie', 'overly-familiar', 'Minac', 'too-hot-for-TV', 'sillified', 'still-raw', 'socio-histo-political', 'guy-in-a-dress', 'achival', 'non-Bondish', 'out-depress', 'finding-herself', 'oh-those-wacky-Brits', 'Collosum', 'disappearing/reappearing', 'bait-and-tackle', 'cellophane-pop', 'Volletta', 'affectation-free', 'thrill-kill', 'pre-shooting', 'brain-deadening', 'voices-from-the-other-side', 'Apallingly', 'industrial-model', 'Achero', 'crime-film', 'Equlibrium', 'Journalistically', 'whoopee-cushion', 'Gaï', 'gay-niche', 'video-cam', 'Dawdles', 'overcoming-obstacles', 'splatterfests', 'techno-saturation', 'roisterous', 'sex-in-the-city', 'dungpile', 'yahoo-ing', 'lovers-on-the-run', 'Bettany/McDowell', 'Gantzes', 'dumbfoundingly', 'Live-honed', 'tuba-playing', 'the-week', 'often-funny', 'push-the-limits', 'Hollywood-itis', 'Poke-mania', 'ooky-spookies', 'not-quite-urban', 'wise-cracker', 'debuter', 'cipherlike', 'pantomimesque', 'Kafka-inspired', 'code-talk', 'comic/thriller', 'teen-driven', 'Well-meant', 'Punitively', 'cinema-and-self', 'Brothers/Abrahams', 'inhospitability', 'all-wise-guys-all-the-time', 'eroti-comedy', 'Faultlessly', 'family-film', 'Rashomon-for-dipsticks', 'Hollywood-action', 'Higuchinsky', 'Bierbichler', 'eardrum-dicing', 'unfakable', 'Oscar-size', 'slasher-movie', 'tough-man', 'Priggish', 'life-embracing', 'unsuspenseful', 'art-conscious', 'rape-payback', 'quasi-improvised', 'self-glorified', 'techno-sex', 'slash-fest', 'pyro-correctly', 'well-meaningness', 'kibbitzes', 'Nickelodeon-esque', 'not-very-funny', 'Petin', 'strainingly', 'luv-spreading', 'smile-button', 'hotsies', 'fast-edit', 'Nebrida', 'Co-writer/director', 'lump-in-the-throat', 'tolerable-to-adults', 'not-exactly', 'cliché-laden', 'père-fils', 'long-on-the-shelf', 'Driver-esque', 'faux-urban', 'beyond-lame', 'made-for-home-video', 'Sychowski', 'Gerbosi', 'conflict-powered', 'corruscating', 'pee-related', 'two-wrongs-make-a-right', 'off-Hollywood', 'daytime-drama', 'grade-grubbers', 'pigeonhole-resisting', 'boom-bam', 'mock-Tarantino', 'Bottom-rung', 'Waters-like', 'bliss-less', 'semi-surrealist', 'unplundered', 'Juliet/West', 'Unambitious', 'style-free', 'like-themed', 'qatsi', 'movie-starring', 'stuporously', 'Debrauwer', 'often-deadly', 'image-mongering', 'hell-jaunt', 'yawn-provoking', 'ill-wrought', 'movie-movie', 'pseudo-philosophic', 'clone-gag', 'derisions', 'two-hour-and-fifteen-minute', 'TV-insider', 'Seldhal', 'long-dreaded', 'remain-nameless', 'slummer', 'Live-style', 'kid-vid', 'based-on-truth', 'well-lensed', 'high-buffed', 'By-the-numbers', 'Annie-Mary', 'memory-as-identity', 'not-so-stock', 'only-in', 'unembarrassing', 'meets-John', 'Shagster', 'Director-chef', 'I-2-spoofing', 'Idemoto', 'murder-on-campus', '129-minute', 'Conan-esque', 'buzz-obsessed', 'Wewannour', 'Brazil-like', 'Warmed-over', 'Sluggishly', 'accordion/harmonica/banjo', 'sub-music', 'Djeinaba', 'semimusical', 'Pasach', 'wild-and-woolly', 'Zishe', 'Self-congratulatory', 'buddy-comedy', 'montied', 'over-amorous', 'media-constructed', 'Laissez-Passer', 'mini-mod-madness', 'smarter-than-thou', 'surfer-girl', 'I-heard-a-joke', 'scuzbag', 'Amoses', 'Ryanovich', 'Feardotcom', 'Puportedly', 'slash-and-hack', 'achronological', 'Director-writer', 'groupie/scholar', 'Ear-splitting', 'Slowtime', 'unsalvageability', 'McBeal-style', 'celeb-strewn', 'reality-snubbing', 'gut-clutching', 'shlockmeister', 'stage-trained', 'ennui-hobbled', 'Dialogue-heavy', 'Oft-described', 'pasta-fagioli', 'kiddie-friendly', 'ultra-loud', 'rough-trade', 'mush-hearted', 'super-stupid', 'ga-zillionth', 'trouble-in-the-ghetto', 'cliche-bound', 'wound-licking', 'sitcom-cute', 'faux-contemporary', 'triple-espresso', 'blue-light-special', 'superficiale', 'Dogma-like', 'for-fans', 'Seldahl', 'bio-drama', 'life-at-arm', 'audience-abuse', 'Cineasts', 'dialed-up', 'doofus-on', 'Clarke-Williams', 'dolphin-gasm', 'pseudo-rock-video', 'made-for-movie', 'kids-in-peril', 'headline-fresh', 'deadeningly', 'Waydowntown', 'scary-funny', 'heart-on-its-sleeve', 'Passably', 'oh-so-Hollywood', 'disease-of-the-week', 'TV-cops', 'heartbeat-like', 'musclefest', 'Clericks', 'hour-and-a-half-long', 'Asiaphiles', 'provocatuers', 'triple-crosses', 'animated-movie', 'Wisegirls', 'Makmalbaf', 'Imaxy', 'European-set', 'trend-hoppy', 'fustily', 'run-of-the-filth', 'skate/surf', 'sports-movie', 'star-splashed', 'natural-seeming', 'something-borrowed', 'crass-a-thons', 'Hitler-study', 'Bazadona', 'out-to-change-the-world', 'videologue', 'out-shock', 'redneck-versus-blueblood', 'farewell-to-innocence', '112-minute', 'Digital-video', 'cheese-laced', 'affirmational', 'tries-so-hard-to-be-cool', 'hyper-artificiality', 'neo-Hitchcockianism', 'unrecommendable', 'consumer-advice', 'Bruckheimeresque', 'kill-by-numbers', 'Thing-type', 'Talkiness', 'Interminably', 'zinger-filled', 'telanovela', 'oft-brilliant', 'difficult-to-swallow', 'Romething', 'hit-to-miss', 'Formuliac', 'drama/action', 'bio-doc', 'dog-paddle', 'post-Saving', 'Vulakoro', 'stiletto-stomps', 'bottom-of-the-bill', 'as-nasty', 'pseudo-serious', 'old-fashioned-movie', 'Devolves', 'skit-com', 'Reeboir', 'audience-pleaser', 'pro-Serb', 'dust-caked', 'Auteil', 'anti-Kieslowski', 'special-effects-laden', 'too-extreme-for-TV', 'revigorates', 'two-actor', 'monster-in-the', 'actress-producer', 'democracie', 'Chabrolian', 'Kahlories', 'cor-blimey-luv-a-duck', 'Jae-eun', 'stomach-knotting', 'gabbiest', 'well-contructed', 'gunfest', 'pro-Serbian', 'Re-Fried', 'foot-age', 'two-drink-minimum', 'seventy-minute', 'demented-funny', 'prefeminist', 'outgag', 'modern-office', 'song-and-dance-man', 'portent-heavy', 'out-outrage', 'of-a-sequel', 'time-switching', 'cliche-drenched', 'Butterfingered', 'Short-story', 'auto-critique', 'talking-animal', 'tryingly', 'mothball-y', 'Bjorkness', 'Insufferably', 'heart-affecting', 'Japanimator', 'as-it', 'rock-n-rolling', 'out-bad-act', 'near-hypnotic', 'pooper-scoopers', '102-minute', 'docu-makers', 'banter-filled', 'big-fisted', 'prechewed', 'non-Shakespeare', 'screeching-metal', 'actorish', 'Janklowicz-Mann', 'direct-to-video/DVD', 'twist-and-turn', 'Gator-bashing', 'Well-nigh', 'pseudo-educational', 'B-scene', 'gone-to-seed', 'been-told-a', 'flex-a-thon', 'sleep-inducingly', 'ultra-provincial', 'travel-agency', 'pseudo-bio', 'stalk-and-slash', 'spy-savvy', 'cliché-riddled', 'from-television', 'identity-seeking', 'gone-to-pot', 'anti-erotic', 'thousand-times', 'Hopkins/Rock', 'cameo-packed', 'RunTelDat', 'fear-reducing', 'white-empowered', 'often-hilarious', 'pop-induced', 'yarn-spinner', 'indie-heads', 'dark-as-pitch', '79-minute', 'Splat-Man', 'Destinees', 'gangster/crime', 'Well-shot', 'barking-mad', 'superlarge', 'underrehearsed', 'war-movie', 'vintage-TV', 'Scene-by-scene', 'Kaputschnik', 'foul-natured', 'unfussily', 'so-five-minutes-ago', 'crime-land', 'moral-condundrum', 'pseudo-hip', 'cat-and-mouser', 'community-therapy', 'sub-Tarantino', 'wonder-what', 'bowel-curdling', 'green-guts', 'sitcom-worthy', 'drippiness', 'so-inept', 'Mordantly', 'inside-show-biz', 'happily-ever', 'food-spittingly', 'tub-thumpingly', 'ink-and-paint', 'close-to-solid', 'Shayamalan', 'propriety-obsessed', 'reel/real', 'kids-cute', 'Altman-esque', 'police-oriented', 'beast-within', 'drama/character', 'Venice/Venice', 'Margolo', 'jazz-playing', 'tardier', 'wannabe-hip', 'double-pistoled', 'too-conscientious', 'turkey-on-rolls', 'truck-loving', 'now-cliched', 'sequel-itis', 'meets-new', 'clung-to', 'Euro-film', 'killer-thrillers', 'super-dooper-adorability', 'non-exploitive', 'sex-soaked', 'snake-down-the-throat', 'revenge-of-the-nerds', 'aborbing', 'cheatfully', 'retro-refitting', 'adventues', 'power-lunchers', 'Je-Gyu', 'spook-a-rama', 'B-flick', 'botch-jobs', 'Old-form', 'imponderably', 'O2-tank', 'zombie-land', 'cinema-besotted', 'Ki-Deok', 'gender-provoking', 'Rocky-like', 'hotter-two-years-ago', 'strafings', 'time-vaulting', 'Norrington-directed', 'Channel-style', 'Cliff-Notes', 'feardotcom.com', 'message-movie', 'makeup-deep', 'action-and-popcorn', 'girl-meets-girl', 'splendid-looking', 'unclassifiably', 'message-mongering', 'Heremakono', 'psychodramatics', 'estrogen-free', 'the-cash', 'artnering', 'lascivious-minded', 'ego-destroying', 'dirgelike', 'drenched-in-the', 'Kosashvili', 'girls-behaving-badly', 'who-wrote-Shakespeare', 'underdramatized', 'movie-specific', 'interspliced', 'prewarned', 'post-Tarantino', 'soul-stripping', 'under-7', 'French-produced', 'creepy-scary', 'teen-gang', 'groan-to-guffaw', 'Travil', 'uncinematic', 'Holofcenter', 'wifty', 'snow-and-stuntwork', 'pop-cyber', 'egocentricities', 'Munchausen-by-proxy', 'surface-obsession', 'schlock-filled', 'blood-splattering', 'Pie-type', 'MIBII', 'Nietzsche-referencing', 'Kubrick-meets-Spielberg', 'humor-seeking', 'wide-smiling', 'Brothers-style', 'gender-war', 'step-printing', 'kid-movie', 'doing-it-for', 'old-movie', 'pun-laden', 'Verete', 'less-than-objective', 'trance-noir', 'goose-pimple', 'in-the-ring', 'pokepie', 'big-budget/all-star', 'gore-free', 'glacier-paced', 'FearDotCom', 'dirty-joke', 'cat-and-cat', 'dead-undead', 'Armenian-Canadian', 'techno-horror', 'video-shot', 'still-contemporary', 'waydowntown', 'sub-sophomoric', 'Have-yourself-a-happy-little-Holocaust', 'Divertingly', 'Hjelje', 'Whiffle-Ball', 'Stevenon', 'too-facile', 'Silbersteins', 'overemphatic', 'crash-and-bash', 'spaniel-eyed', 'phoney-feeling', 'Eckstraordinarily', 'fang-baring', 'Witch-style', 'junk-calorie', 'coming-of-age/coming-out', 'too-frosty', 'hyper-cliched', 'damaged-goods', 'semi-throwback', 'valley-girl', 'disaffected-indie-film', 'sense-of-humour', 'tech-geeks', 'hippie-turned-yuppie', 'sitcomishly', 'Brit-com', 'heart-rate-raising', 'surfacey', 'Mullinski', 'teen-Catholic-movie', 'likableness', 'skyscraper-trapeze', 'dudsville', 'self-amused', 'not-nearly', 'stunt-hungry', 'middle-fingered', 'kid-empowerment', 'male-ridden', 'hammily', 'actorliness', 'Hubac', 'Spy-vs', 'bibbidy-bobbidi-bland', 'talk-heavy', 'blade-thin', '103-minute', 'challenge-hungry', 'bump-in', 'mix-and', 'college-friends', 'stagecrafts', 'nerve-raked', 'time-it-is', 'snap-crackle', 'shock-you-into-laughter', 'Wollter', 'non-mystery', 'not-so-Divine', 'underventilated', 'Stortelling', 'opera-to-film', 'Mushes', 'Weapon-derived', 'the-loose', 'slash-dash', 'Felinni', 'Pie-like', 'too-tepid', 'unhibited', 'matinee-style', 'genre-curling', 'than-likely', 'fizzability', 'pro-wildlife', 'monkeyfun', 'pseudo-sophisticated', 'Copmovieland', 'non-firsthand', 'beat-charged', 'parka-wrapped', 'Glizty', 'unconned', 'Wince-inducing', 'dictator-madman', 'autocritique', 'kiddie-oriented', 'Outrageousness', 'better-focused', 'nonethnic', 'overmanipulative', 'neo-Augustinian', 'toilet-humor', 'TV-to-movie', 'Laissez-passer', 'in-jokey', 'Marcken', 'queasy-stomached', 'Banderas-Lucy', 'hyper-time', 'Denlopp', 'S1M0NE', 'rubber-face', 'character-who-shall', 'show-stoppingly', 'hidden-agenda', 'surehanded', 'ever-ruminating', 'majority-oriented', 'Indifferently', 'chloroform-soaked', 'brain-slappingly', 'show-don', 'sense-spinning', 'materalism', 'laser-projected', 'unlaughable', 'over-25s', 'title-bout', 'slice-of-depression', 'already-shallow', 'Hollywood-predictable', 'road-and-buddy', 'diciness', 'Globetrotters-Generals', 'cyber-horror', 'pseudo-witty', 'Singer/composer', 'every-joke-has', 'razor-sided', 'Cool-J', 'Truckzilla', 'consciousness-raiser', '-RRB-', 'involvingly', 'even-flowing', 'Punch-and-Judy', 'hastier'}\n"
          ],
          "name": "stdout"
        }
      ]
    },
    {
      "cell_type": "markdown",
      "metadata": {
        "id": "BfEd38W0NnAI",
        "colab_type": "text"
      },
      "source": [
        "#### Exercise: train Deep CBOW with (fixed) pre-trained embeddings\n",
        "\n",
        "Now train Deep CBOW again using the pre-trained word vectors.\n"
      ]
    },
    {
      "cell_type": "code",
      "metadata": {
        "id": "z_6ooqgEsB20",
        "colab_type": "code",
        "colab": {}
      },
      "source": [
        "# We define a dummy class so that we save the model to a different file.\n",
        "class PTDeepCBOW(Deep_CBOW):\n",
        "  def __init__(self, vocab_size, embedding_dim, hidden_dim, output_dim, vocab):\n",
        "    super(PTDeepCBOW, self).__init__(\n",
        "        vocab_size, embedding_dim, hidden_dim, output_dim, vocab)"
      ],
      "execution_count": 0,
      "outputs": []
    },
    {
      "cell_type": "code",
      "metadata": {
        "id": "JfIh4Ni6yuAh",
        "colab_type": "code",
        "outputId": "692b70e1-04a4-44de-91c4-f92a772028fb",
        "colab": {
          "base_uri": "https://localhost:8080/",
          "height": 1000
        }
      },
      "source": [
        "\n",
        "# device = torch.device('cpu')\n",
        "\n",
        "embedding_size = vectors.shape[1]\n",
        "hidden_layer = 100\n",
        "output_dim = 5\n",
        "pt_deep_cbow_model = PTDeepCBOW(len(V.w2i), embedding_size, hidden_layer, output_dim, vocab=V)\n",
        "print(pt_deep_cbow_model)\n",
        "\n",
        "# copy pre-trained word vectors into embeddings table\n",
        "pt_deep_cbow_model.embed.weight.data.copy_(torch.from_numpy(vectors))\n",
        "# weights to be copied to are 20727, vectors are only 20725 - unk and pad are not taken into account - fixed by removing unk and pad from vocab. WHat do we do with these though?\n",
        "# disable training the pre-trained embeddings\n",
        "pt_deep_cbow_model.embed.weight.requires_grad = False\n",
        "# move model to specified device\n",
        "pt_deep_cbow_model = pt_deep_cbow_model.to(device)\n",
        "\n",
        "# train the model\n",
        "\n",
        "eval_per_steps = 1000\n",
        "\n",
        "optimizer = optim.Adam(pt_deep_cbow_model.parameters(), lr=0.0005)\n",
        "pt_deep_cbow_losses, pt_deep_cbow_accuracies = train_model(\n",
        "    pt_deep_cbow_model, optimizer, num_iterations=30000, \n",
        "    print_every=1000, eval_every=eval_per_steps)"
      ],
      "execution_count": 0,
      "outputs": [
        {
          "output_type": "stream",
          "text": [
            "PTDeepCBOW(\n",
            "  (embed): Embedding(20727, 300)\n",
            "  (layers): Sequential(\n",
            "    (0): Linear(in_features=300, out_features=100, bias=True)\n",
            "    (1): Tanh()\n",
            "    (2): Linear(in_features=100, out_features=100, bias=True)\n",
            "    (3): Tanh()\n",
            "    (4): Linear(in_features=100, out_features=5, bias=True)\n",
            "  )\n",
            ")\n",
            "Shuffling training data\n",
            "Iter 1000: loss=1479.9769, time=2.86s\n",
            "iter 1000: dev acc=0.3618\n",
            "new highscore\n",
            "Iter 2000: loss=1389.3504, time=5.94s\n",
            "iter 2000: dev acc=0.3618\n",
            "Iter 3000: loss=1346.3898, time=8.99s\n",
            "iter 3000: dev acc=0.3750\n",
            "new highscore\n",
            "Iter 4000: loss=1364.9956, time=12.08s\n",
            "iter 4000: dev acc=0.3816\n",
            "new highscore\n",
            "Iter 5000: loss=1358.3129, time=15.15s\n",
            "iter 5000: dev acc=0.4342\n",
            "new highscore\n",
            "Iter 6000: loss=1346.9645, time=18.19s\n",
            "iter 6000: dev acc=0.3750\n",
            "Iter 7000: loss=1301.8654, time=21.24s\n",
            "iter 7000: dev acc=0.3980\n",
            "Iter 8000: loss=1316.8935, time=24.31s\n",
            "iter 8000: dev acc=0.3388\n",
            "Shuffling training data\n",
            "Iter 9000: loss=1305.3962, time=27.40s\n",
            "iter 9000: dev acc=0.3717\n",
            "Iter 10000: loss=1368.0600, time=30.54s\n",
            "iter 10000: dev acc=0.3618\n",
            "Iter 11000: loss=1279.3261, time=33.60s\n",
            "iter 11000: dev acc=0.3586\n",
            "Iter 12000: loss=1295.7015, time=36.65s\n",
            "iter 12000: dev acc=0.3783\n",
            "Iter 13000: loss=1270.9064, time=39.71s\n",
            "iter 13000: dev acc=0.3882\n",
            "Iter 14000: loss=1301.1815, time=42.76s\n",
            "iter 14000: dev acc=0.3750\n",
            "Iter 15000: loss=1310.0195, time=45.83s\n",
            "iter 15000: dev acc=0.3947\n",
            "Iter 16000: loss=1303.0361, time=48.90s\n",
            "iter 16000: dev acc=0.4243\n",
            "Iter 17000: loss=1279.9270, time=51.94s\n",
            "iter 17000: dev acc=0.3947\n",
            "Shuffling training data\n",
            "Iter 18000: loss=1246.8859, time=54.94s\n",
            "iter 18000: dev acc=0.3783\n",
            "Iter 19000: loss=1269.3706, time=58.02s\n",
            "iter 19000: dev acc=0.3684\n",
            "Iter 20000: loss=1279.9976, time=61.10s\n",
            "iter 20000: dev acc=0.4145\n",
            "Iter 21000: loss=1260.0750, time=64.15s\n",
            "iter 21000: dev acc=0.4408\n",
            "new highscore\n",
            "Iter 22000: loss=1278.3500, time=67.26s\n",
            "iter 22000: dev acc=0.4046\n",
            "Iter 23000: loss=1237.2873, time=70.33s\n",
            "iter 23000: dev acc=0.4507\n",
            "new highscore\n",
            "Iter 24000: loss=1319.1866, time=73.46s\n",
            "iter 24000: dev acc=0.4013\n",
            "Iter 25000: loss=1339.7457, time=76.51s\n",
            "iter 25000: dev acc=0.3882\n",
            "Shuffling training data\n",
            "Iter 26000: loss=1273.8307, time=79.54s\n",
            "iter 26000: dev acc=0.4309\n",
            "Iter 27000: loss=1256.0689, time=82.68s\n",
            "iter 27000: dev acc=0.3849\n",
            "Iter 28000: loss=1267.3543, time=85.73s\n",
            "iter 28000: dev acc=0.4178\n",
            "Iter 29000: loss=1282.0507, time=88.78s\n",
            "iter 29000: dev acc=0.4112\n",
            "Iter 30000: loss=1219.5075, time=91.94s\n",
            "iter 30000: dev acc=0.4013\n",
            "Done training\n",
            "Loading best model\n",
            "best model iter 23000: train acc=0.4710, dev acc=0.4507, test acc=0.4588\n"
          ],
          "name": "stdout"
        }
      ]
    },
    {
      "cell_type": "code",
      "metadata": {
        "id": "Ufujv3x31ufD",
        "colab_type": "code",
        "outputId": "47b626cb-0f3c-401e-b567-1fa518551be1",
        "colab": {
          "base_uri": "https://localhost:8080/",
          "height": 447
        }
      },
      "source": [
        " # plot dev accuracies\n",
        "x = [eval_per_steps * x_ for x_ in range(len(pt_deep_cbow_accuracies))]\n",
        "plt.plot(x, pt_deep_cbow_accuracies)"
      ],
      "execution_count": 0,
      "outputs": [
        {
          "output_type": "execute_result",
          "data": {
            "text/plain": [
              "[<matplotlib.lines.Line2D at 0x7f4316940ba8>]"
            ]
          },
          "metadata": {
            "tags": []
          },
          "execution_count": 81
        },
        {
          "output_type": "display_data",
          "data": {
            "image/png": "[encoded data removed]",
            "text/plain": [
              "<Figure size 640x480 with 1 Axes>"
            ]
          },
          "metadata": {
            "tags": []
          }
        }
      ]
    },
    {
      "cell_type": "code",
      "metadata": {
        "id": "YTJtKBzd7Qjr",
        "colab_type": "code",
        "outputId": "4fb60504-2242-4a9a-b449-bded659d3cf2",
        "colab": {
          "base_uri": "https://localhost:8080/",
          "height": 447
        }
      },
      "source": [
        "# plot train loss \n",
        "x = [eval_per_steps * x_ for x_ in range(len(pt_deep_cbow_losses))]\n",
        "plt.plot(x, pt_deep_cbow_losses)"
      ],
      "execution_count": 0,
      "outputs": [
        {
          "output_type": "execute_result",
          "data": {
            "text/plain": [
              "[<matplotlib.lines.Line2D at 0x7f431664c588>]"
            ]
          },
          "metadata": {
            "tags": []
          },
          "execution_count": 82
        },
        {
          "output_type": "display_data",
          "data": {
            "image/png": "[encoded data removed]",
            "text/plain": [
              "<Figure size 640x480 with 1 Axes>"
            ]
          },
          "metadata": {
            "tags": []
          }
        }
      ]
    },
    {
      "cell_type": "markdown",
      "metadata": {
        "id": "yFu8xzCy9XDW",
        "colab_type": "text"
      },
      "source": [
        "**It looks like we've hit what is possible with just using words.**\n",
        "Let's move on by incorporating word order!"
      ]
    },
    {
      "cell_type": "markdown",
      "metadata": {
        "id": "g41yW4PL9jG0",
        "colab_type": "text"
      },
      "source": [
        "# LSTM"
      ]
    },
    {
      "cell_type": "markdown",
      "metadata": {
        "id": "ODzXEH0MaGpa",
        "colab_type": "text"
      },
      "source": [
        "It is time to get more serious. Even with pre-trained word embeddings and multiple layers, we seem to do pretty badly at sentiment classification here. \n",
        "The next step we can take is to introduce word order again, and to get a representation of the sentence as a whole, without independence assumptions.\n",
        "\n",
        "We will get this representation using an **Long Short-Term Memory** (LSTM). As an exercise, we will code our own LSTM cell, so that we get comfortable with its inner workings.\n",
        "Once we have an LSTM cell, we can call it repeatedly, updating its hidden state one word at a time:\n",
        "\n",
        "```python\n",
        "rnn = MyLSTMCell(input_size, hidden_size)\n",
        "\n",
        "hx = torch.zeros(1, hidden_size)  # initial state\n",
        "cx = torch.zeros(1, hidden_size)  # initial memory cell\n",
        "output = []                       # to save intermediate LSTM states\n",
        "\n",
        "# feed one word at a time\n",
        "for i in range(n_timesteps):\n",
        "  hx, cx = rnn(input[i], (hx, cx))\n",
        "  output.append(hx)\n",
        "```\n",
        "\n",
        "If you need some more help understanding LSTMs, then check out these resources:\n",
        "- Blog post (highly recommended): http://colah.github.io/posts/2015-08-Understanding-LSTMs/\n",
        "- Paper covering LSTM formulas in detail: https://arxiv.org/abs/1503.04069 \n",
        "\n",
        "#### Exercise: Finish the LSTM cell below. \n",
        "You will need to implement the LSTM formulas:\n",
        "\n",
        "$$\n",
        "\\begin{array}{ll}\n",
        "        i = \\sigma(W_{ii} x + b_{ii} + W_{hi} h + b_{hi}) \\\\\n",
        "        f = \\sigma(W_{if} x + b_{if} + W_{hf} h + b_{hf}) \\\\\n",
        "        g = \\tanh(W_{ig} x + b_{ig} + W_{hg} h + b_{hg}) \\\\\n",
        "        o = \\sigma(W_{io} x + b_{io} + W_{ho} h + b_{ho}) \\\\\n",
        "        c' = f * c + i * g \\\\\n",
        "        h' = o \\tanh(c') \\\\\n",
        "\\end{array}\n",
        " $$\n",
        "\n",
        "where $\\sigma$ is the sigmoid function.\n",
        "\n",
        "*Note that the LSTM formulas can differ slightly between different papers. We use the PyTorch LSTM formulation here.*"
      ]
    },
    {
      "cell_type": "code",
      "metadata": {
        "id": "zJ9m5kLMd7-v",
        "colab_type": "code",
        "colab": {}
      },
      "source": [
        "class MyLSTMCell(nn.Module):\n",
        "  \"\"\"Our own LSTM cell\"\"\"\n",
        "\n",
        "  def __init__(self, input_size, hidden_size, bias=True):\n",
        "    \"\"\"Creates the weights for this LSTM\"\"\"\n",
        "    super(MyLSTMCell, self).__init__()\n",
        "\n",
        "    self.input_size = input_size\n",
        "    self.hidden_size = hidden_size\n",
        "    self.bias = bias\n",
        "\n",
        "    self.wgx = nn.Parameter(torch.empty(input_size, hidden_size))\n",
        "    self.wgh = nn.Parameter(torch.empty(hidden_size, hidden_size))\n",
        "\n",
        "    self.wfx = nn.Parameter(torch.empty(input_size, hidden_size))\n",
        "    self.wfh = nn.Parameter(torch.empty(hidden_size, hidden_size))\n",
        "\n",
        "    self.wix = nn.Parameter(torch.empty(input_size, hidden_size))\n",
        "    self.wih = nn.Parameter(torch.empty(hidden_size, hidden_size))\n",
        "\n",
        "    self.wox = nn.Parameter(torch.empty(input_size, hidden_size))\n",
        "    self.woh = nn.Parameter(torch.empty(hidden_size, hidden_size))\n",
        "\n",
        "    if bias == True:\n",
        "      self.bg = nn.Parameter(torch.empty(hidden_size))\n",
        "      self.bf = nn.Parameter(torch.empty(hidden_size))\n",
        "      self.bo = nn.Parameter(torch.empty(hidden_size))\n",
        "      self.bi = nn.Parameter(torch.empty(hidden_size))\n",
        "\n",
        "      self.bgh = nn.Parameter(torch.empty(hidden_size))\n",
        "      self.bfh = nn.Parameter(torch.empty(hidden_size))\n",
        "      self.bih = nn.Parameter(torch.empty(hidden_size))\n",
        "      self.boh = nn.Parameter(torch.empty(hidden_size))\n",
        "\n",
        "    self.reset_parameters()\n",
        "\n",
        "\n",
        "  def reset_parameters(self):\n",
        "    \"\"\"This is PyTorch's default initialization method\"\"\"\n",
        "    stdv = 1.0 / math.sqrt(self.hidden_size)\n",
        "    for weight in self.parameters():\n",
        "      weight.data.uniform_(-stdv, stdv)  \n",
        "\n",
        "  def forward(self, input_, hx, mask=None):\n",
        "    \"\"\"\n",
        "    input is (batch, input_size)\n",
        "    hx is ((batch, hidden_size), (batch, hidden_size))\n",
        "    \"\"\"\n",
        "    prev_h, prev_c = hx\n",
        "\n",
        "    # main LSTM computation    \n",
        "    i = torch.sigmoid(input_ @ self.wix + self.bi + prev_h @ self.wih + self.bih )\n",
        "    f = torch.sigmoid(input_ @ self.wfx + self.bf + prev_h @ self.wfh + self.bfh )\n",
        "    g = torch.tanh(input_ @ self.wgx + self.bg + prev_h @ self.wgh + self.bgh )\n",
        "    o = torch.sigmoid(input_ @ self.wox + self.bo + prev_h @ self.woh + self.boh ) \n",
        "\n",
        "    c = g * i + prev_c * f\n",
        "    h = torch.tanh(c) * o\n",
        "\n",
        "    return h, c\n",
        "  \n",
        "  def __repr__(self):\n",
        "    return \"{}({:d}, {:d})\".format(\n",
        "        self.__class__.__name__, self.input_size, self.hidden_size)"
      ],
      "execution_count": 0,
      "outputs": []
    },
    {
      "cell_type": "markdown",
      "metadata": {
        "id": "4JM7xPhkQeE5",
        "colab_type": "text"
      },
      "source": [
        "#### Optional: Efficient Matrix Multiplication\n",
        "\n",
        "It is more efficient to do a few big matrix multiplications than to do many smaller ones.\n",
        "\n",
        "It is possible to implement the above cell using just **two** linear layers.\n",
        "\n",
        "This is because the eight linear transformations from one forward pass through an LSTM cell can be done in just two:\n",
        "$$W_h h + b_h$$\n",
        "$$W_i x + b_i $$ \n",
        "\n",
        "with $h = $ `prev_h` and $x = $ `input_`.\n",
        "\n",
        "and where: \n",
        "\n",
        "$W_h =  \\begin{pmatrix}\n",
        "W_{hi}\\\\ \n",
        "W_{hf}\\\\ \n",
        "W_{hg}\\\\ \n",
        "W_{ho}\n",
        "\\end{pmatrix}$, $b_h = \\begin{pmatrix}\n",
        "b_{hi}\\\\ \n",
        "b_{hf}\\\\ \n",
        "b_{hg}\\\\ \n",
        "b_{ho}\n",
        "\\end{pmatrix}$,  $W_i = \\begin{pmatrix}\n",
        "W_{ii}\\\\ \n",
        "W_{if}\\\\ \n",
        "W_{ig}\\\\ \n",
        "W_{io}\n",
        "\\end{pmatrix}$ and $b_i = \\begin{pmatrix}\n",
        "b_{ii}\\\\ \n",
        "b_{if}\\\\ \n",
        "b_{ig}\\\\ \n",
        "b_{io}\n",
        "\\end{pmatrix}$.\n",
        "\n",
        "Convince yourself that, after chunking with [torch.chunk](https://pytorch.org/docs/stable/torch.html?highlight=chunk#torch.chunk), the output of those two linear transformations is equivalent to the output of the eight linear transformations in the LSTM cell calculations above."
      ]
    },
    {
      "cell_type": "code",
      "metadata": {
        "id": "dFku-13FQd2s",
        "colab_type": "code",
        "colab": {}
      },
      "source": [
        "class EfficientLSTMCell(nn.Module):\n",
        "  \"\"\"Our own LSTM cell\"\"\"\n",
        "\n",
        "  def __init__(self, input_size, hidden_size, bias=True):\n",
        "    \"\"\"Creates the weights for this LSTM\"\"\"\n",
        "    super(EfficientLSTMCell, self).__init__()\n",
        "\n",
        "    self.input_size = input_size\n",
        "    self.hidden_size = hidden_size\n",
        "    self.bias = bias\n",
        "\n",
        "    self.Wx = nn.Parameter(torch.empty(input_size, 4 * hidden_size))\n",
        "    self.Wh = nn.Parameter(torch.empty(hidden_size, 4 * hidden_size))\n",
        "\n",
        "    if bias == True:\n",
        "      self.Bx = nn.Parameter(torch.empty(1, 4 * hidden_size))\n",
        "      self.Bh = nn.Parameter(torch.empty(1, 4 * hidden_size))\n",
        "    self.reset_parameters()\n",
        "\n",
        "  def reset_parameters(self):\n",
        "    \"\"\"This is PyTorch's default initialization method\"\"\"\n",
        "    stdv = 1.0 / math.sqrt(self.hidden_size)\n",
        "    for weight in self.parameters():\n",
        "      weight.data.uniform_(-stdv, stdv)  \n",
        "\n",
        "  def forward(self, input_, hx, mask=None):\n",
        "    \"\"\"\n",
        "    input is (batch, input_size)\n",
        "    hx is ((batch, hidden_size), (batch, hidden_size))\n",
        "    \"\"\"\n",
        "    prev_h, prev_c = hx\n",
        "\n",
        "    a = input_ @ self.Wx + self.Bx + prev_h @ self.Wh + self.Bh\n",
        "    i, f, g, o = torch.chunk(a, 4, dim = -1)\n",
        "    i = torch.sigmoid(i)\n",
        "    f = torch.sigmoid(f)\n",
        "    g = torch.tanh(g)\n",
        "    o = torch.sigmoid(o)\n",
        "    c = g * i + prev_c * f\n",
        "    h = torch.tanh(c) * o\n",
        "\n",
        "    return h, c\n",
        "  \n",
        "  def __repr__(self):\n",
        "    return \"{}({:d}, {:d})\".format(\n",
        "        self.__class__.__name__, self.input_size, self.hidden_size)"
      ],
      "execution_count": 0,
      "outputs": []
    },
    {
      "cell_type": "markdown",
      "metadata": {
        "id": "X9gA-UcqSBe0",
        "colab_type": "text"
      },
      "source": [
        "#### LSTM Classifier\n",
        "\n",
        "Having an LSTM cell is not enough: we still need some code that calls it repeatedly, and then makes a prediction from the final hidden state. \n",
        "You will find that code below. Make sure that you understand it."
      ]
    },
    {
      "cell_type": "code",
      "metadata": {
        "id": "3iuYZm5poEn5",
        "colab_type": "code",
        "colab": {}
      },
      "source": [
        "class LSTMClassifier(nn.Module):\n",
        "  \"\"\"Encodes sentence with an LSTM and projects final hidden state\"\"\"\n",
        "\n",
        "  def __init__(self, vocab_size, embedding_dim, hidden_dim, output_dim, vocab):\n",
        "    super(LSTMClassifier, self).__init__()\n",
        "    self.vocab = vocab\n",
        "    self.hidden_dim = hidden_dim\n",
        "    self.embed = nn.Embedding(vocab_size, embedding_dim, padding_idx=1)\n",
        "    self.rnn = MyLSTMCell(embedding_dim, hidden_dim)\n",
        "    \n",
        "    self.output_layer = nn.Sequential(     \n",
        "        nn.Dropout(p=0.5),  # explained later\n",
        "        nn.Linear(hidden_dim, output_dim)\n",
        "    )\n",
        "\n",
        "  def forward(self, x):\n",
        "    \n",
        "    B = x.size(0)  # batch size (this is 1 for now, i.e. 1 single example)\n",
        "    T = x.size(1)  # time (the number of words in the sentence)\n",
        "    \n",
        "    input_ = self.embed(x)\n",
        "\n",
        "    # here we create initial hidden states containing zeros\n",
        "    # we use a trick here so that, if input is on the GPU, then so are hx and cx\n",
        "    hx = input_.new_zeros(B, self.rnn.hidden_size)\n",
        "    cx = input_.new_zeros(B, self.rnn.hidden_size)\n",
        "    \n",
        "    # process input sentences one word/timestep at a time\n",
        "    # input is batch-major, so the first word(s) is/are input_[:, 0]\n",
        "    outputs = []   \n",
        "    for i in range(T):\n",
        "      hx, cx = self.rnn(input_[:, i], (hx, cx))\n",
        "      outputs.append(hx)\n",
        "    \n",
        "    # if we have a single example, our final LSTM state is the last hx\n",
        "    if B == 1:\n",
        "      final = hx\n",
        "    else:\n",
        "      #\n",
        "      # This part is explained in next section, ignore this else-block for now.\n",
        "      #\n",
        "      # we processed sentences with different lengths, so some of the sentences\n",
        "      # had already finished and we have been adding padding inputs to hx\n",
        "      # we select the final state based on the length of each sentence\n",
        "      \n",
        "      # two lines below not needed if using LSTM form pytorch\n",
        "      outputs = torch.stack(outputs, dim=0)          # [T, B, D]\n",
        "      outputs = outputs.transpose(0, 1).contiguous()  # [B, T, D]\n",
        "      \n",
        "      # to be super-sure we're not accidentally indexing the wrong state\n",
        "      # we zero out positions that are invalid\n",
        "      pad_positions = (x == 1).unsqueeze(-1)\n",
        "      \n",
        "      outputs = outputs.contiguous()      \n",
        "      outputs = outputs.masked_fill_(pad_positions, 0.)\n",
        "        \n",
        "      mask = (x != 1)  # true for valid positions [B, T]\n",
        "      lengths = mask.sum(dim=1)                  # [B, 1]\n",
        "\n",
        "      indexes = (lengths - 1) + torch.arange(B, device=x.device, dtype=x.dtype) * T\n",
        "      final = outputs.view(-1, self.hidden_dim)[indexes]  # [B, D]\n",
        "    \n",
        "    # we use the last hidden state to classify the sentence\n",
        "    logits = self.output_layer(final)\n",
        "    return logits"
      ],
      "execution_count": 0,
      "outputs": []
    },
    {
      "cell_type": "code",
      "metadata": {
        "id": "3xBb9RYAq6-g",
        "colab_type": "code",
        "colab": {}
      },
      "source": [
        "class LSTMClassifierEfficient(nn.Module):\n",
        "  \"\"\"Encodes sentence with an LSTM and projects final hidden state\"\"\"\n",
        "\n",
        "  def __init__(self, vocab_size, embedding_dim, hidden_dim, output_dim, vocab):\n",
        "    super(LSTMClassifierEfficient, self).__init__()\n",
        "    self.vocab = vocab\n",
        "    self.hidden_dim = hidden_dim\n",
        "    self.embed = nn.Embedding(vocab_size, embedding_dim, padding_idx=1)\n",
        "    self.rnn = EfficientLSTMCell(embedding_dim, hidden_dim)\n",
        "    \n",
        "    self.output_layer = nn.Sequential(     \n",
        "        nn.Dropout(p=0.5),  # explained later\n",
        "        nn.Linear(hidden_dim, output_dim)\n",
        "    )\n",
        "\n",
        "  def forward(self, x):\n",
        "    \n",
        "    B = x.size(0)  # batch size (this is 1 for now, i.e. 1 single example)\n",
        "    T = x.size(1)  # time (the number of words in the sentence)\n",
        "    \n",
        "    input_ = self.embed(x)\n",
        "\n",
        "    # here we create initial hidden states containing zeros\n",
        "    # we use a trick here so that, if input is on the GPU, then so are hx and cx\n",
        "    hx = input_.new_zeros(B, self.rnn.hidden_size)\n",
        "    cx = input_.new_zeros(B, self.rnn.hidden_size)\n",
        "    \n",
        "    # process input sentences one word/timestep at a time\n",
        "    # input is batch-major, so the first word(s) is/are input_[:, 0]\n",
        "    outputs = []   \n",
        "    for i in range(T):\n",
        "      hx, cx = self.rnn(input_[:, i], (hx, cx))\n",
        "      outputs.append(hx)\n",
        "    \n",
        "    # if we have a single example, our final LSTM state is the last hx\n",
        "    if B == 1:\n",
        "      final = hx\n",
        "    else:\n",
        "      #\n",
        "      # This part is explained in next section, ignore this else-block for now.\n",
        "      #\n",
        "      # we processed sentences with different lengths, so some of the sentences\n",
        "      # had already finished and we have been adding padding inputs to hx\n",
        "      # we select the final state based on the length of each sentence\n",
        "      \n",
        "      # two lines below not needed if using LSTM form pytorch\n",
        "      outputs = torch.stack(outputs, dim=0)          # [T, B, D]\n",
        "      outputs = outputs.transpose(0, 1).contiguous()  # [B, T, D]\n",
        "      \n",
        "      # to be super-sure we're not accidentally indexing the wrong state\n",
        "      # we zero out positions that are invalid\n",
        "      pad_positions = (x == 1).unsqueeze(-1)\n",
        "      \n",
        "      outputs = outputs.contiguous()      \n",
        "      outputs = outputs.masked_fill_(pad_positions, 0.)\n",
        "        \n",
        "      mask = (x != 1)  # true for valid positions [B, T]\n",
        "      lengths = mask.sum(dim=1)                  # [B, 1]\n",
        "\n",
        "      indexes = (lengths - 1) + torch.arange(B, device=x.device, dtype=x.dtype) * T\n",
        "      final = outputs.view(-1, self.hidden_dim)[indexes]  # [B, D]\n",
        "    \n",
        "    # we use the last hidden state to classify the sentence\n",
        "    logits = self.output_layer(final)\n",
        "    return logits"
      ],
      "execution_count": 0,
      "outputs": []
    },
    {
      "cell_type": "markdown",
      "metadata": {
        "id": "FxFoVpvMPB6g",
        "colab_type": "text"
      },
      "source": [
        "#### Dropout\n",
        "\n",
        "Besides not being able to learn meaningful word embeddings, there is another negative effect that can follow from data sparsity and a small data set: *overfitting*. This is a phenomenom that is very likely to occur when fitting strong and expressive models, like LSTMs, to small data. In practice, if your model overfits, this means that it will be very good at predicting (or: 'remembering') the sentiment of the training set, but unable to generalize to new, unseen data in the test set. This is undesirable and one technique to mitigate it is *dropout*. \n",
        "\n",
        "A dropout layer is defined by the following formula: $\\mathbf{d} \\in \\{0, 1\\}^n$, with $d_j \\sim \\text{Bernoulli}(p)$, and can be applied to for example a linear layer:\n",
        "\n",
        "$$\\text{tanh}(W(\\mathbf{h}\\odot \\mathbf{d}) + \\mathbf{b})$$\n",
        "\n",
        "\n",
        "These formulas simply mean that we *drop* certain parameters during training (by setting them to zero). Which parameters we drop is stochastically determined by a Bernoulli distribution and the probability of each parameter being dropped is set to $p = 0.5$ in our experiments (see the previous cell of code where we define our output layer). A dropout layer can be applied at many different places in our models. This technique helps against the undesirable effect where our model relies on single parameters for  prediction (e.g. if $h^{\\prime}_j$ is large, always predict positive). If we use dropout, the model needs to learn to rely on different parameters, which is desirable when generalizing to unseen data."
      ]
    },
    {
      "cell_type": "markdown",
      "metadata": {
        "id": "XQjEjLt9z0XW",
        "colab_type": "text"
      },
      "source": [
        "**Let's train our LSTM! ** Note that is will be a lot slower, because we need to do many more computations per sentence!\n",
        "\n",
        "#### Training"
      ]
    },
    {
      "cell_type": "code",
      "metadata": {
        "id": "LgZoSPD4fsf_",
        "colab_type": "code",
        "outputId": "5ccc2010-cdf0-4ab2-8999-1376c2a680d3",
        "colab": {
          "base_uri": "https://localhost:8080/",
          "height": 1000
        }
      },
      "source": [
        "lstm_model = LSTMClassifier(len(V.w2i), vectors.shape[1], 168, len(t2i), V)\n",
        "print(lstm_model)\n",
        "# copy pre-trained word vectors into embeddings table\n",
        "with torch.no_grad():\n",
        "  lstm_model.embed.weight.data.copy_(torch.from_numpy(vectors))\n",
        "  lstm_model.embed.weight.requires_grad = False\n",
        "\n",
        "print(lstm_model)\n",
        "print_parameters(lstm_model)\n",
        "\n",
        "lstm_model = lstm_model.to(device)\n",
        "optimizer = optim.Adam(lstm_model.parameters(), lr=0.0005) \n",
        "\n",
        "lstm_losses, lstm_accuracies = train_model(\n",
        "    lstm_model, optimizer, num_iterations=30000, \n",
        "    print_every=250, eval_every=1000)"
      ],
      "execution_count": 0,
      "outputs": [
        {
          "output_type": "stream",
          "text": [
            "LSTMClassifier(\n",
            "  (embed): Embedding(20727, 300, padding_idx=1)\n",
            "  (rnn): MyLSTMCell(300, 168)\n",
            "  (output_layer): Sequential(\n",
            "    (0): Dropout(p=0.5, inplace=False)\n",
            "    (1): Linear(in_features=168, out_features=5, bias=True)\n",
            "  )\n",
            ")\n",
            "LSTMClassifier(\n",
            "  (embed): Embedding(20727, 300, padding_idx=1)\n",
            "  (rnn): MyLSTMCell(300, 168)\n",
            "  (output_layer): Sequential(\n",
            "    (0): Dropout(p=0.5, inplace=False)\n",
            "    (1): Linear(in_features=168, out_features=5, bias=True)\n",
            "  )\n",
            ")\n",
            "embed.weight             [20727, 300] requires_grad=False\n",
            "rnn.wgx                  [300, 168]   requires_grad=True\n",
            "rnn.wgh                  [168, 168]   requires_grad=True\n",
            "rnn.wfx                  [300, 168]   requires_grad=True\n",
            "rnn.wfh                  [168, 168]   requires_grad=True\n",
            "rnn.wix                  [300, 168]   requires_grad=True\n",
            "rnn.wih                  [168, 168]   requires_grad=True\n",
            "rnn.wox                  [300, 168]   requires_grad=True\n",
            "rnn.woh                  [168, 168]   requires_grad=True\n",
            "rnn.bg                   [168]        requires_grad=True\n",
            "rnn.bf                   [168]        requires_grad=True\n",
            "rnn.bo                   [168]        requires_grad=True\n",
            "rnn.bi                   [168]        requires_grad=True\n",
            "rnn.bgh                  [168]        requires_grad=True\n",
            "rnn.bfh                  [168]        requires_grad=True\n",
            "rnn.bih                  [168]        requires_grad=True\n",
            "rnn.boh                  [168]        requires_grad=True\n",
            "output_layer.1.weight    [5, 168]     requires_grad=True\n",
            "output_layer.1.bias      [5]          requires_grad=True\n",
            "\n",
            "Total parameters: 6534785\n",
            "\n",
            "Shuffling training data\n",
            "Iter 250: loss=395.5220, time=9.32s\n",
            "Iter 500: loss=396.6752, time=19.01s\n",
            "Iter 750: loss=392.4578, time=28.97s\n",
            "Iter 1000: loss=395.3811, time=38.53s\n",
            "iter 1000: dev acc=0.4112\n",
            "new highscore\n",
            "Iter 1250: loss=374.9469, time=53.68s\n",
            "Iter 1500: loss=385.3661, time=63.41s\n",
            "Iter 1750: loss=373.9002, time=73.42s\n",
            "Iter 2000: loss=355.3792, time=83.02s\n",
            "iter 2000: dev acc=0.3586\n",
            "Iter 2250: loss=362.2423, time=98.34s\n",
            "Iter 2500: loss=353.9422, time=108.35s\n",
            "Iter 2750: loss=347.0865, time=118.01s\n",
            "Iter 3000: loss=358.5616, time=128.01s\n",
            "iter 3000: dev acc=0.3816\n",
            "Iter 3250: loss=352.9013, time=142.94s\n",
            "Iter 3500: loss=355.2776, time=152.73s\n",
            "Iter 3750: loss=346.0517, time=162.26s\n",
            "Iter 4000: loss=349.8807, time=172.12s\n",
            "iter 4000: dev acc=0.3849\n",
            "Iter 4250: loss=345.2985, time=187.44s\n",
            "Iter 4500: loss=327.0548, time=197.34s\n",
            "Iter 4750: loss=332.7392, time=207.15s\n",
            "Iter 5000: loss=341.4488, time=216.65s\n",
            "iter 5000: dev acc=0.4112\n",
            "Iter 5250: loss=337.7969, time=231.74s\n",
            "Iter 5500: loss=347.6367, time=241.49s\n",
            "Iter 5750: loss=350.2656, time=251.19s\n",
            "Iter 6000: loss=327.8207, time=261.06s\n",
            "iter 6000: dev acc=0.4145\n",
            "new highscore\n",
            "Iter 6250: loss=344.7136, time=275.99s\n",
            "Iter 6500: loss=327.7338, time=285.43s\n",
            "Iter 6750: loss=336.8899, time=295.50s\n",
            "Iter 7000: loss=327.2910, time=305.67s\n",
            "iter 7000: dev acc=0.4145\n",
            "Iter 7250: loss=338.1937, time=320.79s\n",
            "Iter 7500: loss=332.7659, time=330.62s\n",
            "Iter 7750: loss=330.9210, time=340.73s\n",
            "Iter 8000: loss=332.1529, time=350.45s\n",
            "iter 8000: dev acc=0.4145\n",
            "Iter 8250: loss=320.3970, time=364.29s\n",
            "Iter 8500: loss=328.1097, time=374.20s\n",
            "Shuffling training data\n"
          ],
          "name": "stdout"
        }
      ]
    },
    {
      "cell_type": "code",
      "metadata": {
        "id": "aJceaBi-q__7",
        "colab_type": "code",
        "outputId": "d1055c5f-bad3-46ec-9512-9fb11f751a3f",
        "colab": {
          "base_uri": "https://localhost:8080/",
          "height": 459
        }
      },
      "source": [
        "lstm_model_efficient = LSTMClassifierEfficient(len(V.w2i), vectors.shape[1], 168, len(t2i), V)\n",
        "print(lstm_model_efficient)\n",
        "# copy pre-trained word vectors into embeddings table\n",
        "with torch.no_grad():\n",
        "  lstm_model_efficient.embed.weight.data.copy_(torch.from_numpy(vectors))\n",
        "  lstm_model_efficient.embed.weight.requires_grad = False\n",
        "\n",
        "print(lstm_model_efficient)\n",
        "print_parameters(lstm_model_efficient)\n",
        "\n",
        "lstm_model_efficient = lstm_model_efficient.to(device)\n",
        "optimizer = optim.Adam(lstm_model_efficient.parameters(), lr=0.0005) #lr = 3e-4\n",
        "\n",
        "lstm_losses_eff, lstm_accuracies_eff = train_model(\n",
        "    lstm_model_efficient, optimizer, num_iterations=1000, \n",
        "    print_every=250, eval_every=1000) #num iterations = 30000"
      ],
      "execution_count": 0,
      "outputs": [
        {
          "output_type": "stream",
          "text": [
            "LSTMClassifierEfficient(\n",
            "  (embed): Embedding(20727, 300, padding_idx=1)\n",
            "  (rnn): EfficientLSTMCell(300, 168)\n",
            "  (output_layer): Sequential(\n",
            "    (0): Dropout(p=0.5, inplace=False)\n",
            "    (1): Linear(in_features=168, out_features=5, bias=True)\n",
            "  )\n",
            ")\n",
            "LSTMClassifierEfficient(\n",
            "  (embed): Embedding(20727, 300, padding_idx=1)\n",
            "  (rnn): EfficientLSTMCell(300, 168)\n",
            "  (output_layer): Sequential(\n",
            "    (0): Dropout(p=0.5, inplace=False)\n",
            "    (1): Linear(in_features=168, out_features=5, bias=True)\n",
            "  )\n",
            ")\n",
            "embed.weight             [20727, 300] requires_grad=False\n",
            "rnn.Wx                   [300, 672]   requires_grad=True\n",
            "rnn.Wh                   [168, 672]   requires_grad=True\n",
            "rnn.Bx                   [1, 672]     requires_grad=True\n",
            "rnn.Bh                   [1, 672]     requires_grad=True\n",
            "output_layer.1.weight    [5, 168]     requires_grad=True\n",
            "output_layer.1.bias      [5]          requires_grad=True\n",
            "\n",
            "Total parameters: 6534785\n",
            "\n"
          ],
          "name": "stdout"
        }
      ]
    },
    {
      "cell_type": "code",
      "metadata": {
        "id": "2BKVnyg0Hq5E",
        "colab_type": "code",
        "colab": {}
      },
      "source": [
        "# plot validation accuracy\n",
        "x = [1000 * x_ for x_ in range(len(lstm_accuracies))]\n",
        "plt.plot(x, lstm_accuracies)"
      ],
      "execution_count": 0,
      "outputs": []
    },
    {
      "cell_type": "code",
      "metadata": {
        "id": "ZowTV0EBTb3z",
        "colab_type": "code",
        "colab": {}
      },
      "source": [
        "# plot training loss\n",
        "x = [1000 * x_ for x_ in range(len(lstm_losses))]\n",
        "plt.plot(x, lstm_losses)"
      ],
      "execution_count": 0,
      "outputs": []
    },
    {
      "cell_type": "markdown",
      "metadata": {
        "id": "YEw6XHQY_AAQ",
        "colab_type": "text"
      },
      "source": [
        "# Mini-batching\n",
        "\n"
      ]
    },
    {
      "cell_type": "markdown",
      "metadata": {
        "id": "FPf96wGzBTQJ",
        "colab_type": "text"
      },
      "source": [
        "**Why is the LSTM so slow?** Despite our best efforts, we still need to make a lot of matrix multiplications per example (linear in the length of the example) just to get a single classification, and we can only process the 2nd word once we have computed the hidden state for the 1st word (sequential computation).\n",
        "\n",
        "GPUs are more efficient if we do a few big matrix multiplications, rather than lots of small ones. If we could process multiple examples at the same time, then we could exploit that. We still process the input sequentially, but now we can do so for multiple sentences at the same time.\n",
        "\n",
        "Up to now our \"minibatch\" consisted of a single example. This was for a reason: the sentences in our data sets have **different lengths**, and this makes it difficult to process them at the same time.\n",
        "\n",
        "Consider a batch of 2 sentences:\n",
        "\n",
        "```\n",
        "this movie is bad\n",
        "this movie is super cool !\n",
        "```\n",
        "\n",
        "Let's say the IDs for these sentences are:\n",
        "\n",
        "```\n",
        "2 3 4 5\n",
        "2 3 4 6 7 8\n",
        "```\n",
        "\n",
        "We cannot feed PyTorch an object with variable length rows! We need to turn this into a matrix.\n",
        "\n",
        "The solution is to add **padding values** to our mini-batch:\n",
        "\n",
        "```\n",
        "2 3 4 5 1 1\n",
        "2 3 4 6 7 8\n",
        "```\n",
        "\n",
        "Whenever a sentence is shorter than the longest sentence in a mini-batch, we just use a padding value (here: 1) to fill the matrix.\n",
        "\n",
        "In our computation, we should **ignore** the padding positions (e.g. mask them out). Paddings should not contribute to the loss.\n",
        "\n",
        "#### Mini-batch feed\n",
        "We will now code a `get_minibatch` function that will replace our `get_example` function, and returns a mini-batch of the requested size."
      ]
    },
    {
      "cell_type": "code",
      "metadata": {
        "id": "IoAE2JBiXJ3P",
        "colab_type": "code",
        "colab": {}
      },
      "source": [
        "def get_minibatch(data, batch_size=25, shuffle=True):\n",
        "  \"\"\"Return minibatches, optional shuffling\"\"\"\n",
        "  \n",
        "  if shuffle:\n",
        "    print(\"Shuffling training data\")\n",
        "    random.shuffle(data)  # shuffle training data each epoch\n",
        "  \n",
        "  batch = []\n",
        "  \n",
        "  # yield minibatches\n",
        "  for example in data:\n",
        "    batch.append(example)\n",
        "    \n",
        "    if len(batch) == batch_size:\n",
        "      yield batch\n",
        "      batch = []\n",
        "      \n",
        "  # in case there is something left\n",
        "  if len(batch) > 0:\n",
        "    yield batch"
      ],
      "execution_count": 0,
      "outputs": []
    },
    {
      "cell_type": "markdown",
      "metadata": {
        "id": "DwZM-XYkT8Zx",
        "colab_type": "text"
      },
      "source": [
        "#### Pad function\n",
        "We will need a function that adds padding 1s to a sequence of IDs so that\n",
        "it becomes as long as the longest sequencen in the minibatch."
      ]
    },
    {
      "cell_type": "code",
      "metadata": {
        "id": "sp0sK1ghw4Ft",
        "colab_type": "code",
        "outputId": "be3e4030-6fdd-4d35-f8d3-36a23addddca",
        "colab": {
          "base_uri": "https://localhost:8080/",
          "height": 34
        }
      },
      "source": [
        "def pad(tokens, length, pad_value=1):\n",
        "  \"\"\"add padding 1s to a sequence to that it has the desired length\"\"\"\n",
        "  return tokens + [pad_value] * (length - len(tokens))\n",
        "\n",
        "# example\n",
        "tokens = [2, 3, 4]\n",
        "pad(tokens, 5)"
      ],
      "execution_count": 0,
      "outputs": [
        {
          "output_type": "execute_result",
          "data": {
            "text/plain": [
              "[2, 3, 4, 1, 1]"
            ]
          },
          "metadata": {
            "tags": []
          },
          "execution_count": 114
        }
      ]
    },
    {
      "cell_type": "markdown",
      "metadata": {
        "id": "SL2iixMYUgfh",
        "colab_type": "text"
      },
      "source": [
        "#### New prepare function\n",
        "\n",
        "We will also need a new function that turns a mini-batch into PyTorch tensors."
      ]
    },
    {
      "cell_type": "code",
      "metadata": {
        "id": "ZID0cqozWks8",
        "colab_type": "code",
        "colab": {}
      },
      "source": [
        "def prepare_minibatch(mb, vocab):\n",
        "  \"\"\"\n",
        "  Minibatch is a list of examples.\n",
        "  This function converts words to IDs and returns\n",
        "  torch tensors to be used as input/targets.\n",
        "  \"\"\"\n",
        "  batch_size = len(mb)\n",
        "  maxlen = max([len(ex.tokens) for ex in mb])\n",
        "  \n",
        "  # vocab returns 0 if the word is not there\n",
        "  x = [pad([vocab.w2i.get(t, 0) for t in ex.tokens], maxlen) for ex in mb]\n",
        "  \n",
        "  x = torch.LongTensor(x)\n",
        "  x = x.to(device)\n",
        "  \n",
        "  y = [ex.label for ex in mb]\n",
        "  y = torch.LongTensor(y)\n",
        "  y = y.to(device)\n",
        "  \n",
        "  return x, y"
      ],
      "execution_count": 0,
      "outputs": []
    },
    {
      "cell_type": "code",
      "metadata": {
        "id": "OwDAtCv1x2hB",
        "colab_type": "code",
        "outputId": "30dcfe19-ebe0-4a5f-f0e1-cc85b7251170",
        "colab": {
          "base_uri": "https://localhost:8080/",
          "height": 88
        }
      },
      "source": [
        "# Let's test our new function.\n",
        "# This should give us 3 examples.\n",
        "mb = next(get_minibatch(train_data, batch_size=3, shuffle=False))\n",
        "for ex in mb:\n",
        "  print(ex)"
      ],
      "execution_count": 0,
      "outputs": [
        {
          "output_type": "stream",
          "text": [
            "Example(tokens=['The', 'Rock', 'is', 'destined', 'to', 'be', 'the', '21st', 'Century', \"'s\", 'new', '``', 'Conan', \"''\", 'and', 'that', 'he', \"'s\", 'going', 'to', 'make', 'a', 'splash', 'even', 'greater', 'than', 'Arnold', 'Schwarzenegger', ',', 'Jean-Claud', 'Van', 'Damme', 'or', 'Steven', 'Segal', '.'], tree=Tree('3', [Tree('2', [Tree('2', ['The']), Tree('2', ['Rock'])]), Tree('4', [Tree('3', [Tree('2', ['is']), Tree('4', [Tree('2', ['destined']), Tree('2', [Tree('2', [Tree('2', [Tree('2', [Tree('2', ['to']), Tree('2', [Tree('2', ['be']), Tree('2', [Tree('2', ['the']), Tree('2', [Tree('2', ['21st']), Tree('2', [Tree('2', [Tree('2', ['Century']), Tree('2', [\"'s\"])]), Tree('2', [Tree('3', ['new']), Tree('2', [Tree('2', ['``']), Tree('2', ['Conan'])])])])])])])]), Tree('2', [\"''\"])]), Tree('2', ['and'])]), Tree('3', [Tree('2', ['that']), Tree('3', [Tree('2', ['he']), Tree('3', [Tree('2', [\"'s\"]), Tree('3', [Tree('2', ['going']), Tree('3', [Tree('2', ['to']), Tree('4', [Tree('3', [Tree('2', ['make']), Tree('3', [Tree('3', [Tree('2', ['a']), Tree('3', ['splash'])]), Tree('2', [Tree('2', ['even']), Tree('3', ['greater'])])])]), Tree('2', [Tree('2', ['than']), Tree('2', [Tree('2', [Tree('2', [Tree('2', [Tree('1', [Tree('2', ['Arnold']), Tree('2', ['Schwarzenegger'])]), Tree('2', [','])]), Tree('2', [Tree('2', ['Jean-Claud']), Tree('2', [Tree('2', ['Van']), Tree('2', ['Damme'])])])]), Tree('2', ['or'])]), Tree('2', [Tree('2', ['Steven']), Tree('2', ['Segal'])])])])])])])])])])])])]), Tree('2', ['.'])])]), label=3, transitions=[0, 0, 1, 0, 0, 0, 0, 0, 0, 0, 0, 1, 0, 0, 0, 1, 1, 1, 1, 1, 1, 1, 0, 1, 0, 1, 0, 0, 0, 0, 0, 0, 0, 0, 1, 0, 0, 1, 1, 1, 0, 0, 0, 1, 0, 1, 0, 0, 0, 1, 1, 1, 0, 1, 0, 0, 1, 1, 1, 1, 1, 1, 1, 1, 1, 1, 1, 1, 0, 1, 1])\n",
            "Example(tokens=['The', 'gorgeously', 'elaborate', 'continuation', 'of', '``', 'The', 'Lord', 'of', 'the', 'Rings', \"''\", 'trilogy', 'is', 'so', 'huge', 'that', 'a', 'column', 'of', 'words', 'can', 'not', 'adequately', 'describe', 'co-writer/director', 'Peter', 'Jackson', \"'s\", 'expanded', 'vision', 'of', 'J.R.R.', 'Tolkien', \"'s\", 'Middle-earth', '.'], tree=Tree('4', [Tree('4', [Tree('4', [Tree('2', ['The']), Tree('4', [Tree('3', ['gorgeously']), Tree('3', [Tree('2', ['elaborate']), Tree('2', ['continuation'])])])]), Tree('2', [Tree('2', [Tree('2', ['of']), Tree('2', ['``'])]), Tree('2', [Tree('2', ['The']), Tree('2', [Tree('2', [Tree('2', ['Lord']), Tree('2', [Tree('2', ['of']), Tree('2', [Tree('2', ['the']), Tree('2', ['Rings'])])])]), Tree('2', [Tree('2', [\"''\"]), Tree('2', ['trilogy'])])])])])]), Tree('2', [Tree('3', [Tree('2', [Tree('2', ['is']), Tree('2', [Tree('2', ['so']), Tree('2', ['huge'])])]), Tree('2', [Tree('2', ['that']), Tree('3', [Tree('2', [Tree('2', [Tree('2', ['a']), Tree('2', ['column'])]), Tree('2', [Tree('2', ['of']), Tree('2', ['words'])])]), Tree('2', [Tree('2', [Tree('2', [Tree('2', ['can']), Tree('1', ['not'])]), Tree('3', ['adequately'])]), Tree('2', [Tree('2', ['describe']), Tree('2', [Tree('3', [Tree('2', [Tree('2', ['co-writer/director']), Tree('2', [Tree('2', ['Peter']), Tree('3', [Tree('2', ['Jackson']), Tree('2', [\"'s\"])])])]), Tree('3', [Tree('2', ['expanded']), Tree('2', ['vision'])])]), Tree('2', [Tree('2', ['of']), Tree('2', [Tree('2', [Tree('2', ['J.R.R.']), Tree('2', [Tree('2', ['Tolkien']), Tree('2', [\"'s\"])])]), Tree('2', ['Middle-earth'])])])])])])])])]), Tree('2', ['.'])])]), label=4, transitions=[0, 0, 0, 0, 1, 1, 1, 0, 0, 1, 0, 0, 0, 0, 0, 1, 1, 1, 0, 0, 1, 1, 1, 1, 1, 0, 0, 0, 1, 1, 0, 0, 0, 1, 0, 0, 1, 1, 0, 0, 1, 0, 1, 0, 0, 0, 0, 0, 1, 1, 1, 0, 0, 1, 1, 0, 0, 0, 0, 1, 1, 0, 1, 1, 1, 1, 1, 1, 1, 1, 0, 1, 1])\n",
            "Example(tokens=['Singer/composer', 'Bryan', 'Adams', 'contributes', 'a', 'slew', 'of', 'songs', '--', 'a', 'few', 'potential', 'hits', ',', 'a', 'few', 'more', 'simply', 'intrusive', 'to', 'the', 'story', '--', 'but', 'the', 'whole', 'package', 'certainly', 'captures', 'the', 'intended', ',', 'er', ',', 'spirit', 'of', 'the', 'piece', '.'], tree=Tree('3', [Tree('3', [Tree('2', [Tree('2', [Tree('2', [Tree('2', [Tree('2', ['Singer/composer']), Tree('2', [Tree('2', ['Bryan']), Tree('2', ['Adams'])])]), Tree('2', [Tree('2', ['contributes']), Tree('2', [Tree('2', [Tree('2', ['a']), Tree('2', ['slew'])]), Tree('2', [Tree('2', ['of']), Tree('2', ['songs'])])])])]), Tree('2', [Tree('2', ['--']), Tree('2', [Tree('2', [Tree('2', [Tree('2', ['a']), Tree('2', [Tree('2', ['few']), Tree('3', ['potential'])])]), Tree('2', [Tree('2', [Tree('2', ['hits']), Tree('2', [','])]), Tree('2', [Tree('2', [Tree('2', ['a']), Tree('2', ['few'])]), Tree('1', [Tree('1', [Tree('2', ['more']), Tree('1', [Tree('2', ['simply']), Tree('2', ['intrusive'])])]), Tree('2', [Tree('2', ['to']), Tree('2', [Tree('2', ['the']), Tree('2', ['story'])])])])])])]), Tree('2', ['--'])])])]), Tree('2', ['but'])]), Tree('3', [Tree('4', [Tree('2', ['the']), Tree('3', [Tree('2', ['whole']), Tree('2', ['package'])])]), Tree('2', [Tree('3', ['certainly']), Tree('3', [Tree('2', ['captures']), Tree('2', [Tree('1', [Tree('2', ['the']), Tree('2', [Tree('2', [Tree('2', ['intended']), Tree('2', [Tree('2', [',']), Tree('2', [Tree('2', ['er']), Tree('2', [','])])])]), Tree('3', ['spirit'])])]), Tree('2', [Tree('2', ['of']), Tree('2', [Tree('2', ['the']), Tree('2', ['piece'])])])])])])])]), Tree('2', ['.'])]), label=3, transitions=[0, 0, 0, 1, 1, 0, 0, 0, 1, 0, 0, 1, 1, 1, 1, 0, 0, 0, 0, 1, 1, 0, 0, 1, 0, 0, 1, 0, 0, 0, 1, 1, 0, 0, 0, 1, 1, 1, 1, 1, 1, 0, 1, 1, 1, 0, 1, 0, 0, 0, 1, 1, 0, 0, 0, 0, 0, 0, 0, 1, 1, 1, 0, 1, 1, 0, 0, 0, 1, 1, 1, 1, 1, 1, 1, 0, 1])\n"
          ],
          "name": "stdout"
        }
      ]
    },
    {
      "cell_type": "code",
      "metadata": {
        "id": "dg8zEK8zyUCH",
        "colab_type": "code",
        "outputId": "fde471f1-3936-4c2e-d3b8-a9b2e0f84b07",
        "colab": {
          "base_uri": "https://localhost:8080/",
          "height": 238
        }
      },
      "source": [
        "# We should find 1s at the end where padding is.\n",
        "x, y = prepare_minibatch(mb, v)\n",
        "print(\"x\", x)\n",
        "print(\"y\", y)"
      ],
      "execution_count": 0,
      "outputs": [
        {
          "output_type": "stream",
          "text": [
            "x tensor([[  14, 1098,   10, 3554,    8,   27,    4, 2912, 3555,    9,  151,   60,\n",
            "         5869,   61,    5,   11,   82,    9,  290,    8,   84,    6, 5870,   75,\n",
            "         3556,   38, 1887, 2913,    3, 8737, 2139, 5871,   48,  828, 8738,    2,\n",
            "            1,    1,    1],\n",
            "        [  14, 2914, 2140, 5872,    7,   60,   14, 4473,    7,    4, 5873,   61,\n",
            "         5874,   10,   49,  878,   11,    6, 5875,    7,  679,   65,   31, 3557,\n",
            "         2141, 8739, 1099,  829,    9, 8740,  629,    7, 8741, 5876,    9, 8742,\n",
            "            2,    1,    1],\n",
            "        [8743, 5877, 2142, 8744,    6, 8745,    7, 1684,   33,    6,  171,  752,\n",
            "         1269,    3,    6,  171,   37,  316, 8746,    8,    4,   52,   33,   17,\n",
            "            4,  306, 3558,  377,  680,    4, 1021,    3, 4474,    3,  512,    7,\n",
            "            4,  277,    2]], device='cuda:0')\n",
            "y tensor([3, 4, 3], device='cuda:0')\n"
          ],
          "name": "stdout"
        }
      ]
    },
    {
      "cell_type": "markdown",
      "metadata": {
        "id": "xYBJEoSNUwI0",
        "colab_type": "text"
      },
      "source": [
        "#### Evaluate (mini-batch version)\n",
        "\n",
        "We can now update our evaluation function to use minibatches"
      ]
    },
    {
      "cell_type": "code",
      "metadata": {
        "id": "eiZZpEghzqou",
        "colab_type": "code",
        "colab": {}
      },
      "source": [
        "def evaluate(model, data, \n",
        "             batch_fn=get_minibatch, prep_fn=prepare_minibatch,\n",
        "             batch_size=16):\n",
        "  \"\"\"Accuracy of a model on given data set (using minibatches)\"\"\"\n",
        "  correct = 0\n",
        "  total = 0\n",
        "  model.eval()  # disable dropout\n",
        "\n",
        "  for mb in batch_fn(data, batch_size=batch_size, shuffle=False):\n",
        "    x, targets = prep_fn(mb, model.vocab)\n",
        "    with torch.no_grad():\n",
        "      logits = model(x)\n",
        "      \n",
        "    predictions = logits.argmax(dim=-1).view(-1)\n",
        "    \n",
        "    # add the number of correct predictions to the total correct\n",
        "    correct += (predictions == targets.view(-1)).sum().item()\n",
        "    total += targets.size(0)\n",
        "\n",
        "  return correct, total, correct / float(total)"
      ],
      "execution_count": 0,
      "outputs": []
    },
    {
      "cell_type": "markdown",
      "metadata": {
        "id": "23wAZomozh_2",
        "colab_type": "text"
      },
      "source": [
        "# LSTM (Mini-batched)"
      ]
    },
    {
      "cell_type": "markdown",
      "metadata": {
        "id": "B-gkPU7jzBe2",
        "colab_type": "text"
      },
      "source": [
        "With this, let's run the LSTM again but now using minibatches!"
      ]
    },
    {
      "cell_type": "code",
      "metadata": {
        "id": "226Xg9OPzFbA",
        "colab_type": "code",
        "outputId": "b074c8f7-566d-473f-b507-43b49938b40d",
        "colab": {
          "base_uri": "https://localhost:8080/",
          "height": 663
        }
      },
      "source": [
        "lstm_model = LSTMClassifierEfficient(\n",
        "    len(V.w2i), 300, 168, len(t2i), V)\n",
        "\n",
        "# copy pre-trained vectors into embeddings table\n",
        "with torch.no_grad():\n",
        "  lstm_model.embed.weight.data.copy_(torch.from_numpy(vectors))\n",
        "  lstm_model.embed.weight.requires_grad = False\n",
        "\n",
        "print(lstm_model)\n",
        "print_parameters(lstm_model)  \n",
        "  \n",
        "lstm_model = lstm_model.to(device)\n",
        "\n",
        "batch_size = 25\n",
        "optimizer = optim.Adam(lstm_model.parameters(), lr=2e-4)\n",
        "\n",
        "# lstm_losses, lstm_accuracies = train_model(\n",
        "#     lstm_model, optimizer, num_iterations=15000, \n",
        "#     print_every=250, eval_every=250,\n",
        "#     batch_size=batch_size,\n",
        "#     batch_fn=get_minibatch, \n",
        "#     prep_fn=prepare_minibatch,\n",
        "#     eval_fn=evaluate)"
      ],
      "execution_count": 0,
      "outputs": [
        {
          "output_type": "stream",
          "text": [
            "LSTMClassifierEfficient(\n",
            "  (embed): Embedding(20727, 300, padding_idx=1)\n",
            "  (rnn): EfficientLSTMCell(300, 168)\n",
            "  (output_layer): Sequential(\n",
            "    (0): Dropout(p=0.5, inplace=False)\n",
            "    (1): Linear(in_features=168, out_features=5, bias=True)\n",
            "  )\n",
            ")\n",
            "embed.weight             [20727, 300] requires_grad=False\n",
            "rnn.Wx                   [300, 672]   requires_grad=True\n",
            "rnn.Wh                   [168, 672]   requires_grad=True\n",
            "rnn.Bx                   [1, 672]     requires_grad=True\n",
            "rnn.Bh                   [1, 672]     requires_grad=True\n",
            "output_layer.1.weight    [5, 168]     requires_grad=True\n",
            "output_layer.1.bias      [5]          requires_grad=True\n",
            "\n",
            "Total parameters: 6534785\n",
            "\n",
            "Shuffling training data\n"
          ],
          "name": "stdout"
        },
        {
          "output_type": "error",
          "ename": "KeyboardInterrupt",
          "evalue": "ignored",
          "traceback": [
            "\u001b[0;31m---------------------------------------------------------------------------\u001b[0m",
            "\u001b[0;31mKeyboardInterrupt\u001b[0m                         Traceback (most recent call last)",
            "\u001b[0;32m<ipython-input-171-efa391fc4adb>\u001b[0m in \u001b[0;36m<module>\u001b[0;34m()\u001b[0m\n\u001b[1;32m     21\u001b[0m     \u001b[0mbatch_fn\u001b[0m\u001b[0;34m=\u001b[0m\u001b[0mget_minibatch\u001b[0m\u001b[0;34m,\u001b[0m\u001b[0;34m\u001b[0m\u001b[0;34m\u001b[0m\u001b[0m\n\u001b[1;32m     22\u001b[0m     \u001b[0mprep_fn\u001b[0m\u001b[0;34m=\u001b[0m\u001b[0mprepare_minibatch\u001b[0m\u001b[0;34m,\u001b[0m\u001b[0;34m\u001b[0m\u001b[0;34m\u001b[0m\u001b[0m\n\u001b[0;32m---> 23\u001b[0;31m     eval_fn=evaluate)\n\u001b[0m",
            "\u001b[0;32m<ipython-input-168-50450acde1fa>\u001b[0m in \u001b[0;36mtrain_model\u001b[0;34m(model, optimizer, num_iterations, print_every, eval_every, batch_fn, prep_fn, eval_fn, batch_size, eval_batch_size)\u001b[0m\n\u001b[1;32m     57\u001b[0m       \u001b[0moptimizer\u001b[0m\u001b[0;34m.\u001b[0m\u001b[0mzero_grad\u001b[0m\u001b[0;34m(\u001b[0m\u001b[0;34m)\u001b[0m\u001b[0;34m\u001b[0m\u001b[0;34m\u001b[0m\u001b[0m\n\u001b[1;32m     58\u001b[0m       \u001b[0;31m# compute gradients\u001b[0m\u001b[0;34m\u001b[0m\u001b[0;34m\u001b[0m\u001b[0;34m\u001b[0m\u001b[0m\n\u001b[0;32m---> 59\u001b[0;31m       \u001b[0mloss\u001b[0m\u001b[0;34m.\u001b[0m\u001b[0mbackward\u001b[0m\u001b[0;34m(\u001b[0m\u001b[0;34m)\u001b[0m\u001b[0;34m\u001b[0m\u001b[0;34m\u001b[0m\u001b[0m\n\u001b[0m\u001b[1;32m     60\u001b[0m \u001b[0;34m\u001b[0m\u001b[0m\n\u001b[1;32m     61\u001b[0m       \u001b[0;31m# update weights - take a small step in the opposite dir of the gradient\u001b[0m\u001b[0;34m\u001b[0m\u001b[0;34m\u001b[0m\u001b[0;34m\u001b[0m\u001b[0m\n",
            "\u001b[0;32m/usr/local/lib/python3.6/dist-packages/torch/tensor.py\u001b[0m in \u001b[0;36mbackward\u001b[0;34m(self, gradient, retain_graph, create_graph)\u001b[0m\n\u001b[1;32m    164\u001b[0m                 \u001b[0mproducts\u001b[0m\u001b[0;34m.\u001b[0m \u001b[0mDefaults\u001b[0m \u001b[0mto\u001b[0m\u001b[0;31m \u001b[0m\u001b[0;31m`\u001b[0m\u001b[0;31m`\u001b[0m\u001b[0;32mFalse\u001b[0m\u001b[0;31m`\u001b[0m\u001b[0;31m`\u001b[0m\u001b[0;34m.\u001b[0m\u001b[0;34m\u001b[0m\u001b[0;34m\u001b[0m\u001b[0m\n\u001b[1;32m    165\u001b[0m         \"\"\"\n\u001b[0;32m--> 166\u001b[0;31m         \u001b[0mtorch\u001b[0m\u001b[0;34m.\u001b[0m\u001b[0mautograd\u001b[0m\u001b[0;34m.\u001b[0m\u001b[0mbackward\u001b[0m\u001b[0;34m(\u001b[0m\u001b[0mself\u001b[0m\u001b[0;34m,\u001b[0m \u001b[0mgradient\u001b[0m\u001b[0;34m,\u001b[0m \u001b[0mretain_graph\u001b[0m\u001b[0;34m,\u001b[0m \u001b[0mcreate_graph\u001b[0m\u001b[0;34m)\u001b[0m\u001b[0;34m\u001b[0m\u001b[0;34m\u001b[0m\u001b[0m\n\u001b[0m\u001b[1;32m    167\u001b[0m \u001b[0;34m\u001b[0m\u001b[0m\n\u001b[1;32m    168\u001b[0m     \u001b[0;32mdef\u001b[0m \u001b[0mregister_hook\u001b[0m\u001b[0;34m(\u001b[0m\u001b[0mself\u001b[0m\u001b[0;34m,\u001b[0m \u001b[0mhook\u001b[0m\u001b[0;34m)\u001b[0m\u001b[0;34m:\u001b[0m\u001b[0;34m\u001b[0m\u001b[0;34m\u001b[0m\u001b[0m\n",
            "\u001b[0;32m/usr/local/lib/python3.6/dist-packages/torch/autograd/__init__.py\u001b[0m in \u001b[0;36mbackward\u001b[0;34m(tensors, grad_tensors, retain_graph, create_graph, grad_variables)\u001b[0m\n\u001b[1;32m     97\u001b[0m     Variable._execution_engine.run_backward(\n\u001b[1;32m     98\u001b[0m         \u001b[0mtensors\u001b[0m\u001b[0;34m,\u001b[0m \u001b[0mgrad_tensors\u001b[0m\u001b[0;34m,\u001b[0m \u001b[0mretain_graph\u001b[0m\u001b[0;34m,\u001b[0m \u001b[0mcreate_graph\u001b[0m\u001b[0;34m,\u001b[0m\u001b[0;34m\u001b[0m\u001b[0;34m\u001b[0m\u001b[0m\n\u001b[0;32m---> 99\u001b[0;31m         allow_unreachable=True)  # allow_unreachable flag\n\u001b[0m\u001b[1;32m    100\u001b[0m \u001b[0;34m\u001b[0m\u001b[0m\n\u001b[1;32m    101\u001b[0m \u001b[0;34m\u001b[0m\u001b[0m\n",
            "\u001b[0;31mKeyboardInterrupt\u001b[0m: "
          ]
        }
      ]
    },
    {
      "cell_type": "code",
      "metadata": {
        "id": "ymj1rLDMvyhp",
        "colab_type": "code",
        "colab": {}
      },
      "source": [
        "# plot validation accuracy"
      ],
      "execution_count": 0,
      "outputs": []
    },
    {
      "cell_type": "code",
      "metadata": {
        "id": "1je5S1RHVC5R",
        "colab_type": "code",
        "colab": {}
      },
      "source": [
        "# plot training loss"
      ],
      "execution_count": 0,
      "outputs": []
    },
    {
      "cell_type": "markdown",
      "metadata": {
        "id": "q7WjcxXntMi5",
        "colab_type": "text"
      },
      "source": [
        "# Tree LSTM"
      ]
    },
    {
      "cell_type": "markdown",
      "metadata": {
        "id": "jyj_UD6GtO5M",
        "colab_type": "text"
      },
      "source": [
        "In the final part of this lab we will exploit the tree-structure of our data. \n",
        "Until now we only used the surface tokens, but remember that our data examples include trees with a sentiment score at every node.\n",
        "\n",
        "In particular, we will implement **N-ary Tree-LSTMs** which are described in:\n",
        "\n",
        "> Kai Sheng Tai, Richard Socher, and Christopher D. Manning. [Improved Semantic Representations From Tree-Structured Long Short-Term Memory Networks](http://aclweb.org/anthology/P/P15/P15-1150.pdf) ACL 2015.\n",
        "\n",
        "Since our trees are binary, N=2, and we can refer to these as *Binary Tree-LSTMs*.\n",
        "\n",
        "You should read this paper carefully and make sure that you understand the approach. You will also find our LSTM baseline there.\n",
        "Note however that Tree LSTMs were also invented around the same time by two other groups:\n",
        "\n",
        "> Phong Le and Willem Zuidema. [Compositional distributional semantics with long short term memory](http://anthology.aclweb.org/S/S15/S15-1002.pdf). *SEM 2015.\n",
        "\n",
        "> Xiaodan Zhu, Parinaz Sobihani,  and Hongyu Guo. [Long short-term memory over recursive structures](http://proceedings.mlr.press/v37/zhub15.pdf). ICML 2015.\n",
        "\n",
        "It is good scientific practice to cite all three papers in your report.\n",
        "\n",
        "If you study equations (9) to (14) in the paper, you will find that they are not all too different from the original LSTM that you already have.\n",
        "\n",
        "\n"
      ]
    },
    {
      "cell_type": "markdown",
      "metadata": {
        "id": "1rDzvSos3JFp",
        "colab_type": "text"
      },
      "source": [
        "## Computation\n",
        "\n",
        "Do you remember the `transitions_from_treestring` function all the way in the beginning of this lab? Every example contains a **transition sequence** made by this function. Let's look at it again:\n",
        "\n"
      ]
    },
    {
      "cell_type": "code",
      "metadata": {
        "id": "5pg0Xumc3ZUS",
        "colab_type": "code",
        "outputId": "8708c914-ef1c-4d5d-fea4-285dd5ae0b18",
        "colab": {
          "base_uri": "https://localhost:8080/",
          "height": 425
        }
      },
      "source": [
        "ex = next(examplereader(\"trees/dev.txt\"))\n",
        "print(TreePrettyPrinter(ex.tree))\n",
        "print(\"Transitions:\")\n",
        "print(ex.transitions)"
      ],
      "execution_count": 0,
      "outputs": [
        {
          "output_type": "stream",
          "text": [
            "              3                                                                     \n",
            "  ____________|____________________                                                  \n",
            " |                                 4                                                \n",
            " |        _________________________|______________________________________________   \n",
            " |       4                                                                        | \n",
            " |    ___|______________                                                          |  \n",
            " |   |                  4                                                         | \n",
            " |   |         _________|__________                                               |  \n",
            " |   |        |                    3                                              | \n",
            " |   |        |               _____|______________________                        |  \n",
            " |   |        |              |                            4                       | \n",
            " |   |        |              |            ________________|_______                |  \n",
            " |   |        |              |           |                        2               | \n",
            " |   |        |              |           |                 _______|___            |  \n",
            " |   |        3              |           |                |           2           | \n",
            " |   |    ____|_____         |           |                |        ___|_____      |  \n",
            " |   |   |          4        |           3                |       2         |     | \n",
            " |   |   |     _____|___     |      _____|_______         |    ___|___      |     |  \n",
            " 2   2   2    3         2    2     3             2        2   2       2     2     2 \n",
            " |   |   |    |         |    |     |             |        |   |       |     |     |  \n",
            " It  's  a  lovely     film with lovely     performances  by Buy     and Accorsi  . \n",
            "\n",
            "Transitions:\n",
            "[0, 0, 0, 0, 0, 1, 1, 0, 0, 0, 1, 0, 0, 0, 1, 0, 1, 1, 1, 1, 1, 1, 0, 1, 1]\n"
          ],
          "name": "stdout"
        }
      ]
    },
    {
      "cell_type": "markdown",
      "metadata": {
        "id": "ceBFe9fU4BI_",
        "colab_type": "text"
      },
      "source": [
        "Note that the tree is **binary**. Every node has two children, except for pre-terminal nodes.\n",
        "\n",
        "A tree like this can be described by a sequence of **SHIFT (0)** and **REDUCE (1)** actions.\n",
        "\n",
        "We can use the transitions like this to construct the tree:\n",
        "- **reverse** the sentence (a list of tokens) and call this the **buffer**\n",
        "   - the first word is now on top (last in the list), and we would get it when calling pop() on the buffer\n",
        "- create an empty list and call it the **stack**\n",
        "- iterate through the transition sequence:\n",
        "  - if it says SHIFT(0), we pop a word from the buffer, and push it to the stack\n",
        "  - if it says REDUCE(1), we pop the **top two items** from the stack, and combine them (e.g. with a tree LSTM!), creating a new node that we push back on the stack\n",
        "  \n",
        "Convince yourself that going through the transition sequence above will result in the tree that you see.\n",
        "For example, we would start by putting the following words on the stack (by shifting 5 times, starting with `It`):\n",
        "\n",
        "```\n",
        "Top of the stack:\n",
        "-----------------\n",
        "film\n",
        "lovely\n",
        "a \n",
        "'s  \n",
        "It\n",
        "```\n",
        "Now we find a REDUCE in the transition sequence, so we get the top two words (film and lovely), and combine them, so our new stack becomes:\n",
        "```\n",
        "Top of the stack:\n",
        "-----------------\n",
        "lovely film\n",
        "a \n",
        "'s  \n",
        "It\n",
        "```\n",
        "\n",
        "We will use this approach when encoding sentences with our Tree LSTM.\n",
        "Now, our sentence is a (reversed) list of word embeddings.\n",
        "When we shift, we move a word embedding to the stack.\n",
        "When we reduce, we apply a Tree LSTM to the top two vectors, and the result is a single vector that we put back on the stack.\n",
        "After going through the whole transition sequence, we will have the root node on our stack! We can use that to classify the sentence.\n",
        "\n"
      ]
    },
    {
      "cell_type": "markdown",
      "metadata": {
        "id": "pDWKShm1AfmR",
        "colab_type": "text"
      },
      "source": [
        "## Obtaining the transition sequence\n"
      ]
    },
    {
      "cell_type": "markdown",
      "metadata": {
        "id": "fO7VKWVpAbWj",
        "colab_type": "text"
      },
      "source": [
        "\n",
        "So what goes on in the `transitions_from_treestring` function?\n",
        "\n",
        "The idea ([explained in this blog post](https://devblogs.nvidia.com/recursive-neural-networks-pytorch/)) is that, if we had a tree, we could traverse through the tree, and every time that we find a node containing only a word, we output a SHIFT.\n",
        "Every time **after** we have finished visiting the children of a node, we output a REDUCE.\n",
        "(What is this tree traversal called?)\n",
        "\n",
        "However, our `transitions_from_treestring` function operates directly on the string representation. It works as follows.\n",
        "\n",
        "We start with the representation:\n",
        "\n",
        "```\n",
        "(3 (2 It) (4 (4 (2 's) (4 (3 (2 a) (4 (3 lovely) (2 film))) (3 (2 with) (4 (3 (3 lovely) (2 performances)) (2 (2 by) (2 (2 (2 Buy) (2 and)) (2 Accorsi))))))) (2 .)))\n",
        "```\n",
        "\n",
        "First we remove pre-terminal nodes (and add spaces before closing brackets):\n",
        "\n",
        "```\n",
        "(3 It (4 (4 's (4 (3 a (4 lovely film ) ) (3 with (4 (3 lovely performances ) (2 by (2 (2 Buy and )  Accorsi ) ) ) ) ) ) . ) )\n",
        "```\n",
        "\n",
        "Then we remove node labels:\n",
        "\n",
        "```\n",
        "( It ( ( 's ( ( a ( lovely film ) ) ( with ( ( lovely performances) ( by ( ( Buy and )  Accorsi ) ) ) ) ) ) . ) )\n",
        "```\n",
        "\n",
        "Then we remove opening brackets:\n",
        "\n",
        "```\n",
        "It 's a lovely film ) ) with lovely performances ) by Buy and ) Accorsi ) ) ) ) ) ) . ) )\n",
        "```\n",
        "\n",
        "Now we replace words by S (for SHIFT), and closing brackets by R (for REDUCE):\n",
        "\n",
        "```\n",
        "S S S S S R R S S S R S S S R S R R R R R R S R R\n",
        "0 0 0 0 0 1 1 0 0 0 1 0 0 0 1 0 1 1 1 1 1 1 0 1 1 \n",
        "```\n",
        "\n",
        "Et voila. We just obtained the transition sequence!"
      ]
    },
    {
      "cell_type": "code",
      "metadata": {
        "id": "1y069gM4_v64",
        "colab_type": "code",
        "outputId": "e4d90f4a-1ab0-4261-f436-fe5d45945e62",
        "colab": {
          "base_uri": "https://localhost:8080/",
          "height": 51
        }
      },
      "source": [
        "# for comparison\n",
        "seq = ex.transitions\n",
        "s = \" \".join([\"S\" if t == 0 else \"R\" for t in seq])\n",
        "print(s)\n",
        "print(\" \".join(map(str, seq)))"
      ],
      "execution_count": 0,
      "outputs": [
        {
          "output_type": "stream",
          "text": [
            "S S S S S R R S S S R S S S R S R R R R R R S R R\n",
            "0 0 0 0 0 1 1 0 0 0 1 0 0 0 1 0 1 1 1 1 1 1 0 1 1\n"
          ],
          "name": "stdout"
        }
      ]
    },
    {
      "cell_type": "markdown",
      "metadata": {
        "id": "d-qOuKbDAiBn",
        "colab_type": "text"
      },
      "source": [
        "## Coding the Tree LSTM\n",
        "\n",
        "The code below contains a Binary Tree LSTM cell.\n",
        "It is used in the TreeLSTM class below it, which in turn is used in the TreeLSTMClassifier.\n",
        "The job of the TreeLSTM class is to encode a complete sentence and return the root node.\n",
        "The job of the TreeLSTMCell is to return a new state when provided with two children (a reduce action). By repeatedly calling the TreeLSTMCell, the TreeLSTM will encode a sentence. This can be done for multiple sentences at the same time.\n",
        "\n",
        "\n",
        "#### Exercise \n",
        "Check the `forward` function and complete the Tree LSTM formulas.\n",
        "You can see that we defined a large linear layer for you, that projects the *concatenation* of the left and right child into the input gate, left forget gate, right forget gate, candidate, and output gate."
      ]
    },
    {
      "cell_type": "code",
      "metadata": {
        "id": "J9b9mjMlN7Pb",
        "colab_type": "code",
        "colab": {}
      },
      "source": [
        "class TreeLSTMCell(nn.Module):\n",
        "  \"\"\"A Binary Tree LSTM cell\"\"\"\n",
        "\n",
        "  def __init__(self, input_size, hidden_size, bias=True):\n",
        "    \"\"\"Creates the weights for this LSTM\"\"\"\n",
        "    super(TreeLSTMCell, self).__init__()\n",
        "\n",
        "    self.input_size = input_size\n",
        "    self.hidden_size = hidden_size\n",
        "    self.bias = bias\n",
        "\n",
        "    self.reduce_layer = nn.Linear(2 * hidden_size, 5 * hidden_size, bias = bias)\n",
        "    self.dropout_layer = nn.Dropout(p=0.5) # Originally was 0.25 here\n",
        "\n",
        "    self.reset_parameters()\n",
        "\n",
        "  def reset_parameters(self):\n",
        "    \"\"\"This is PyTorch's default initialization method\"\"\"\n",
        "    stdv = 1.0 / math.sqrt(self.hidden_size)\n",
        "    for weight in self.parameters():\n",
        "      weight.data.uniform_(-stdv, stdv)  \n",
        "\n",
        "  def forward(self, hx_l, hx_r, mask=None):\n",
        "    \"\"\"\n",
        "    hx_l is ((batch, hidden_size), (batch, hidden_size))\n",
        "    hx_r is ((batch, hidden_size), (batch, hidden_size))    \n",
        "    \"\"\"\n",
        "    prev_h_l, prev_c_l = hx_l  # left child\n",
        "    prev_h_r, prev_c_r = hx_r  # right child\n",
        "\n",
        "    B = prev_h_l.size(0)\n",
        "\n",
        "    # we concatenate the left and right children\n",
        "    # you can also project from them separately and then sum\n",
        "    children = torch.cat([prev_h_l, prev_h_r], dim=1)\n",
        "    \n",
        "    # # Add use of dropout (Daniel):\n",
        "    children = self.dropout_layer(children)\n",
        "    prev_c_l = self.dropout_layer(prev_c_l)\n",
        "    prev_c_r = self.dropout_layer(prev_c_r)\n",
        "\n",
        "    # project the combined children into a 5D tensor for i,fl,fr,g,o\n",
        "    # this is done for speed, and you could also do it separately\n",
        "    proj = self.reduce_layer(children)  # shape: B x 5D\n",
        "\n",
        "    # # Add use of dropout (Daniel):\n",
        "    # proj = self.dropout_layer(proj)\n",
        "\n",
        "\n",
        "    # each shape: B x D\n",
        "    i, f_l, f_r, g, o = torch.chunk(proj, 5, dim=-1)\n",
        "\n",
        "    # main Tree LSTM computation\n",
        "    \n",
        "    # YOUR CODE HERE\n",
        "    # You only need to complete the commented lines below.\n",
        "    # raise NotImplementedError(\"Implement this.\")\n",
        "\n",
        "    # The shape of each of these is [batch_size, hidden_size]\n",
        "\n",
        "    i = torch.sigmoid( i ) # The linear leayer here handles the calculation with previous hidden states\n",
        "    f_l = torch.sigmoid( f_l )    # The input is treated as a hidden layer as well, so we only do the nonlinearity here\n",
        "    f_r = torch.sigmoid( f_r )\n",
        "    g = torch.tanh( g )# input modulation gate, u in the paper\n",
        "    o = torch.sigmoid( o )\n",
        "\n",
        "    c = i * g + f_l * prev_c_l + f_r * prev_c_r\n",
        "    h = o * torch.tanh( c )\n",
        "    \n",
        "    return h, c\n",
        "  \n",
        "  def __repr__(self):\n",
        "    return \"{}({:d}, {:d})\".format(\n",
        "        self.__class__.__name__, self.input_size, self.hidden_size)"
      ],
      "execution_count": 0,
      "outputs": []
    },
    {
      "cell_type": "code",
      "metadata": {
        "id": "S_QNYcPaA5IV",
        "colab_type": "code",
        "colab": {}
      },
      "source": [
        "class ChildSumLSTMCell(TreeLSTMCell):\n",
        "  def __init__(self, input_size, hidden_size, bias=True):\n",
        "    super(ChildSumLSTMCell, self).__init__(input_size, hidden_size, bias)\n",
        "    self.reduce_layer = nn.Linear(hidden_size, 3 * hidden_size, bias = bias)\n",
        "    self.reduce_layer_forget = nn.Linear(hidden_size, hidden_size, bias = bias)\n",
        "\n",
        "  def forward(self, hx_l, hx_r, mask=None):\n",
        "    \"\"\"\n",
        "    hx_l is ((batch, hidden_size), (batch, hidden_size))\n",
        "    hx_r is ((batch, hidden_size), (batch, hidden_size))    \n",
        "    \"\"\"\n",
        "    prev_h_l, prev_c_l = hx_l  # left child\n",
        "    prev_h_r, prev_c_r = hx_r  # right child\n",
        "\n",
        "    B = prev_h_l.size(0)\n",
        "\n",
        "    # we concatenate the left and right children\n",
        "    # you can also project from them separately and then sum\n",
        "    children = torch.add(prev_h_l, prev_h_r)\n",
        "    \n",
        "    # project the combined children into a 5D tensor for i,fl,fr,g,o\n",
        "    # this is done for speed, and you could also do it separately\n",
        "    proj = self.reduce_layer(children)  # shape: B x 5D\n",
        "    f_l = self.reduce_layer_forget(prev_h_l)\n",
        "    f_r = self.reduce_layer_forget(prev_h_r)\n",
        "    # Add use of dropout (Daniel):\n",
        "    proj = self.dropout_layer(proj)\n",
        "\n",
        "\n",
        "    # each shape: B x D\n",
        "    i, g, o = torch.chunk(proj, 5, dim=-1)\n",
        "\n",
        "    # main Tree LSTM computation\n",
        "    \n",
        "    # YOUR CODE HERE\n",
        "    # You only need to complete the commented lines below.\n",
        "    # raise NotImplementedError(\"Implement this.\")\n",
        "\n",
        "    # The shape of each of these is [batch_size, hidden_size]\n",
        "\n",
        "    i = torch.sigmoid( i ) # The linear leayer here handles the calculation with previous hidden states\n",
        "    f_l = torch.sigmoid( f_l )    # The input is treated as a hidden layer as well, so we only do the nonlinearity here\n",
        "    f_r = torch.sigmoid( f_r )\n",
        "    g = torch.tanh( g )# input modulation gate, u in the paper\n",
        "    o = torch.sigmoid( o )\n",
        "\n",
        "    c = i * g + f_l * prev_c_l + f_r * prev_c_r\n",
        "    h = o * torch.tanh( c )\n",
        "    \n",
        "    return h, c"
      ],
      "execution_count": 0,
      "outputs": []
    },
    {
      "cell_type": "code",
      "metadata": {
        "id": "oVAToN92FVpI",
        "colab_type": "code",
        "colab": {}
      },
      "source": [
        "class LeTreeLSTMCell(TreeLSTMCell):\n",
        "  def __init__(self, input_size, hidden_size, bias=True):\n",
        "    super(LeTreeLSTMCell, self).__init__(input_size, hidden_size, bias)\n",
        "    self.reduce_layer_input_forget = nn.Linear(4 * hidden_size, 2 * hidden_size, bias = bias)\n",
        "    self.reduce_layer_mod = nn.Linear( 2 * hidden_size,  hidden_size, bias = bias)\n",
        "    # self.reduce_layer_mod_r = nn.Linear( hidden_size,  hidden_size, bias = bias)\n",
        "    self.reduce_layer_out = nn.Linear(3* hidden_size,  hidden_size, bias = bias)\n",
        "    del self.reduce_layer # delete inherited reduce layer \n",
        "    # For each gate, 4 inputs (both hidden states and both cell states)\n",
        "    # Input and forget gates have same transformation for left and right gate, but swap their operants\n",
        "    # Input modulation and output gate do not share weights.\n",
        "\n",
        "  def forward(self, hx_l, hx_r, mask=None):\n",
        "    \"\"\"\n",
        "    hx_l is ((batch, hidden_size), (batch, hidden_size))\n",
        "    hx_r is ((batch, hidden_size), (batch, hidden_size))    \n",
        "    \"\"\"\n",
        "    prev_h_l, prev_c_l = hx_l  # left child\n",
        "    prev_h_r, prev_c_r = hx_r  # right child\n",
        "\n",
        "    B = prev_h_l.size(0)\n",
        "\n",
        "    # we concatenate the left and right children\n",
        "    # you can also project from them separately and then sum\n",
        "    children_left = torch.cat([prev_h_l, prev_h_r, prev_c_l, prev_c_r], dim=1)\n",
        "    children_right = torch.cat([prev_h_r, prev_h_l, prev_c_r, prev_c_l], dim=1)\n",
        "    # project the combined children into a 5D tensor for i,fl,fr,g,o\n",
        "    # this is done for speed, and you could also do it separately\n",
        "    input_forget_left = self.reduce_layer_input_forget(children_left)  # shape: B x 5D\n",
        "    input_forget_right = self.reduce_layer_input_forget(children_right)\n",
        "    # mod_out = self.reduce_layer_mod_out(children_left)\n",
        "\n",
        "    # Add use of dropout (Daniel):\n",
        "    input_forget_left = self.dropout_layer(input_forget_left)\n",
        "    input_forget_right = self.dropout_layer(input_forget_right)\n",
        "    # mod_out = self.dropout_layer(mod_out)\n",
        "\n",
        "    # each shape: B x D\n",
        "    i_l, f_l = torch.chunk(input_forget_left, 2, dim=-1)\n",
        "    i_r, f_r = torch.chunk(input_forget_right, 2, dim=-1)\n",
        "\n",
        "    # main Tree LSTM computation\n",
        "    \n",
        "    # YOUR CODE HERE\n",
        "    # You only need to complete the commented lines below.\n",
        "    # raise NotImplementedError(\"Implement this.\")\n",
        "\n",
        "    # The shape of each of these is [batch_size, hidden_size]\n",
        "\n",
        "    i_l = torch.sigmoid( i_l ) # The linear leayer here handles the calculation with previous hidden states\n",
        "    i_r = torch.sigmoid( i_r )\n",
        "    f_l = torch.sigmoid( f_l )    # The input is treated as a hidden layer as well, so we only do the nonlinearity here\n",
        "    f_r = torch.sigmoid( f_r )\n",
        "\n",
        "    g = torch.cat([prev_h_l * i_l, prev_h_r * i_r], dim = 1)\n",
        "    g = self.reduce_layer_mod( g ) \n",
        "    g = torch.tanh( g ) # tanh worked best in Le et al. So using that one\n",
        "    c = g + f_l * prev_c_l + f_r * prev_c_r\n",
        "\n",
        "    o = torch.cat([prev_h_l, prev_h_r, c], dim = 1)\n",
        "    o = self.reduce_layer_out( o )\n",
        "    o = torch.sigmoid( o )\n",
        "\n",
        "    h = o * torch.tanh( c )\n",
        "    \n",
        "    return h, c\n",
        "\n",
        "\n",
        "    # Major differences of Le et al.:\n",
        "    # The output gate is dependent on the current! cell state, not on previous hidden/cell states\n",
        "    #   --> This changes the order of computations\n",
        "    # Input gates operate linearly on input hidden states\n",
        "    # Input gate and forget gate of left and right use the same weight matrices, but they operate on\n",
        "    #   opposite input"
      ],
      "execution_count": 0,
      "outputs": []
    },
    {
      "cell_type": "code",
      "metadata": {
        "id": "wxqGy8fCEeLf",
        "colab_type": "code",
        "colab": {}
      },
      "source": [
        "class ZhuTreeLSTMCell(TreeLSTMCell):\n",
        "  def __init__(self, input_size, hidden_size, bias=True):\n",
        "    super(ZhuTreeLSTMCell, self).__init__(input_size, hidden_size, bias)\n",
        "    self.reduce_layer_input_forget = nn.Linear(4 * hidden_size, 3 * hidden_size, bias = bias)\n",
        "    self.reduce_layer_mod = nn.Linear( 2 * hidden_size,  hidden_size, bias = bias)\n",
        "    self.reduce_layer_out = nn.Linear(3* hidden_size,  hidden_size, bias = bias)\n",
        "    del self.reduce_layer # delete inherited reduce layer \n",
        "    \n",
        "\n",
        "  def forward(self, hx_l, hx_r, mask=None):\n",
        "    \"\"\"\n",
        "    hx_l is ((batch, hidden_size), (batch, hidden_size))\n",
        "    hx_r is ((batch, hidden_size), (batch, hidden_size))    \n",
        "    \"\"\"\n",
        "    prev_h_l, prev_c_l = hx_l  # left child\n",
        "    prev_h_r, prev_c_r = hx_r  # right child\n",
        "\n",
        "    B = prev_h_l.size(0)\n",
        "\n",
        "    # we concatenate the left and right children\n",
        "    # you can also project from them separately and then sum\n",
        "    children_h_c = torch.cat([prev_h_l, prev_h_r, prev_c_l, prev_c_r], dim=1)\n",
        "    children_h = torch.cat([prev_h_l, prev_h_r], dim = 1)\n",
        "\n",
        "    # project the combined children into a 5D tensor for i,fl,fr,g,o\n",
        "    # this is done for speed, and you could also do it separately\n",
        "    input_forget = self.reduce_layer_input_forget(children_h_c)  # shape: B x 5D\n",
        "    mod = self.reduce_layer_mod(children_h)\n",
        "\n",
        "    # Add use of dropout (Daniel):\n",
        "    input_forget = self.dropout_layer(input_forget)\n",
        "    mod = self.dropout_layer(mod)\n",
        "    # mod_out = self.dropout_layer(mod_out)\n",
        "\n",
        "    # each shape: B x D\n",
        "    i, f_l, f_r = torch.chunk(input_forget, 3, dim=-1)\n",
        "    g = mod\n",
        "\n",
        "    # main Tree LSTM computation\n",
        "    \n",
        "    # YOUR CODE HERE\n",
        "    # You only need to complete the commented lines below.\n",
        "    # raise NotImplementedError(\"Implement this.\")\n",
        "\n",
        "    # The shape of each of these is [batch_size, hidden_size]\n",
        "\n",
        "    i = torch.sigmoid( i ) # The linear leayer here handles the calculation with previous hidden states\n",
        "    f_l = torch.sigmoid( f_l )    # The input is treated as a hidden layer as well, so we only do the nonlinearity here\n",
        "    f_r = torch.sigmoid( f_r )\n",
        "\n",
        "    g = torch.tanh( g ) # tanh worked best in Le et al. So using that one\n",
        "    c = f_l * prev_c_l + f_r * prev_c_r + i * g\n",
        "\n",
        "    o = torch.cat([prev_h_l, prev_h_r, c], dim = 1)\n",
        "    o = self.reduce_layer_out( o )\n",
        "    o = torch.sigmoid( o )\n",
        "\n",
        "    h = o * torch.tanh( c )\n",
        "    \n",
        "    return h, c\n",
        "\n",
        "\n",
        "    # Major differences of Le et al.:\n",
        "    # The output gate is dependent on the current! cell state, not on previous hidden/cell states\n",
        "    #   --> This changes the order of computations\n",
        "    # Input gates operate linearly on input hidden states\n",
        "    # Input gate and forget gate of left and right use the same weight matrices, but they operate on\n",
        "    #   opposite input"
      ],
      "execution_count": 0,
      "outputs": []
    },
    {
      "cell_type": "markdown",
      "metadata": {
        "id": "Dj5dYSGh_643",
        "colab_type": "text"
      },
      "source": [
        "## Explanation of the TreeLSTM class\n",
        "\n",
        "\n",
        "The code below contains the TreeLSTM class, which implements everything we need in order to encode a sentence from word embeddings. The calculations are the same as in the paper, implemented such that the class `TreeLSTMCell` above is as general as possible and only takes two children to reduce them into a parent. \n",
        "\n",
        "\n",
        "**Initialize $\\mathbf{h}$ and $\\mathbf{c}$ outside of the cell for the leaves**\n",
        "\n",
        "At the leaves of each tree the children nodes are **empty**, whereas in higher levels the nodes are binary tree nodes that *do* have a left and right child (but no input $x$). By initializing the leaf nodes outside of the cell class (`TreeLSTMCell`), we avoid if-else statements in the forward pass.\n",
        "\n",
        "The `TreeLSTM` class (among other things) pre-calculates an initial $h$ and $c$ for every word in the sentence. Since the initial left and right child are 0, the only calculations we need to do are based on $x$, and we can drop the forget gate calculation (`prev_c_l` and `prev_c_r` are zero). The calculations we do in order to initalize $h$ and $c$ are then:\n",
        "\n",
        "$$\n",
        "c_1 =  W^{(u)}x_1 \\\\\n",
        "o_1 = \\sigma (W^{(i)}x_1) \\\\\n",
        "h_1 = o_1 \\odot \\text{tanh}(c_1)$$\n",
        "*NB: note that these equations are chosen as initializations of $c$ and $h$, other initializations are possible and might work equally well.*\n",
        "\n",
        "**Sentence Representations**\n",
        "\n",
        "All our leaf nodes are now initialized, so we can start processing the sentence in its tree form. Each sentence is represented by a buffer (initially a list with a concatenation of $[h_1, c_1]$ for every word in the reversed sentence), a stack (initially an empty list) and a transition sequence. To encode our sentence, we construct the tree from its transition sequence as explained earlier. \n",
        "\n",
        "*A short example that constructs a tree:*\n",
        "\n",
        "We loop over the time dimension of the batched transition sequences (i.e. row by row), which contain values of 0's, 1's and 2's (representing SHIFT, REDUCE and padding respectively). If we have a batch of size 2 where the first example has a transition sequence given by [0, 0, 1, 0, 0, 0, 1] and the second by [0, 0, 1, 0, 0, 1], our transition batch will be given by the following two-dimensional numpy array:\n",
        "\n",
        "$$\n",
        "\\text{transitions} = \n",
        "\\begin{pmatrix}\n",
        "0 & 0\\\\ \n",
        "0 & 0\\\\ \n",
        "1 & 1\\\\ \n",
        "0 & 0\\\\ \n",
        "0 & 0\\\\ \n",
        "0 & 1\\\\ \n",
        "1 & 2\n",
        "\\end{pmatrix}\n",
        "$$\n",
        "The inner loop (`for transition, buffer, stack in zip(t_batch, buffers, stacks)`) goes over each example in the batch and updates its buffer and stack. The nested loop for this example will then do roughy the following:\n",
        "\n",
        "```\n",
        "Time = 0:  t_batch = [0, 0], the inner loop performs 2 SHIFTs. \n",
        "\n",
        "Time = 1:  t_batch = [0, 0], \"..\"\n",
        "\n",
        "Time = 2:  t_batch = [1, 1], causing the inner loop to fill the list child_l and child_r for both examples in the batch. Now the statement if child_l will return True, triggering a REDUCE action to be performed by our Tree LSTM cell with a batch size of 2. \n",
        "\n",
        "Time = 3:  t_batch = [0, 0], \"..\".\n",
        "\n",
        "Time = 4:  t_batch = [0, 0], \"..\"\n",
        "\n",
        "Time = 5:  t_batch = [0, 1], one SHIFT will be done and another REDUCE action will be performed by our Tree LSTM, this time of batch size 1.  \n",
        "\n",
        "Time = 6:  t_batch = [1, 2], triggering another REDUCE action with batch size 1.\n",
        "```\n",
        "*NB: note that this was an artificial example for the purpose of demonstrating parts of the code, the transition sequences do not necessarily represent actual trees.*\n",
        "\n",
        "**Batching and Unbatching**\n",
        "\n",
        "Within the body of the outer loop over time, we use the functions for batching and unbatching. \n",
        "\n",
        "*Batching*\n",
        "\n",
        "Before passing two lists of children to the reduce layer (an instance of `TreeLSTMCell`), we batch the children as they are at this point a list of tensors of variable length based on how many REDUCE actions there are to perform at a certain time step across the batch (let's call the length `L`). To do an efficient forward pass we want to transform the list to a pair of tensors of shape `([L, D], [L, D])`, which the function `batch` achieves. \n",
        "\n",
        "*Unbatching*\n",
        "\n",
        "In the same line where we batched the children, we unbatch the output of the forward pass to become a list of states of length `L` again. We do this because we need to loop over each example's transition at the current time step and push the children that are reduced into a parent to the stack.\n",
        "\n",
        "*The batch and unbatch functions let us switch between the \"PyTorch world\" (Tensors) and the Python world (easy to manipulate lists).*\n"
      ]
    },
    {
      "cell_type": "code",
      "metadata": {
        "id": "5PixvTd4AqsQ",
        "colab_type": "code",
        "colab": {}
      },
      "source": [
        "# Helper functions for batching and unbatching states\n",
        "# For speed we want to combine computations by batching, but \n",
        "# for processing logic we want to turn the output into lists again\n",
        "# to easily manipulate.\n",
        "\n",
        "def batch(states):\n",
        "  \"\"\"\n",
        "  Turns a list of states into a single tensor for fast processing. \n",
        "  This function also chunks (splits) each state into a (h, c) pair\"\"\"\n",
        "  return torch.cat(states, 0).chunk(2, 1)\n",
        "\n",
        "def unbatch(state):\n",
        "  \"\"\"\n",
        "  Turns a tensor back into a list of states.\n",
        "  First, (h, c) are merged into a single state.\n",
        "  Then the result is split into a list of sentences.\n",
        "  \"\"\"\n",
        "  return torch.split(torch.cat(state, 1), 1, 0)"
      ],
      "execution_count": 0,
      "outputs": []
    },
    {
      "cell_type": "markdown",
      "metadata": {
        "id": "CynltDasaLPt",
        "colab_type": "text"
      },
      "source": [
        "Take some time to understand the class below, having read the explanation above."
      ]
    },
    {
      "cell_type": "code",
      "metadata": {
        "id": "rQOqMXG4gX5G",
        "colab_type": "code",
        "colab": {}
      },
      "source": [
        "class TreeLSTM(nn.Module):\n",
        "  \"\"\"Encodes a sentence using a TreeLSTMCell\"\"\"\n",
        "\n",
        "  def __init__(self, input_size, hidden_size, bias=True, model='tai'):\n",
        "    \"\"\"Creates the weights for this LSTM\"\"\"\n",
        "    super(TreeLSTM, self).__init__()\n",
        "\n",
        "    self.input_size = input_size\n",
        "    self.hidden_size = hidden_size\n",
        "    self.bias = bias\n",
        "    models = {\n",
        "        'tai': TreeLSTMCell(input_size, hidden_size),\n",
        "        'childsum':  ChildSumLSTMCell(input_size, hidden_size),\n",
        "        'le': LeTreeLSTMCell(input_size, hidden_size),\n",
        "        'zhu': ZhuTreeLSTMCell(input_size, hidden_size)\n",
        "    }\n",
        "    self.reduce = models[model]\n",
        "    # if not model:\n",
        "    #   self.reduce = TreeLSTMCell(input_size, hidden_size)\n",
        "    # elif model == 'childsum':\n",
        "    #   self.reduce = ChildSumLSTMCell(input_size, hidden_size)\n",
        "    # elif model == 'le':\n",
        "    #   self.reduce = LeTreeLSTMCell(input_size, hidden_size)\n",
        "\n",
        "    # project word to initial c\n",
        "    self.proj_x = nn.Linear(input_size, hidden_size)\n",
        "    self.proj_x_gate = nn.Linear(input_size, hidden_size)\n",
        "    \n",
        "    self.buffers_dropout = nn.Dropout(p=0.5)\n",
        "\n",
        "  def forward(self, x, transitions):\n",
        "    \"\"\"\n",
        "    WARNING: assuming x is reversed!\n",
        "    :param x: word embeddings [B, T, E]\n",
        "    :param transitions: [2T-1, B]\n",
        "    :return: root states\n",
        "    \"\"\"\n",
        "\n",
        "    B = x.size(0)  # batch size\n",
        "    T = x.size(1)  # time\n",
        "\n",
        "    # compute an initial c and h for each word\n",
        "    # Note: this corresponds to input x in the Tai et al. Tree LSTM paper.\n",
        "    # We do not handle input x in the TreeLSTMCell itself.\n",
        "    buffers_c = self.proj_x(x)\n",
        "    buffers_h = buffers_c.tanh()\n",
        "    buffers_h_gate = self.proj_x_gate(x).sigmoid()\n",
        "    buffers_h = buffers_h_gate * buffers_h\n",
        "    \n",
        "    # concatenate h and c for each word\n",
        "    buffers = torch.cat([buffers_h, buffers_c], dim=-1)\n",
        "\n",
        "    # # Add use of dropout: (Daniel)\n",
        "    # buffers = self.buffers_dropout(buffers)\n",
        "\n",
        "    D = buffers.size(-1) // 2\n",
        "\n",
        "    # we turn buffers into a list of stacks (1 stack for each sentence)\n",
        "    # first we split buffers so that it is a list of sentences (length B)\n",
        "    # then we split each sentence to be a list of word vectors\n",
        "    buffers = buffers.split(1, dim=0)  # Bx[T, 2D]\n",
        "    buffers = [list(b.squeeze(0).split(1, dim=0)) for b in buffers]  # BxTx[2D]\n",
        "\n",
        "    # create B empty stacks\n",
        "    stacks = [[] for _ in buffers]\n",
        "\n",
        "    # t_batch holds 1 transition for each sentence\n",
        "    for t_batch in transitions:\n",
        "\n",
        "      child_l = []  # contains the left child for each sentence with reduce action\n",
        "      child_r = []  # contains the corresponding right child\n",
        "\n",
        "      # iterate over sentences in the batch\n",
        "      # each has a transition t, a buffer and a stack\n",
        "      for transition, buffer, stack in zip(t_batch, buffers, stacks):\n",
        "        if transition == SHIFT:\n",
        "          stack.append(buffer.pop())\n",
        "        elif transition == REDUCE:\n",
        "          assert len(stack) >= 2, \\\n",
        "            \"Stack too small! Should not happen with valid transition sequences\"\n",
        "          child_r.append(stack.pop())  # right child is on top\n",
        "          child_l.append(stack.pop())\n",
        "\n",
        "      # if there are sentences with reduce transition, perform them batched\n",
        "      if child_l:\n",
        "        reduced = iter(unbatch(self.reduce(batch(child_l), batch(child_r))))\n",
        "        for transition, stack in zip(t_batch, stacks):\n",
        "          if transition == REDUCE:\n",
        "            stack.append(next(reduced))\n",
        "\n",
        "    final = [stack.pop().chunk(2, -1)[0] for stack in stacks]\n",
        "    final = torch.cat(final, dim=0)  # tensor [B, D]\n",
        "\n",
        "    return final"
      ],
      "execution_count": 0,
      "outputs": []
    },
    {
      "cell_type": "markdown",
      "metadata": {
        "id": "s4EzbVzqaXkw",
        "colab_type": "text"
      },
      "source": [
        "Just like the LSTM before, we will need an extra class that does the classifications."
      ]
    },
    {
      "cell_type": "code",
      "metadata": {
        "id": "nLxpYRvtQKge",
        "colab_type": "code",
        "colab": {}
      },
      "source": [
        "class TreeLSTMClassifier(nn.Module):\n",
        "  \"\"\"Encodes sentence with a TreeLSTM and projects final hidden state\"\"\"\n",
        "\n",
        "  def __init__(self, vocab_size, embedding_dim, hidden_dim, output_dim, vocab, model = False):\n",
        "    super(TreeLSTMClassifier, self).__init__()\n",
        "    self.vocab = vocab\n",
        "    self.hidden_dim = hidden_dim\n",
        "    self.embed = nn.Embedding(vocab_size, embedding_dim, padding_idx=1)\n",
        "    self.treelstm = TreeLSTM(embedding_dim, hidden_dim, model=model)\n",
        "    self.output_layer = nn.Sequential(     \n",
        "        nn.Dropout(p=0.5),\n",
        "        nn.Linear(hidden_dim, output_dim, bias=True)\n",
        "    )\n",
        "\n",
        "  def forward(self, x):\n",
        "    \n",
        "    # x is a pair here of words and transitions; we unpack it here.\n",
        "    # x is batch-major: [B, T], transitions is time major [2T-1, B]\n",
        "    x, transitions = x\n",
        "    emb = self.embed(x) # So we are not actually using the glove vocab? -> try without\n",
        "    # emb = torch.FloatTensor( x )\n",
        "\n",
        "    # we use the root/top state of the Tree LSTM to classify the sentence\n",
        "    root_states = self.treelstm(emb, transitions)\n",
        "\n",
        "    # we use the last hidden state to classify the sentence\n",
        "    logits = self.output_layer(root_states)\n",
        "    return logits"
      ],
      "execution_count": 0,
      "outputs": []
    },
    {
      "cell_type": "markdown",
      "metadata": {
        "id": "gh9RbhGwaiLg",
        "colab_type": "text"
      },
      "source": [
        "## Special prepare function for Tree LSTM\n",
        "\n",
        "We need yet another prepare function. For our implementation our sentences to be *reversed*. We will do that here."
      ]
    },
    {
      "cell_type": "code",
      "metadata": {
        "id": "DiqH-_2xdm9H",
        "colab_type": "code",
        "colab": {}
      },
      "source": [
        "def prepare_treelstm_minibatch(mb, vocab):\n",
        "  \"\"\"\n",
        "  Returns sentences reversed (last word first)\n",
        "  Returns transitions together with the sentences.  \n",
        "  \"\"\"\n",
        "  batch_size = len(mb)\n",
        "  maxlen = max([len(ex.tokens) for ex in mb])\n",
        "    \n",
        "  # vocab returns 0 if the word is not there\n",
        "  # NOTE: reversed sequence!\n",
        "  x = [pad([vocab.w2i.get(t, 0) for t in ex.tokens], maxlen)[::-1] for ex in mb]\n",
        "  \n",
        "  x = torch.LongTensor(x)\n",
        "  x = x.to(device)\n",
        "  \n",
        "  y = [ex.label for ex in mb]\n",
        "  y = torch.LongTensor(y)\n",
        "  y = y.to(device)\n",
        "  \n",
        "  maxlen_t = max([len(ex.transitions) for ex in mb])\n",
        "  transitions = [pad(ex.transitions, maxlen_t, pad_value=2) for ex in mb]\n",
        "  transitions = np.array(transitions)\n",
        "  transitions = transitions.T  # time-major\n",
        "  \n",
        "  return (x, transitions), y"
      ],
      "execution_count": 0,
      "outputs": []
    },
    {
      "cell_type": "markdown",
      "metadata": {
        "id": "IMUsrlL9ayVe",
        "colab_type": "text"
      },
      "source": [
        "## Training"
      ]
    },
    {
      "cell_type": "code",
      "metadata": {
        "id": "ZzdhUVEEEs0e",
        "colab_type": "code",
        "outputId": "a487f60a-2d1c-491c-e835-210ddcafee25",
        "colab": {
          "base_uri": "https://localhost:8080/",
          "height": 34
        }
      },
      "source": [
        "print(device)"
      ],
      "execution_count": 0,
      "outputs": [
        {
          "output_type": "stream",
          "text": [
            "cuda\n"
          ],
          "name": "stdout"
        }
      ]
    },
    {
      "cell_type": "code",
      "metadata": {
        "id": "IpOYUdg2D3v0",
        "colab_type": "code",
        "outputId": "b2996692-e1b0-43f5-f72d-900f13e29a21",
        "colab": {
          "base_uri": "https://localhost:8080/",
          "height": 231
        }
      },
      "source": [
        "# Now let's train the Tree LSTM!\n",
        "\n",
        "tree_model = TreeLSTMClassifier(\n",
        "    len(V.w2i), vectors.shape[1], 300, len(t2i), V, model='tai') # hidden dim default = 300\n",
        "\n",
        "with torch.no_grad():\n",
        "  tree_model.embed.weight.data.copy_(torch.from_numpy(vectors))\n",
        "  tree_model.embed.weight.requires_grad = False\n",
        "  \n",
        "def do_train(model):\n",
        "  \n",
        "  print(model)\n",
        "  print_parameters(model)\n",
        "\n",
        "  model = model.to(device)\n",
        "\n",
        "  # optimizer = optim.Adam(model.parameters(), lr=2e-4) # Default\n",
        "  # optimizer = optim.Adam(model.parameters(), lr=5e-4, amsgrad=True, weight_decay=1e-3)\n",
        "  optimizer = optim.Adagrad(model.parameters(), lr = 0.05, weight_decay = 1e-4)\n",
        "\n",
        "  return train_model(\n",
        "      model, optimizer, num_iterations=15000, \n",
        "      print_every=250, eval_every=250,\n",
        "      prep_fn=prepare_treelstm_minibatch,\n",
        "      eval_fn=evaluate,\n",
        "      batch_fn=get_minibatch,\n",
        "      batch_size=25, eval_batch_size=25)\n",
        "  \n",
        "# TODO: Original paper only used 150 hidden parameters, try this as well. (might result in a less flexible model that generalizes better)\n",
        "# In the original paper, they perform evaluation over each single labeled node, and they get an accuracy of 49%. We get, without looking at each single node, an \n",
        "# accuracy of around 45%. This is lower than the vanilla LSTM solution, which makes sense - somewhere along the tree information is lost about single words, where \n",
        "# the vanilla LSTM looks at each single word. With enough data, this model might perform better, but we have a pretty small dataset. \n",
        "results = do_train(tree_model)"
      ],
      "execution_count": 0,
      "outputs": [
        {
          "output_type": "error",
          "ename": "NameError",
          "evalue": "ignored",
          "traceback": [
            "\u001b[0;31m---------------------------------------------------------------------------\u001b[0m",
            "\u001b[0;31mNameError\u001b[0m                                 Traceback (most recent call last)",
            "\u001b[0;32m<ipython-input-1-755ac847ecfe>\u001b[0m in \u001b[0;36m<module>\u001b[0;34m()\u001b[0m\n\u001b[1;32m      1\u001b[0m \u001b[0;34m\u001b[0m\u001b[0m\n\u001b[0;32m----> 2\u001b[0;31m tree_model = TreeLSTMClassifier(\n\u001b[0m\u001b[1;32m      3\u001b[0m     len(V.w2i), vectors.shape[1], 300, len(t2i), V, model='tai') # hidden dim default = 300\n\u001b[1;32m      4\u001b[0m \u001b[0;34m\u001b[0m\u001b[0m\n\u001b[1;32m      5\u001b[0m \u001b[0;32mwith\u001b[0m \u001b[0mtorch\u001b[0m\u001b[0;34m.\u001b[0m\u001b[0mno_grad\u001b[0m\u001b[0;34m(\u001b[0m\u001b[0;34m)\u001b[0m\u001b[0;34m:\u001b[0m\u001b[0;34m\u001b[0m\u001b[0;34m\u001b[0m\u001b[0m\n",
            "\u001b[0;31mNameError\u001b[0m: name 'TreeLSTMClassifier' is not defined"
          ]
        }
      ]
    },
    {
      "cell_type": "code",
      "metadata": {
        "id": "DHcHHaLtguUg",
        "colab_type": "code",
        "outputId": "e203e37f-a5b8-46d7-d4cd-f45e3a2ed992",
        "colab": {
          "base_uri": "https://localhost:8080/",
          "height": 495
        }
      },
      "source": [
        "# plot\n",
        "tree_lstm_losses = results[0]\n",
        "tree_lstm_accuracies = results[1]\n",
        "\n",
        "eval_every = 250\n",
        "\n",
        "x = [eval_every * x_ for x_ in range(len(tree_lstm_accuracies))]\n",
        "fig, ax1 = plt.subplots()\n",
        "color = 'red'\n",
        "ax1.set_ylim(bottom = 0, top = 500)\n",
        "\n",
        "ax1.set_ylabel('Loss', color = color)\n",
        "ax1.plot(x, tree_lstm_losses, label = 'Loss', color = color)\n",
        "\n",
        "color = 'blue'\n",
        "ax2 = ax1.twinx()\n",
        "ax2.plot(x, tree_lstm_accuracies, label = 'Accuracy')\n",
        "ax2.set_ylabel('Test accuracy', color = color)\n",
        "ax2.set_ylim(bottom = 0, top = 1)\n",
        "fig.tight_layout()\n",
        "\n",
        "fig.legend(fancybox=True, framealpha=0.5)\n",
        "plt.show()"
      ],
      "execution_count": 0,
      "outputs": [
        {
          "output_type": "display_data",
          "data": {
            "image/png": "[encoded data removed]",
            "text/plain": [
              "<Figure size 640x480 with 2 Axes>"
            ]
          },
          "metadata": {
            "tags": []
          }
        }
      ]
    },
    {
      "cell_type": "markdown",
      "metadata": {
        "id": "f7QZZH86eHqu",
        "colab_type": "text"
      },
      "source": [
        "# Further experiments and report\n",
        "\n",
        "For your report, you are expected to answer research questions by doing further experiments.\n",
        "\n",
        "## Research Questions\n",
        "\n",
        "Make sure you cover at least the following:\n",
        "\n",
        "- How important is word order for this task?\n",
        "    - LSTM (vanilla) used word order - so if it performs better, words order is proven to be important. \n",
        "    - From literature it should be much better\n",
        "    - We find 48% test accuracy for the vanilla LSTM vs 43% for best without    word order \n",
        "- Does the tree structure help to get a better accuracy?\n",
        "    - If Tree LSTM performs better than vanilla LSTM this is true\n",
        "    - We find ~48% test accuracy for the tree LSTM, very similar to normal LSTM \n",
        "    - From literature, the TreeLSTM should be a lot better than the normal LSTM, so **we need to make some improvements.** - Daniel\n",
        "- How does performance depend on the sentence length? Compare the various models. Is there a model that does better on longer sentences? If so, why?\n",
        "    - **We do not have code for this yet. Need to isolate long and short sentences and train models on them.** - Hannah\n",
        "- Do you get better performance if you supervise the sentiment **at each node in the tree**? You can extract more training examples by treating every node in each tree as a separate tree. You will need to write a function that extracts all subtrees given a treestring. \n",
        "    - This can be done in two ways:\n",
        "      **1. Apply output mapping to each level of the tree lstm and compare to targets (that we have). Easiest would be to flatten this into a list, so is same result as option 2.** (Hannah - optie twee is het handigst)\n",
        "      2. **Use subtrees as separate samples, that have no parent. Arguably easier, will result in same performance.**\n",
        "    - Warning: NLTK's Tree function seems to result in invalid trees in some cases, so be careful if you want to parse the string to a tree structure before extraction the phrases.\n",
        "** Other todos:** \n",
        "  - **Implement efficient LSTM** (Hannah)\n",
        "  -**IMprove TreeLSTM performance** (Daniel) - done\n",
        "  - **Make TreeLSTM more efficient** (?)\n",
        "Optionally, you can also investigate the following:\n",
        "\n",
        "- When making a wrong prediction, can you figure out at what point in the tree (sentence) the model fails? You can make a prediction at each node to investigate.\n",
        "  -** This requires looking at a sentence very detailed** (?)\n",
        "- How does N-ary Tree LSTM compare to the Child-Sum Tree LSTM?\n",
        "  - **This requires implementing child-sum tree lstm, which is quite simple** (Daniel) - done\n",
        "- **How do the Tai et al. Tree LSTMs compare to Le & Zuidema's formulation?** (Daniel) \\\\\n",
        "  Le & Zuidema:    Major differences of Le et al.:\n",
        "     The output gate is dependent on the current! cell state, not on previous hidden/cell states\n",
        "       --> This changes the order of computations\n",
        "     Input gates operate linearly on input hidden states\n",
        "Input gate and forget gate of left and right use the same weight matrices, but they operate on\n",
        "opposite input\n",
        "Input into the cell state is different, there is an input gate for each child node, and the input gate is inside the nonlinearity - more granular/flexible input. They use cell state in gates, on top of hidden state/input vector. They propagate the hidden state as the new input vector. Expectation: Might keep hidden state as word embedding. In terms of performance, there is more interplay between the hidden and cell state, so could perform better or worse.  \\\\\n",
        "    Zhu et al: This group uses both the hidden state and the cell state of the node children to tune the gates, and as input to the cell state. They probably use the hidden state for initial inputs. Expectation: More flexible model, that is able to use both long term (cell state) and short term (hidden state) information.\n",
        "- Or.. your own research question!\n",
        "\n",
        "In general:\n",
        "\n",
        "- ***When you report numbers, please report the mean accuracy across 3 (or more) runs with different random seed, together with the standard deviation.*** This is because the final performance may vary per random seed.\n",
        "\n",
        "## Report instructions\n",
        "\n",
        "Your report needs to be written in LaTeX. You are required to use the ACL 2018 template [(zip)](https://acl2018.org/downloads/acl18-latex.zip) which you can edit directly on [Overleaf](https://www.overleaf.com/latex/templates/instructions-for-acl-2018-proceedings/xzmhqgnmkppc). Make sure your names and student numbers are visible at the top. (Tip: you need to uncomment `/aclfinalcopy`).\n",
        "You can find some general tips about writing a research paper [here](https://www.microsoft.com/en-us/research/academic-program/write-great-research-paper/), but note that you need to make your own judgment about what is appropriate for this project. \n",
        "\n",
        "We expect you to use the following structure:\n",
        "1. Introduction (~1 page) - describe the problem, your research questions and goals, a summary of your findings and contributions. Please cite related work (models, data set) as part of your introduction here, since this is a short paper.\n",
        "    - Introduce the task and the main goal\n",
        "    - Clear research questions\n",
        "    - Motivating the importance of the questions and explaining the expectations\n",
        "    - How are these addressed or not addressed in the literature\n",
        "    - What is your approach\n",
        "    - Short summary of your findings\n",
        "2. Background (~1/2-1 page) -\n",
        "cover the main techniques (\"building blocks\") used in your project (e.g. word embeddings, LSTM, Tree LSTM) and intuitions behind them. Be accurate and concise.\n",
        "    - How each technique that you use works (don't just copy the formulas)\n",
        "    - The relation between the techniques\n",
        "3. Models (~1/2 page) - Cover the models that you used.\n",
        "    - The architecture of the final models (how do you use LSTM or Tree LSTM for the sentiment classification task. what layers you have, how do you do classification? What is your loss function?)\n",
        "4. Experiments (~1/2 page) - Describe your experimental setup. The information here should allow someone else to re-create your experiments. Describe how you evaluate the models.\n",
        "    - Explain the task and the data\n",
        "    - Training the models (model, data, parameters and hyper parameters if the models, training algorithms, what supervision signals you use, etc.)\n",
        "    - Evaluation (e.g. metrics)\n",
        "5. Results and Analysis (~1 page). Go over the results and analyse your findings.\n",
        "    - Answer each of the research questions you raised in the introduction.\n",
        "    - Plots and figures highlighting interesting patterns\n",
        "    - What are the factors that makes model A  better than model B in task C? investigate to prove their effect!\n",
        "6. Conclusion (~1/4 page). The main conclusions of your experiments.\n",
        "    - What you learned from you experiments? how does it relate to what is already known in the literature?\n",
        "    - Where the results as expected ? any surprising results? why?\n",
        "    - Based on what you learned what would you suggest to do next?\n",
        "\n",
        "\n",
        "General Tips:\n",
        "\n",
        "- Math notation – define each variable (either in running text, or in a pseudo-legenda after or before the equation)\n",
        "- Define technical terminology you need\n",
        "- Avoid colloquial language – everything can be said in a scientific-sounding way\n",
        "- Avoid lengthy sentences, stay to the point!\n",
        "- Do not spend space on \"obvious\" things!\n",
        "\n",
        "\n",
        "An ideal report:\n",
        "- Precise, scientific-sounding, technical, to the point \n",
        "  - Little general “waffle”/chit-chat\n",
        "- Not boring – because you don’t explain obvious things too much\n",
        "- Efficient delivery of (only) the facts that we need to know to understand/reimplement\n",
        "- Results visually well-presented and described with the correct priority of importance of sub-results\n",
        "- Insightful analysis – speculation should connect to something interesting and not be too much; the reader “learns something new”\n",
        "- No typos, no colloquialisms – well-considered language\n",
        "- This normally means several re-draftings (re-orderings of information)"
      ]
    },
    {
      "cell_type": "code",
      "metadata": {
        "id": "uCINIXV1q1oe",
        "colab_type": "code",
        "colab": {}
      },
      "source": [
        ""
      ],
      "execution_count": 0,
      "outputs": []
    }
  ]
}